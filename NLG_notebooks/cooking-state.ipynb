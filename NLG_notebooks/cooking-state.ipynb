{
 "cells": [
  {
   "cell_type": "code",
   "execution_count": 13,
   "metadata": {},
   "outputs": [
    {
     "name": "stdout",
     "output_type": "stream",
     "text": [
      "CPU times: user 0 ns, sys: 0 ns, total: 0 ns\n",
      "Wall time: 6.91 µs\n",
      "The autotime extension is already loaded. To reload it, use:\n",
      "  %reload_ext autotime\n",
      "The autoreload extension is already loaded. To reload it, use:\n",
      "  %reload_ext autoreload\n",
      "time: 2.53 s\n"
     ]
    }
   ],
   "source": [
    "%time\n",
    "%load_ext autotime\n",
    "%load_ext autoreload\n",
    "%autoreload 2\n",
    "# add path\n",
    "import os \n",
    "import sys \n",
    "parent_dir = os.path.abspath(os.getcwd()+'/..')+'/' \n",
    "sys.path.append(parent_dir) \n",
    "\n",
    "import pandas as pd\n",
    "import numpy as np\n",
    "from utils.save import make_dir, save_pickle, load_pickle, auto_save_csv, print_time, auto_save_pickle"
   ]
  },
  {
   "cell_type": "code",
   "execution_count": 6,
   "metadata": {},
   "outputs": [
    {
     "name": "stdout",
     "output_type": "stream",
     "text": [
      "time: 8.66 ms\n"
     ]
    }
   ],
   "source": [
    "attr_assignments_by_verb = load_pickle('../../npn-cooking-data/cooking_dataset/lexicon/attr_assignments_by_verb.pickle')"
   ]
  },
  {
   "cell_type": "code",
   "execution_count": 7,
   "metadata": {},
   "outputs": [
    {
     "name": "stdout",
     "output_type": "stream",
     "text": [
      "time: 10.8 ms\n"
     ]
    }
   ],
   "source": [
    "state_change_by_verb_ncl = load_pickle('../../npn-cooking-data/cooking_dataset/lexicon/state_change_by_verb_ncl.pickle')"
   ]
  },
  {
   "cell_type": "code",
   "execution_count": 10,
   "metadata": {},
   "outputs": [
    {
     "data": {
      "text/plain": [
       "['temperature']"
      ]
     },
     "execution_count": 10,
     "metadata": {},
     "output_type": "execute_result"
    },
    {
     "name": "stdout",
     "output_type": "stream",
     "text": [
      "time: 19.3 ms\n"
     ]
    }
   ],
   "source": [
    "attr_assignments_by_verb['ignite']"
   ]
  },
  {
   "cell_type": "code",
   "execution_count": 53,
   "metadata": {},
   "outputs": [
    {
     "data": {
      "text/plain": [
       "{'temperature': 'cold'}"
      ]
     },
     "execution_count": 53,
     "metadata": {},
     "output_type": "execute_result"
    },
    {
     "name": "stdout",
     "output_type": "stream",
     "text": [
      "time: 19 ms\n"
     ]
    }
   ],
   "source": [
    "state_change_by_verb_ncl['refrigerate']"
   ]
  },
  {
   "cell_type": "code",
   "execution_count": 69,
   "metadata": {},
   "outputs": [
    {
     "name": "stdout",
     "output_type": "stream",
     "text": [
      "time: 31.6 ms\n"
     ]
    }
   ],
   "source": [
    "# data_df = pd.read_json('../../npn-cooking-data/cooking_dataset/recipes/zymi_yia_filo_homemade_filo_dough.json', lines=True)\n",
    "data_df = pd.read_json('../../npn-cooking-data/cooking_dataset/recipes/zuleika_cake.json', lines=True)"
   ]
  },
  {
   "cell_type": "code",
   "execution_count": 63,
   "metadata": {},
   "outputs": [
    {
     "data": {
      "text/plain": [
       "events                 {'11': {'cookedness': ['cooked'], 'temperature...\n",
       "id                                    zwei-bohnenensuppe two bean soup 1\n",
       "ing_type               {'11': 2, '10': 2, '13': 1, '12': 1, '1': 1, '...\n",
       "ingredient_list        [white_bean, potato, ham, butter, cut_green_be...\n",
       "ingredients            {'11': [7], '10': [7], '13': [12], '12': [9, 1...\n",
       "ingredients_nocoref    {'13': [12], '12': [9, 11], '1': [0], '0': [0,...\n",
       "split                                                              train\n",
       "text                   {'11': ['stir', 'mixture', 'into', 'the', 'sou...\n",
       "verb                   {'11': ['simmer', 'stir'], '10': ['cook'], '13...\n",
       "Name: 0, dtype: object"
      ]
     },
     "execution_count": 63,
     "metadata": {},
     "output_type": "execute_result"
    },
    {
     "name": "stdout",
     "output_type": "stream",
     "text": [
      "time: 27.2 ms\n"
     ]
    }
   ],
   "source": [
    "data_df.iloc[0]"
   ]
  },
  {
   "cell_type": "code",
   "execution_count": 28,
   "metadata": {},
   "outputs": [
    {
     "name": "stdout",
     "output_type": "stream",
     "text": [
      "{'1': {'composition': ['change']}, '0': {'location': ['bowl'], 'composition': ['change']}, '3': {'temperature': ['cold']}, '2': {'composition': ['change']}, '5': {'shape': ['molded'], 'rotation': ['turned'], 'composition': ['change']}, '4': {'shape': ['separated'], 'temperature': ['cold'], 'composition': ['change']}, '6': {'shape': ['deformed'], 'composition': ['change']}}\n",
      "zymi yia filo homemade filo dough\n",
      "{'1': 1, '0': 1, '3': 2, '2': 1, '5': 2, '4': 2, '7': 3, '6': 1, '9': 3, '8': 3}\n",
      "['flour', 'vegetable_oil', 'salt', 'water', 'baking_powder', 'butter', 'margarine']\n",
      "{'1': [1, 5], '0': [0, 2, 4], '3': [3], '2': [3], '5': [3], '4': [3], '6': [6]}\n",
      "{'1': [1, 5], '0': [0, 2, 4], '2': [3], '6': [6]}\n",
      "train\n",
      "{'1': ['mix', 'in', 'butter', 'and', 'oil', 'until', 'well', 'blended', ',', 'using', 'your', 'fingers', ',', 'a', 'fork', ',', 'or', 'a', 'pastry', 'blender', '.'], '0': ['sift', 'together', 'flour', ',', 'salt', 'and', 'baking', 'powder', 'in', 'a', 'large', 'bowl', '.'], '3': ['wrap', 'in', 'plastic', 'wrap', 'and', 'refrigerate', 'for', 'several', 'hours', '.'], '2': ['gradually', 'add', 'just', 'enough', 'water', 'so', 'dough', 'sticks', 'together', 'in', 'a', 'ball', '.'], '5': ['on', 'a', 'floured', 'surface', ',', 'roll', 'a', 'portion', 'of', 'the', 'dough', 'into', 'a', 'ball', ',', 'then', 'roll', 'the', 'ball', 'out', 'into', 'a', 'large', ',', 'thin', 'circle', '.'], '4': ['remove', 'dough', 'from', 'refrigerate', 'and', 'divide', 'into', '11', 'equal', 'portions', ',', '6', 'for', 'the', 'bottom', 'of', 'the', 'pan', 'and', '5', 'for', 'the', 'top', 'if', 'making', 'a', 'large', 'pita', 'or', 'baklava', '.'], '7': ['stack', 'circles', 'as', 'each', 'is', 'rolled', 'and', 'buttered', '.'], '6': ['spread', 'with', 'melted', 'butter', ',', 'repeating', 'with', 'rest', 'of', 'dough', '.'], '9': ['adapted', 'from', 'vilma', 'liacouras', \"'\", '``', 'the', 'food', 'of', 'greece', \"''\", '.'], '8': ['use', 'immediately', '.']}\n",
      "{'1': ['mix', 'oil'], '0': ['flour'], '3': ['wrap', 'refrigerate'], '2': ['add'], '5': ['roll', 'thin'], '4': ['refrigerate', 'divide', 'remove'], '6': ['spread'], '9': ['<NO_CHANGE>'], '8': ['<NO_CHANGE>']}\n",
      "time: 13.3 ms\n"
     ]
    }
   ],
   "source": [
    "for col in data_df.iloc[0]:\n",
    "    print(col)"
   ]
  },
  {
   "cell_type": "code",
   "execution_count": null,
   "metadata": {},
   "outputs": [],
   "source": [
    "['sift', 'together', 'flour', ',', 'salt', 'and', 'baking', 'powder', 'in', 'a', 'large', 'bowl', '.']"
   ]
  },
  {
   "cell_type": "code",
   "execution_count": null,
   "metadata": {},
   "outputs": [],
   "source": [
    "['mix', 'in', 'butter', 'and', 'oil', 'until', 'well', 'blended', ',', 'using', 'your', 'fingers', ',', 'a', 'fork', ',', 'or', 'a', 'pastry', 'blender', '.']"
   ]
  },
  {
   "cell_type": "code",
   "execution_count": null,
   "metadata": {},
   "outputs": [],
   "source": [
    "['gradually', 'add', 'just', 'enough', 'water', 'so', 'dough', 'sticks', 'together', 'in', 'a', 'ball', '.']"
   ]
  },
  {
   "cell_type": "code",
   "execution_count": null,
   "metadata": {},
   "outputs": [],
   "source": [
    "['wrap', 'in', 'plastic', 'wrap', 'and', 'refrigerate', 'for', 'several', 'hours', '.']"
   ]
  },
  {
   "cell_type": "code",
   "execution_count": 70,
   "metadata": {},
   "outputs": [
    {
     "name": "stdout",
     "output_type": "stream",
     "text": [
      "yes grease a 28-cm/11-inch cake tin with a removable base with 2 tsp butter .\n",
      "butter grease\n",
      "coat with the breadcrumbs .\n",
      "coat\n",
      "preheat the oven to 200 c/400 f/gas mark 4 .\n",
      "preheat\n",
      "mix the almonds with the sugar .\n",
      "mix\n",
      "beat the egg whites to form stiff peaks .\n",
      "beat\n",
      "fold into the almond mixture .\n",
      "fold\n",
      "pour the mixture into the prepared cake tin .\n",
      "pour\n",
      "bake for 18-20 mins in the bottom of the oven .\n",
      "bake\n",
      "mix all the ingredients for the icing in a saucepan .\n",
      "mix\n",
      "simmer slowly over low heat until the cream has thickened .\n",
      "heat simmer\n",
      "add a little boiling water if the cream starts to separate or curdle .\n",
      "add separate\n",
      "set aside to cool .\n",
      "set cool\n",
      "spread or pipe the cream on top of the cake base .\n",
      "pipe spread\n",
      "time: 37.5 ms\n"
     ]
    }
   ],
   "source": [
    "for i in range(13):\n",
    "    s = ' '.join(data_df.iloc[0]['text'][\"%s\"%i])\n",
    "    print(s)\n",
    "    s = ' '.join(data_df.iloc[0]['verb'][\"%s\"%i])\n",
    "    print(s)"
   ]
  },
  {
   "cell_type": "code",
   "execution_count": null,
   "metadata": {},
   "outputs": [],
   "source": [
    "# verbs: use matching\n",
    "# for the noun: use matching, if fails to match, then copy the previous noun\n",
    "# if verb belongs to composition: then it means change (no other options)\n",
    "# the location state is additionally decided from the context (seems to be another dictionary approach) ==> FOUND"
   ]
  },
  {
   "cell_type": "code",
   "execution_count": null,
   "metadata": {},
   "outputs": [],
   "source": [
    "{'1': ['mix', 'oil'], '0': ['flour'], '3': ['wrap', 'refrigerate'], '2': ['add'], '5': ['roll', 'thin'], '4': ['refrigerate', 'divide', 'remove'], '6': ['spread'], '9': ['<NO_CHANGE>'], '8': ['<NO_CHANGE>']}"
   ]
  },
  {
   "cell_type": "code",
   "execution_count": null,
   "metadata": {},
   "outputs": [],
   "source": [
    "'0': {'location': ['bowl'], 'composition': ['change']},\n",
    "'1': {'composition': ['change']},\n",
    "'2': {'composition': ['change']},\n",
    "'3': {'temperature': ['cold']},\n",
    "'4': {'shape': ['separated'], 'temperature': ['cold'], 'composition': ['change']}, \n",
    "'5': {'shape': ['molded']},\n",
    "'6': {'shape': ['deformed'], 'composition': ['change']}"
   ]
  },
  {
   "cell_type": "code",
   "execution_count": null,
   "metadata": {},
   "outputs": [],
   "source": [
    "{'1': {'composition': ['change']}, '0': {'location': ['bowl'], 'composition': ['change']}, '3': {'temperature': ['cold']}, '2': {'composition': ['change']}, '5': {'shape': ['molded'], 'rotation': ['turned'], 'composition': ['change']}, '4': {'shape': ['separated'], 'temperature': ['cold'], 'composition': ['change']}, '6': {'shape': ['deformed'], 'composition': ['change']}}"
   ]
  },
  {
   "cell_type": "code",
   "execution_count": 50,
   "metadata": {},
   "outputs": [
    {
     "data": {
      "text/plain": [
       "['shape', 'composition']"
      ]
     },
     "execution_count": 50,
     "metadata": {},
     "output_type": "execute_result"
    },
    {
     "name": "stdout",
     "output_type": "stream",
     "text": [
      "time: 24.6 ms\n"
     ]
    }
   ],
   "source": [
    "attr_assignments_by_verb['spread']"
   ]
  },
  {
   "cell_type": "code",
   "execution_count": 54,
   "metadata": {},
   "outputs": [
    {
     "data": {
      "text/plain": [
       "{'temperature': 'cold'}"
      ]
     },
     "execution_count": 54,
     "metadata": {},
     "output_type": "execute_result"
    },
    {
     "name": "stdout",
     "output_type": "stream",
     "text": [
      "time: 14.9 ms\n"
     ]
    }
   ],
   "source": [
    "state_change_by_verb_ncl['refrigerate']"
   ]
  }
 ],
 "metadata": {
  "kernelspec": {
   "display_name": "Python 3",
   "language": "python",
   "name": "python3"
  },
  "language_info": {
   "codemirror_mode": {
    "name": "ipython",
    "version": 3
   },
   "file_extension": ".py",
   "mimetype": "text/x-python",
   "name": "python",
   "nbconvert_exporter": "python",
   "pygments_lexer": "ipython3",
   "version": "3.6.6"
  }
 },
 "nbformat": 4,
 "nbformat_minor": 2
}
