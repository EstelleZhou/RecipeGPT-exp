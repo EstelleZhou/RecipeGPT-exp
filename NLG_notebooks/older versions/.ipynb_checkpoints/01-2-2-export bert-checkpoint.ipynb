{
 "cells": [
  {
   "cell_type": "code",
   "execution_count": 2,
   "metadata": {},
   "outputs": [
    {
     "name": "stdout",
     "output_type": "stream",
     "text": [
      "CPU times: user 0 ns, sys: 0 ns, total: 0 ns\n",
      "Wall time: 4.77 µs\n"
     ]
    }
   ],
   "source": [
    "%time\n",
    "%load_ext autotime\n",
    "%load_ext autoreload\n",
    "%autoreload 2\n",
    "import os\n",
    "from utils.path import dir_HugeFiles\n",
    "from utils.preprocessing import load, preprocessing\n",
    "from utils.words import clean_wordcount, replace_UNK, make_corpus, get_wordcount, make_corpus_0\n",
    "from utils.save import make_dir, save_pickle, load_pickle\n",
    "from utils.word2vec import train_wordvec\n",
    "from sklearn.model_selection import train_test_split\n",
    "\n",
    "import pandas as pd\n",
    "import numpy as np\n",
    "import seaborn as sns"
   ]
  },
  {
   "cell_type": "code",
   "execution_count": 19,
   "metadata": {},
   "outputs": [
    {
     "name": "stdout",
     "output_type": "stream",
     "text": [
      "exist\n",
      "time: 16.2 s\n"
     ]
    }
   ],
   "source": [
    "dir_save = os.path.normpath(dir_HugeFiles+'dph/dic_20190607.pickle')\n",
    "dic = load(dir_save)"
   ]
  },
  {
   "cell_type": "code",
   "execution_count": 6,
   "metadata": {},
   "outputs": [
    {
     "name": "stdout",
     "output_type": "stream",
     "text": [
      "drop 46 recipes with less than 2 ingredients\n",
      "furthur drop 1026 recipes with less than 2 instructions\n",
      "time: 168 ms\n"
     ]
    }
   ],
   "source": [
    "ls = [i for i,v in dic.items() if len(v['ingredients'])>1]\n",
    "print('drop %d recipes with less than 2 ingredients' %(len(dic)-len(ls)))\n",
    "ls = [i for i in ls if len(dic[i]['directions'])>1]\n",
    "print('furthur drop %d recipes with less than 2 instructions' %(len(dic)-len(ls)))"
   ]
  },
  {
   "cell_type": "markdown",
   "metadata": {},
   "source": [
    "### prepare input of bert "
   ]
  },
  {
   "cell_type": "code",
   "execution_count": 23,
   "metadata": {},
   "outputs": [
    {
     "name": "stdout",
     "output_type": "stream",
     "text": [
      "time: 6.54 s\n"
     ]
    }
   ],
   "source": [
    "# load amt\n",
    "amt_hGI_pos = load_pickle('data/amt_hGI_pos.pickle')\n",
    "\n",
    "# add amt tags\n",
    "for i, v in dic.items():\n",
    "    if i in amt_hGI_pos.keys():\n",
    "        v['UD'] = amt_hGI_pos[i] \n",
    "ls = list(amt_hGI_pos.keys())"
   ]
  },
  {
   "cell_type": "code",
   "execution_count": 24,
   "metadata": {},
   "outputs": [
    {
     "name": "stdout",
     "output_type": "stream",
     "text": [
      "time: 2.22 s\n"
     ]
    }
   ],
   "source": [
    "df = pd.DataFrame.from_dict(dic, orient = 'index')\n",
    "df = df.iloc[ls].reset_index()[['index','name_UNK','ingredients_UNK','directions_UNK','UD']]\n",
    "df['name_UNK'] = df['name_UNK'].apply(lambda x: x[0]+' , ')\n",
    "df['ingredients_UNK'] = df['ingredients_UNK'].apply(lambda x: ' , '.join(x))\n",
    "df['directions_UNK'] = df['directions_UNK'].apply(lambda x: ' '.join(x))\n",
    "df['all'] = df['name_UNK']+df['ingredients_UNK']+df['directions_UNK']\n",
    "df['HD'] = (df.UD == 0).astype(int)\n",
    "#df['index'] = df['index'].apply(lambda x: '\"{}\"'.format(x))\n",
    "df['index'] = df['index'].astype(str)"
   ]
  },
  {
   "cell_type": "code",
   "execution_count": 25,
   "metadata": {},
   "outputs": [
    {
     "name": "stdout",
     "output_type": "stream",
     "text": [
      "time: 45.5 ms\n"
     ]
    }
   ],
   "source": [
    "train_bert = df[['index','all','UD','HD']].rename({'index':'id', 'all': 'comment_text'}, axis = 1)\n",
    "#train_bert.to_csv(dir_HugeFiles+'/bert_data/dataset/raw/train.csv', index =False)"
   ]
  },
  {
   "cell_type": "code",
   "execution_count": 26,
   "metadata": {},
   "outputs": [
    {
     "data": {
      "text/html": [
       "<div>\n",
       "<style scoped>\n",
       "    .dataframe tbody tr th:only-of-type {\n",
       "        vertical-align: middle;\n",
       "    }\n",
       "\n",
       "    .dataframe tbody tr th {\n",
       "        vertical-align: top;\n",
       "    }\n",
       "\n",
       "    .dataframe thead th {\n",
       "        text-align: right;\n",
       "    }\n",
       "</style>\n",
       "<table border=\"1\" class=\"dataframe\">\n",
       "  <thead>\n",
       "    <tr style=\"text-align: right;\">\n",
       "      <th></th>\n",
       "      <th>id</th>\n",
       "      <th>comment_text</th>\n",
       "      <th>UD</th>\n",
       "      <th>HD</th>\n",
       "    </tr>\n",
       "  </thead>\n",
       "  <tbody>\n",
       "    <tr>\n",
       "      <th>0</th>\n",
       "      <td>18181</td>\n",
       "      <td>brazilian black bean stew , 1 tablespoon canol...</td>\n",
       "      <td>1.0</td>\n",
       "      <td>0</td>\n",
       "    </tr>\n",
       "    <tr>\n",
       "      <th>1</th>\n",
       "      <td>25569</td>\n",
       "      <td>japanese country style miso and tofu UNK UNK U...</td>\n",
       "      <td>0.0</td>\n",
       "      <td>1</td>\n",
       "    </tr>\n",
       "    <tr>\n",
       "      <th>2</th>\n",
       "      <td>1136</td>\n",
       "      <td>outer UNK style clam dish , 1/3 pound fatback ...</td>\n",
       "      <td>1.0</td>\n",
       "      <td>0</td>\n",
       "    </tr>\n",
       "    <tr>\n",
       "      <th>3</th>\n",
       "      <td>24707</td>\n",
       "      <td>salsa rosa , 3 tablespoons mayonnaise , 1 teas...</td>\n",
       "      <td>0.0</td>\n",
       "      <td>1</td>\n",
       "    </tr>\n",
       "    <tr>\n",
       "      <th>4</th>\n",
       "      <td>23245</td>\n",
       "      <td>creamy artichoke pasta , 12 ounces uncooked sp...</td>\n",
       "      <td>1.0</td>\n",
       "      <td>0</td>\n",
       "    </tr>\n",
       "  </tbody>\n",
       "</table>\n",
       "</div>"
      ],
      "text/plain": [
       "      id                                       comment_text   UD  HD\n",
       "0  18181  brazilian black bean stew , 1 tablespoon canol...  1.0   0\n",
       "1  25569  japanese country style miso and tofu UNK UNK U...  0.0   1\n",
       "2   1136  outer UNK style clam dish , 1/3 pound fatback ...  1.0   0\n",
       "3  24707  salsa rosa , 3 tablespoons mayonnaise , 1 teas...  0.0   1\n",
       "4  23245  creamy artichoke pasta , 12 ounces uncooked sp...  1.0   0"
      ]
     },
     "execution_count": 26,
     "metadata": {},
     "output_type": "execute_result"
    },
    {
     "name": "stdout",
     "output_type": "stream",
     "text": [
      "time: 47.6 ms\n"
     ]
    }
   ],
   "source": [
    "train_bert.head()"
   ]
  },
  {
   "cell_type": "code",
   "execution_count": 27,
   "metadata": {},
   "outputs": [
    {
     "name": "stdout",
     "output_type": "stream",
     "text": [
      "time: 35.3 ms\n"
     ]
    }
   ],
   "source": [
    "from sklearn.model_selection import train_test_split"
   ]
  },
  {
   "cell_type": "code",
   "execution_count": 33,
   "metadata": {},
   "outputs": [
    {
     "name": "stdout",
     "output_type": "stream",
     "text": [
      "time: 8.98 s\n"
     ]
    }
   ],
   "source": [
    "# load amt\n",
    "amt_hGI_pos = load_pickle('data/amt_hGI_pos.pickle')\n",
    "\n",
    "# add amt tags\n",
    "for i, v in dic.items():\n",
    "    if i in amt_hGI_pos.keys():\n",
    "        v['UD'] = amt_hGI_pos[i] \n",
    "ls = list(amt_hGI_pos.keys())\n",
    "\n",
    "df = pd.DataFrame.from_dict(dic, orient = 'index')\n",
    "df = df.iloc[ls].reset_index()[['index','name_UNK','ingredients_UNK','directions_UNK','UD']]\n",
    "df['name_UNK'] = df['name_UNK'].apply(lambda x: x[0]+' , ')\n",
    "df['ingredients_UNK'] = df['ingredients_UNK'].apply(lambda x: ' , '.join(x))\n",
    "df['directions_UNK'] = df['directions_UNK'].apply(lambda x: ' '.join(x))\n",
    "df['all'] = df['name_UNK']+df['ingredients_UNK']+df['directions_UNK']\n",
    "df['index'] = df['index'].astype(str)\n",
    "train_bert = df[['index','all','UD']].rename({'index':'id', 'all': 'comment_text'}, axis = 1)\n",
    "X_train, X_test, y_train, y_test = train_test_split(train_bert.index.tolist(),train_bert.UD, stratify = train_bert.UD)\n",
    "\n",
    "train_bert.iloc[X_train].to_csv(dir_HugeFiles+'bert_0611/dataset/raw/train.csv', index =False)\n",
    "train_bert.iloc[X_test].to_csv(dir_HugeFiles+'bert_0611/dataset/raw/test.csv', index =False)"
   ]
  },
  {
   "cell_type": "code",
   "execution_count": 32,
   "metadata": {},
   "outputs": [
    {
     "data": {
      "text/plain": [
       "0.9577836411609498"
      ]
     },
     "execution_count": 32,
     "metadata": {},
     "output_type": "execute_result"
    },
    {
     "name": "stdout",
     "output_type": "stream",
     "text": [
      "time: 39.8 ms\n"
     ]
    }
   ],
   "source": [
    "# pos weight\n",
    "pos = sum(y_train)\n",
    "total = len(y_train)\n",
    "neg = total- pos\n",
    "neg/pos"
   ]
  },
  {
   "cell_type": "code",
   "execution_count": 34,
   "metadata": {},
   "outputs": [
    {
     "ename": "FileNotFoundError",
     "evalue": "[Errno 2] No such file or directory: '../dir_HugeFiles/bert_0612/dataset/raw/train.csv'",
     "output_type": "error",
     "traceback": [
      "\u001b[0;31m---------------------------------------------------------------------------\u001b[0m",
      "\u001b[0;31mFileNotFoundError\u001b[0m                         Traceback (most recent call last)",
      "\u001b[0;32m<ipython-input-34-af9d72b098fc>\u001b[0m in \u001b[0;36m<module>\u001b[0;34m()\u001b[0m\n\u001b[1;32m     19\u001b[0m \u001b[0;34m\u001b[0m\u001b[0m\n\u001b[1;32m     20\u001b[0m \u001b[0mpath\u001b[0m \u001b[0;34m=\u001b[0m \u001b[0mdir_HugeFiles\u001b[0m\u001b[0;34m+\u001b[0m\u001b[0;34m'bert_0612/'\u001b[0m\u001b[0;34m\u001b[0m\u001b[0m\n\u001b[0;32m---> 21\u001b[0;31m \u001b[0mtrain_bert\u001b[0m\u001b[0;34m.\u001b[0m\u001b[0miloc\u001b[0m\u001b[0;34m[\u001b[0m\u001b[0mX_train\u001b[0m\u001b[0;34m]\u001b[0m\u001b[0;34m.\u001b[0m\u001b[0mto_csv\u001b[0m\u001b[0;34m(\u001b[0m\u001b[0mpath\u001b[0m \u001b[0;34m+\u001b[0m \u001b[0;34m'dataset/raw/train.csv'\u001b[0m\u001b[0;34m,\u001b[0m \u001b[0mindex\u001b[0m \u001b[0;34m=\u001b[0m \u001b[0;32mFalse\u001b[0m\u001b[0;34m)\u001b[0m\u001b[0;34m\u001b[0m\u001b[0m\n\u001b[0m\u001b[1;32m     22\u001b[0m \u001b[0mtrain_bert\u001b[0m\u001b[0;34m.\u001b[0m\u001b[0miloc\u001b[0m\u001b[0;34m[\u001b[0m\u001b[0mX_test\u001b[0m\u001b[0;34m]\u001b[0m\u001b[0;34m.\u001b[0m\u001b[0mto_csv\u001b[0m\u001b[0;34m(\u001b[0m\u001b[0mpath\u001b[0m \u001b[0;34m+\u001b[0m \u001b[0;34m'dataset/raw/test.csv'\u001b[0m\u001b[0;34m,\u001b[0m \u001b[0mindex\u001b[0m \u001b[0;34m=\u001b[0m \u001b[0;32mFalse\u001b[0m\u001b[0;34m)\u001b[0m\u001b[0;34m\u001b[0m\u001b[0m\n\u001b[1;32m     23\u001b[0m \u001b[0;32mfrom\u001b[0m \u001b[0mutils\u001b[0m\u001b[0;34m.\u001b[0m\u001b[0msave\u001b[0m \u001b[0;32mimport\u001b[0m \u001b[0mmake_dir\u001b[0m\u001b[0;34m\u001b[0m\u001b[0m\n",
      "\u001b[0;32m~/anaconda3/lib/python3.7/site-packages/pandas/core/frame.py\u001b[0m in \u001b[0;36mto_csv\u001b[0;34m(self, path_or_buf, sep, na_rep, float_format, columns, header, index, index_label, mode, encoding, compression, quoting, quotechar, line_terminator, chunksize, tupleize_cols, date_format, doublequote, escapechar, decimal)\u001b[0m\n\u001b[1;32m   1743\u001b[0m                                  \u001b[0mdoublequote\u001b[0m\u001b[0;34m=\u001b[0m\u001b[0mdoublequote\u001b[0m\u001b[0;34m,\u001b[0m\u001b[0;34m\u001b[0m\u001b[0m\n\u001b[1;32m   1744\u001b[0m                                  escapechar=escapechar, decimal=decimal)\n\u001b[0;32m-> 1745\u001b[0;31m         \u001b[0mformatter\u001b[0m\u001b[0;34m.\u001b[0m\u001b[0msave\u001b[0m\u001b[0;34m(\u001b[0m\u001b[0;34m)\u001b[0m\u001b[0;34m\u001b[0m\u001b[0m\n\u001b[0m\u001b[1;32m   1746\u001b[0m \u001b[0;34m\u001b[0m\u001b[0m\n\u001b[1;32m   1747\u001b[0m         \u001b[0;32mif\u001b[0m \u001b[0mpath_or_buf\u001b[0m \u001b[0;32mis\u001b[0m \u001b[0;32mNone\u001b[0m\u001b[0;34m:\u001b[0m\u001b[0;34m\u001b[0m\u001b[0m\n",
      "\u001b[0;32m~/anaconda3/lib/python3.7/site-packages/pandas/io/formats/csvs.py\u001b[0m in \u001b[0;36msave\u001b[0;34m(self)\u001b[0m\n\u001b[1;32m    154\u001b[0m             f, handles = _get_handle(self.path_or_buf, self.mode,\n\u001b[1;32m    155\u001b[0m                                      \u001b[0mencoding\u001b[0m\u001b[0;34m=\u001b[0m\u001b[0mencoding\u001b[0m\u001b[0;34m,\u001b[0m\u001b[0;34m\u001b[0m\u001b[0m\n\u001b[0;32m--> 156\u001b[0;31m                                      compression=self.compression)\n\u001b[0m\u001b[1;32m    157\u001b[0m             \u001b[0mclose\u001b[0m \u001b[0;34m=\u001b[0m \u001b[0;32mTrue\u001b[0m\u001b[0;34m\u001b[0m\u001b[0m\n\u001b[1;32m    158\u001b[0m \u001b[0;34m\u001b[0m\u001b[0m\n",
      "\u001b[0;32m~/anaconda3/lib/python3.7/site-packages/pandas/io/common.py\u001b[0m in \u001b[0;36m_get_handle\u001b[0;34m(path_or_buf, mode, encoding, compression, memory_map, is_text)\u001b[0m\n\u001b[1;32m    398\u001b[0m         \u001b[0;32melif\u001b[0m \u001b[0mencoding\u001b[0m\u001b[0;34m:\u001b[0m\u001b[0;34m\u001b[0m\u001b[0m\n\u001b[1;32m    399\u001b[0m             \u001b[0;31m# Python 3 and encoding\u001b[0m\u001b[0;34m\u001b[0m\u001b[0;34m\u001b[0m\u001b[0m\n\u001b[0;32m--> 400\u001b[0;31m             \u001b[0mf\u001b[0m \u001b[0;34m=\u001b[0m \u001b[0mopen\u001b[0m\u001b[0;34m(\u001b[0m\u001b[0mpath_or_buf\u001b[0m\u001b[0;34m,\u001b[0m \u001b[0mmode\u001b[0m\u001b[0;34m,\u001b[0m \u001b[0mencoding\u001b[0m\u001b[0;34m=\u001b[0m\u001b[0mencoding\u001b[0m\u001b[0;34m)\u001b[0m\u001b[0;34m\u001b[0m\u001b[0m\n\u001b[0m\u001b[1;32m    401\u001b[0m         \u001b[0;32melif\u001b[0m \u001b[0mis_text\u001b[0m\u001b[0;34m:\u001b[0m\u001b[0;34m\u001b[0m\u001b[0m\n\u001b[1;32m    402\u001b[0m             \u001b[0;31m# Python 3 and no explicit encoding\u001b[0m\u001b[0;34m\u001b[0m\u001b[0;34m\u001b[0m\u001b[0m\n",
      "\u001b[0;31mFileNotFoundError\u001b[0m: [Errno 2] No such file or directory: '../dir_HugeFiles/bert_0612/dataset/raw/train.csv'"
     ]
    },
    {
     "name": "stdout",
     "output_type": "stream",
     "text": [
      "time: 10 s\n"
     ]
    }
   ],
   "source": [
    "from utils.save import make_dir\n",
    "# load amt\n",
    "amt_hGI_pos = load_pickle('data/amt_hGI_pos.pickle')\n",
    "\n",
    "# add amt tags\n",
    "for i, v in dic.items():\n",
    "    if i in amt_hGI_pos.keys():\n",
    "        v['UD'] = amt_hGI_pos[i] \n",
    "ls = list(amt_hGI_pos.keys())\n",
    "\n",
    "df = pd.DataFrame.from_dict(dic, orient = 'index')\n",
    "df = df.iloc[ls].reset_index()[['index','name_UNK','ingredients_UNK','directions_UNK','UD']]\n",
    "df['name_UNK'] = df['name_UNK'].apply(lambda x: x[0]+' , ')\n",
    "df['ingredients_UNK'] = df['ingredients_UNK'].apply(lambda x: ' , '.join(x))\n",
    "df['directions_UNK'] = df['directions_UNK'].apply(lambda x: ' '.join(x))\n",
    "df['all'] = df['name_UNK']+df['ingredients_UNK']+df['directions_UNK']\n",
    "df['index'] = df['index'].astype(str)\n",
    "train_bert = df[['index','all','UD']].rename({'index':'id', 'all': 'comment_text'}, axis = 1)\n",
    "X_train, X_test, y_train, y_test = train_test_split(train_bert.index.tolist(),train_bert.UD, stratify = train_bert.UD)\n",
    "\n",
    "path = dir_HugeFiles+'bert_0612/'\n",
    "make_dir(path+'dataset/raw/')\n",
    "train_bert.iloc[X_train].to_csv(path + 'dataset/raw/train.csv', index = False)\n",
    "train_bert.iloc[X_test].to_csv(path + 'dataset/raw/test.csv', index = False)\n",
    "\n",
    "make_dir(path+'dataset/processed')\n",
    "make_dir(path+'model/')\n",
    "make_dir(path+'output/checkpoints')\n",
    "make_dir(path+'output/figure')\n",
    "make_dir(path+'output/log')"
   ]
  },
  {
   "cell_type": "code",
   "execution_count": null,
   "metadata": {},
   "outputs": [],
   "source": []
  }
 ],
 "metadata": {
  "kernelspec": {
   "display_name": "Python 3",
   "language": "python",
   "name": "python3"
  },
  "language_info": {
   "codemirror_mode": {
    "name": "ipython",
    "version": 3
   },
   "file_extension": ".py",
   "mimetype": "text/x-python",
   "name": "python",
   "nbconvert_exporter": "python",
   "pygments_lexer": "ipython3",
   "version": "3.7.0"
  }
 },
 "nbformat": 4,
 "nbformat_minor": 2
}
