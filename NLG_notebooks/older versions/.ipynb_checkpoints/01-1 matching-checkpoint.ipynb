{
 "cells": [
  {
   "cell_type": "code",
   "execution_count": 1,
   "metadata": {},
   "outputs": [
    {
     "name": "stdout",
     "output_type": "stream",
     "text": [
      "CPU times: user 0 ns, sys: 0 ns, total: 0 ns\n",
      "Wall time: 10.7 µs\n"
     ]
    }
   ],
   "source": [
    "%time\n",
    "%load_ext autotime\n",
    "%load_ext autoreload\n",
    "%autoreload 2\n",
    "import os\n",
    "import pandas as pd\n",
    "import numpy as np\n",
    "import seaborn as sns\n",
    "import matplotlib.pyplot as plt\n",
    "from copy import deepcopy\n",
    "\n",
    "from utils.path import dir_HugeFiles\n",
    "from utils.preprocessing import load\n",
    "from utils.save import make_dir, save_pickle, load_pickle, auto_save_csv, print_time, auto_save_pickle\n",
    "\n",
    "import warnings\n",
    "warnings.filterwarnings(\"ignore\")\n",
    "import collections"
   ]
  },
  {
   "cell_type": "code",
   "execution_count": 8,
   "metadata": {},
   "outputs": [
    {
     "name": "stdout",
     "output_type": "stream",
     "text": [
      "exist\n",
      "time: 11.3 s\n"
     ]
    }
   ],
   "source": [
    "dir_save = os.path.normpath(dir_HugeFiles+'preprocessing/dic_20190506.pickle')\n",
    "dic = load(dir_save)"
   ]
  },
  {
   "cell_type": "code",
   "execution_count": 24,
   "metadata": {},
   "outputs": [
    {
     "name": "stdout",
     "output_type": "stream",
     "text": [
      "before: 1000 \n",
      "after: 990 \n",
      "506\n",
      "time: 2.8 s\n"
     ]
    }
   ],
   "source": [
    "after_DS = pd.read_csv('data/predict.csv')\n",
    "after_DS = after_DS.iloc[1:]\n",
    "after_DS['id'] = after_DS['Question'].apply(lambda x: int(''.join(filter(str.isdigit, x))))\n",
    "after_DS['GI'] = after_DS['Annotation'].apply(lambda x: int(''.join(filter(str.isdigit, x))))\n",
    "after_DS['AMT'] = after_DS['GI'].apply(lambda x: 0 if x>=4 else 1)\n",
    "\n",
    "print('before: %d '%len(after_DS))\n",
    "after_DS = after_DS[after_DS.GI!=6]\n",
    "print('after: %d '%len(after_DS))\n",
    "\n",
    "print(sum(after_DS.AMT))\n",
    "\n",
    "save_pickle(filename = 'data/amt_hGI_pos.pickle', obj = dict(zip(after_DS.id,after_DS.AMT)), overwrite=False)"
   ]
  },
  {
   "cell_type": "code",
   "execution_count": 40,
   "metadata": {},
   "outputs": [
    {
     "name": "stdout",
     "output_type": "stream",
     "text": [
      "time: 52.9 ms\n"
     ]
    }
   ],
   "source": [
    "# load amt\n",
    "amt_hGI_pos = load_pickle('data/amt_hGI_pos.pickle')\n",
    "\n",
    "# add amt tags\n",
    "for i, v in dic.items():\n",
    "    if i in amt_hGI_pos.keys():\n",
    "        v['AMT'] = amt_hGI_pos[i] \n",
    "ls = list(amt_hGI_pos.keys())"
   ]
  },
  {
   "cell_type": "code",
   "execution_count": 42,
   "metadata": {},
   "outputs": [
    {
     "name": "stdout",
     "output_type": "stream",
     "text": [
      "time: 820 ms\n"
     ]
    }
   ],
   "source": [
    "ingred_ny = [] \n",
    "for i, v in dic.items():\n",
    "    if i in ls:\n",
    "        ingred_ny += v['ingred_ny']\n",
    "c = dict(collections.Counter(ingred_ny))"
   ]
  },
  {
   "cell_type": "code",
   "execution_count": 117,
   "metadata": {},
   "outputs": [
    {
     "name": "stdout",
     "output_type": "stream",
     "text": [
      "time: 27.5 ms\n"
     ]
    }
   ],
   "source": [
    "# prepare a set of frequent words\n",
    "frequent_ingred, infrequent_ingred = [], []\n",
    "for i, v in c.items():\n",
    "    if v>=3:\n",
    "        frequent_ingred.append(i)\n",
    "    else:\n",
    "        infrequent_ingred.append(i)"
   ]
  },
  {
   "cell_type": "code",
   "execution_count": 103,
   "metadata": {},
   "outputs": [
    {
     "name": "stdout",
     "output_type": "stream",
     "text": [
      "olive oil\n",
      "      |||\n",
      "------oil\n",
      "  Score=5\n",
      "\n",
      "olive oil\n",
      "|      ||\n",
      "o------il\n",
      "  Score=5\n",
      "\n",
      "------olive oil\n",
      "      |||||||||\n",
      "salty olive oil\n",
      "  Score=17\n",
      "\n",
      "time: 51.8 ms\n"
     ]
    }
   ],
   "source": [
    "### DEMO sequence alignment, will has a matching score, the score will be higher if has more matching\n",
    "from Bio.pairwise2 import format_alignment, align\n",
    "\n",
    "# Define two sequences to be aligned\n",
    "X = \"olive oil\"\n",
    "Y = \"oil\"\n",
    "Z = 'salty olive oil'\n",
    "\n",
    "# Matching characters are given 2 points,\n",
    "# 1 point is deducted for each mismatching character\n",
    "# 0.5 points are deducted when opening a gap\n",
    "# and 0.1 points are deducted when extending it.\n",
    "alignments = align.globalms(X, Y, 2, -1, -0.5, -0.1)\n",
    "# Use format_alignment method to format the alignments in the list\n",
    "for a in alignments:\n",
    "    print(format_alignment(*a))\n",
    "    \n",
    "alignments = align.globalms(X, Z, 2, -1, -0.5, -0.1)\n",
    "# Use format_alignment method to format the alignments in the list\n",
    "for a in alignments:\n",
    "    print(format_alignment(*a))"
   ]
  },
  {
   "cell_type": "code",
   "execution_count": 192,
   "metadata": {},
   "outputs": [
    {
     "name": "stdout",
     "output_type": "stream",
     "text": [
      "time: 37.6 ms\n"
     ]
    }
   ],
   "source": [
    "def similiarity(X, Y):\n",
    "    match, mismatch, gap, cont_gap = 4, -4, -4, -1\n",
    "    alignments = align.globalms(X, Y, match, mismatch, gap, cont_gap)\n",
    "    score = alignments[0][2]\n",
    "    criteria = 0.8*match*len(X) if not ' ' in X else 0.4*match*len(X)\n",
    "    score = score if score > criteria else 0\n",
    "    return score\n",
    "\n",
    "def most_sim(X, frequent_ingred):\n",
    "    max_score, best_match = 0, None\n",
    "    for j in frequent_ingred:\n",
    "        if similiarity(X, j) > max_score:\n",
    "            max_score = similiarity(X, j)\n",
    "            best_match = j\n",
    "    return best_match, max_score"
   ]
  },
  {
   "cell_type": "code",
   "execution_count": 193,
   "metadata": {},
   "outputs": [
    {
     "name": "stdout",
     "output_type": "stream",
     "text": [
      "time: 1min 20s\n"
     ]
    }
   ],
   "source": [
    "matched = dict()\n",
    "for i in infrequent_ingred:\n",
    "    best_match, max_score = most_sim(i, frequent_ingred)\n",
    "    if best_match:\n",
    "        matched.update({i:best_match})"
   ]
  },
  {
   "cell_type": "code",
   "execution_count": 211,
   "metadata": {},
   "outputs": [
    {
     "data": {
      "text/plain": [
       "(320, 1028, 364)"
      ]
     },
     "execution_count": 211,
     "metadata": {},
     "output_type": "execute_result"
    },
    {
     "name": "stdout",
     "output_type": "stream",
     "text": [
      "time: 25.1 ms\n"
     ]
    }
   ],
   "source": [
    "len(matched), len(infrequent_ingred), len(frequent_ingred)"
   ]
  },
  {
   "cell_type": "code",
   "execution_count": 220,
   "metadata": {},
   "outputs": [
    {
     "data": {
      "text/plain": [
       "<matplotlib.axes._subplots.AxesSubplot at 0x7f85d622c0f0>"
      ]
     },
     "execution_count": 220,
     "metadata": {},
     "output_type": "execute_result"
    },
    {
     "data": {
      "image/png": "[encoded data removed]",
      "text/plain": [
       "<Figure size 432x288 with 1 Axes>"
      ]
     },
     "metadata": {
      "needs_background": "light"
     },
     "output_type": "display_data"
    },
    {
     "name": "stdout",
     "output_type": "stream",
     "text": [
      "time: 1.05 s\n"
     ]
    }
   ],
   "source": [
    "coverage = [] \n",
    "for i, v in dic.items():\n",
    "    if i in ls:\n",
    "        m = np.array([1 if ingred in frequent_ingred or ingred in matched.keys() else 0 for ingred in v['ingred_ny']])\n",
    "        coverage.append(np.mean(m))\n",
    "pd.Series(coverage).hist()"
   ]
  },
  {
   "cell_type": "code",
   "execution_count": null,
   "metadata": {},
   "outputs": [],
   "source": []
  }
 ],
 "metadata": {
  "kernelspec": {
   "display_name": "Python 3",
   "language": "python",
   "name": "python3"
  },
  "language_info": {
   "codemirror_mode": {
    "name": "ipython",
    "version": 3
   },
   "file_extension": ".py",
   "mimetype": "text/x-python",
   "name": "python",
   "nbconvert_exporter": "python",
   "pygments_lexer": "ipython3",
   "version": "3.7.0"
  }
 },
 "nbformat": 4,
 "nbformat_minor": 2
}
