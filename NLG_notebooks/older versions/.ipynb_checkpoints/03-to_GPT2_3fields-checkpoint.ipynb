{
 "cells": [
  {
   "cell_type": "markdown",
   "metadata": {},
   "source": [
    "### Because the field of description looks noisy, we decides to conduct 3 fields generation instead"
   ]
  },
  {
   "cell_type": "code",
   "execution_count": 95,
   "metadata": {},
   "outputs": [
    {
     "name": "stdout",
     "output_type": "stream",
     "text": [
      "CPU times: user 0 ns, sys: 0 ns, total: 0 ns\n",
      "Wall time: 9.78 µs\n",
      "The autotime extension is already loaded. To reload it, use:\n",
      "  %reload_ext autotime\n",
      "The autoreload extension is already loaded. To reload it, use:\n",
      "  %reload_ext autoreload\n",
      "time: 35.3 ms\n"
     ]
    }
   ],
   "source": [
    "%time\n",
    "%load_ext autotime\n",
    "%load_ext autoreload\n",
    "%autoreload 2\n",
    "\n",
    "\n",
    "# if cannot import the modules, add the parent directory to system path might help\n",
    "\n",
    "import os\n",
    "import sys\n",
    "parent_dir = os.path.abspath(os.getcwd()+'/..')+'/'\n",
    "sys.path.append(parent_dir)\n",
    "\n",
    "\n",
    "import os\n",
    "from utils.path import dir_HugeFiles\n",
    "from utils.preprocessing_0716 import load\n",
    "from utils.words import make_corpus_0, get_wordcount_list\n",
    "from utils.save import make_dir, save_pickle, load_pickle, auto_save_csv, print_time\n",
    "from sklearn.model_selection import train_test_split\n",
    "\n",
    "import pandas as pd\n",
    "import numpy as np\n",
    "\n",
    "#dir_save = os.path.normpath(dir_HugeFiles+'dph/dic_20190607.pickle')\n",
    "#dic = load(dir_save)\n",
    "random_seed = 2019"
   ]
  },
  {
   "cell_type": "code",
   "execution_count": 96,
   "metadata": {},
   "outputs": [
    {
     "name": "stdout",
     "output_type": "stream",
     "text": [
      "exist\n",
      "drop 46 recipes with less than 2 ingredients\n",
      "furthur drop 1026 recipes with less than 2 instructions\n",
      "drop 0 recipes with no description\n",
      "now we are using recipe54k 54076\n",
      "time: 3.32 s\n"
     ]
    }
   ],
   "source": [
    "dic = load(dir_save = dir_HugeFiles+'nlg/dic_20190716.pickle')\n",
    "\n",
    "ls = [i for i,v in dic.items() if len(v['ingredients'])>1]\n",
    "print('drop %d recipes with less than 2 ingredients' %(len(dic)-len(ls)))\n",
    "ls = [i for i in ls if len(dic[i]['directions'])>1]\n",
    "print('furthur drop %d recipes with less than 2 instructions' %(len(dic)-len(ls)))\n",
    "desc = [i for i in ls if len(dic[i]['description'])<1]\n",
    "print('drop %d recipes with no description' %(len(desc)))\n",
    "print('now we are using recipe54k %d' % len(ls))"
   ]
  },
  {
   "cell_type": "code",
   "execution_count": 97,
   "metadata": {},
   "outputs": [
    {
     "name": "stdout",
     "output_type": "stream",
     "text": [
      "time: 44.2 ms\n"
     ]
    }
   ],
   "source": [
    "def txt(v, fields, mode = 'train'):\n",
    "    '''\n",
    "    fields: an order list, the last is the field to predict\n",
    "    mode: test/train, return string X, y or X+y\n",
    "    '''\n",
    "    to_write = []\n",
    "    for field in fields:\n",
    "        if field == 'title':\n",
    "            to_write += ['<start-title>']+v['name']+['<end-title>']\n",
    "        if field == 'ingredients':\n",
    "            to_write += ['<start-ingredients>']+[ingr + ' $' for ingr in v[field]]+['<end-ingredients>']\n",
    "        if field == 'directions':\n",
    "            to_write += ['<start-directions>']+v[field]+['<end-directions>']\n",
    "                                                     \n",
    "    if mode == 'train':\n",
    "        return ' '.join(to_write)+'\\n'\n",
    "                                                     \n",
    "    elif mode == 'test':\n",
    "        field_to_predict = '<start-%s> '%fields[-1]\n",
    "        to_X, to_y = ' '.join(to_write).split(field_to_predict)\n",
    "        return to_X+field_to_predict+'\\n', to_y+'\\n'\n",
    "\n",
    "class to_gpt2:\n",
    "    def __init__(self, dic, ls):\n",
    "        ls_train, self.ls_test, _, __ = train_test_split(ls, ls, test_size = 0.2, random_state = random_seed, shuffle = True)\n",
    "        self.ls_train, self.ls_val, _, __ = train_test_split(ls_train, ls_train, test_size = 0.25, random_state = random_seed , shuffle = True)\n",
    "        self.dic = dic\n",
    "    def train(self, ls, filename, overwrite = False, is_val = False):\n",
    "        to_write = ''\n",
    "        for i, v in self.dic.items():\n",
    "            if i in ls:      \n",
    "                to_write += txt(v, ['title','ingredients','directions'])\n",
    "                to_write += txt(v, ['title','directions','ingredients'])\n",
    "                to_write += txt(v, ['ingredients','directions','title'])\n",
    "        if is_val:\n",
    "            self.save(filename + '.val.txt', to_write, overwrite)\n",
    "        else:\n",
    "            self.save(filename + '.train.txt', to_write, overwrite)\n",
    "\n",
    "    def test(self, ls, filename, overwrite = False, is_val = False):\n",
    "        to_X, to_y = '', ''\n",
    "        for i, v in self.dic.items():\n",
    "            if i in ls:  \n",
    "                X1, y1 = txt(v, ['title','ingredients','directions'], mode ='test')\n",
    "                X2, y2 = txt(v, ['title','directions','ingredients'], mode ='test')\n",
    "                X3, y3 = txt(v, ['ingredients','directions','title'], mode ='test')\n",
    "                to_X += (X1 + X2 + X3)\n",
    "                to_y += (y1 + y2 + y3)\n",
    "    \n",
    "        if is_val:\n",
    "            self.save(filename + '.X_val.txt', to_X, overwrite)\n",
    "            self.save(filename + '.y_val.txt', to_y, overwrite)\n",
    "        else:\n",
    "            self.save(filename + '.X_test.txt', to_X, overwrite)\n",
    "            self.save(filename + '.y_test.txt', to_y, overwrite)\n",
    "        \n",
    "    def save(self, filename, to_write, overwrite = False):\n",
    "        make_dir(filename)\n",
    "        if os.path.isfile(filename) == True and overwrite == False:\n",
    "            print('already exists'+filename)\n",
    "        else:    \n",
    "            with open(filename,'w') as f:\n",
    "                f.write('%s' % to_write)\n",
    "            print('saved '+filename)\n",
    "            \n",
    "    def fast_export(self, filename, overwrite = False):\n",
    "        self.train(ls_train, filename, overwrite, is_val = False)\n",
    "        self.train(ls_val, filename, overwrite, is_val = True)\n",
    "        self.test(ls_test, filename, overwrite, is_val = False)\n",
    "        self.test(ls_val, filename, overwrite, is_val = True)"
   ]
  },
  {
   "cell_type": "code",
   "execution_count": 98,
   "metadata": {},
   "outputs": [
    {
     "name": "stdout",
     "output_type": "stream",
     "text": [
      "saved /data/yueliu/RecipeAnalytics_201906/to_gpt2/recipe54k_0802.train.txt\n",
      "saved /data/yueliu/RecipeAnalytics_201906/to_gpt2/recipe54k_0802.val.txt\n",
      "saved /data/yueliu/RecipeAnalytics_201906/to_gpt2/recipe54k_0802.X_test.txt\n",
      "saved /data/yueliu/RecipeAnalytics_201906/to_gpt2/recipe54k_0802.y_test.txt\n",
      "saved /data/yueliu/RecipeAnalytics_201906/to_gpt2/recipe54k_0802.X_val.txt\n",
      "saved /data/yueliu/RecipeAnalytics_201906/to_gpt2/recipe54k_0802.y_val.txt\n",
      "time: 1min 17s\n"
     ]
    }
   ],
   "source": [
    "model = to_gpt2(dic, ls)\n",
    "model.fast_export(dir_HugeFiles+'to_gpt2/recipe54k_0802',overwrite = True)"
   ]
  },
  {
   "cell_type": "code",
   "execution_count": 102,
   "metadata": {},
   "outputs": [
    {
     "name": "stdout",
     "output_type": "stream",
     "text": [
      "saved /data/yueliu/RecipeAnalytics_201906/to_gpt2/recipe54k_0802.test\n",
      "time: 685 ms\n"
     ]
    }
   ],
   "source": [
    "to_write = ''\n",
    "for i, v in dic.items():\n",
    "    if i in ls_test:      \n",
    "        to_write += txt(v, ['title','ingredients','directions'])\n",
    "        to_write += txt(v, ['title','directions','ingredients'])\n",
    "        to_write += txt(v, ['ingredients','directions','title'])\n",
    "\n",
    "model.save(dir_HugeFiles+'to_gpt2/recipe54k_0802.test.txt', to_write, overwrite = False)"
   ]
  },
  {
   "cell_type": "code",
   "execution_count": null,
   "metadata": {},
   "outputs": [],
   "source": []
  }
 ],
 "metadata": {
  "kernelspec": {
   "display_name": "Python 3",
   "language": "python",
   "name": "python3"
  },
  "language_info": {
   "codemirror_mode": {
    "name": "ipython",
    "version": 3
   },
   "file_extension": ".py",
   "mimetype": "text/x-python",
   "name": "python",
   "nbconvert_exporter": "python",
   "pygments_lexer": "ipython3",
   "version": "3.6.6"
  }
 },
 "nbformat": 4,
 "nbformat_minor": 2
}
