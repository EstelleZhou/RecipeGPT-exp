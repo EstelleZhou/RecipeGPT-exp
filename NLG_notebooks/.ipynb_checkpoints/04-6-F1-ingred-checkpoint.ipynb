{
 "cells": [
  {
   "cell_type": "code",
   "execution_count": 1,
   "metadata": {},
   "outputs": [
    {
     "name": "stdout",
     "output_type": "stream",
     "text": [
      "TRAINS Task: overwriting (reusing) task id=87bcc6ea17524420bea9f1333d57b2da\n",
      "2019-09-27 16:35:54,744 - trains.Task - INFO - No repository found, storing script code instead\n",
      "TRAINS Monitor: GPU monitoring is not available, run \"pip install gpustat\"\n",
      "TRAINS results page: files_server: http://10.0.106.144:5909/projects/d7092e97e1174fb4bc1d441040d57553/experiments/87bcc6ea17524420bea9f1333d57b2da/output/log\n"
     ]
    }
   ],
   "source": [
    "from trains import Task\n",
    "task = Task.init(project_name=\"HelenaIngrF1\", task_name=\"default\")\n",
    "logger = Task.current_task().get_logger()"
   ]
  },
  {
   "cell_type": "code",
   "execution_count": 29,
   "metadata": {},
   "outputs": [
    {
     "name": "stdout",
     "output_type": "stream",
     "text": [
      "CPU times: user 0 ns, sys: 0 ns, total: 0 ns\n",
      "Wall time: 13.6 µs\n",
      "The autotime extension is already loaded. To reload it, use:\n",
      "  %reload_ext autotime\n",
      "The autoreload extension is already loaded. To reload it, use:\n",
      "  %reload_ext autoreload\n",
      "time: 50.2 ms\n"
     ]
    }
   ],
   "source": [
    "%time\n",
    "%load_ext autotime\n",
    "%load_ext autoreload\n",
    "%autoreload 2\n",
    "\n",
    "\n",
    "# if cannot import the modules, add the parent directory to system path might help\n",
    "\n",
    "import os, tqdm, sys\n",
    "parent_dir = os.path.abspath(os.getcwd()+'/..')+'/'\n",
    "sys.path.append(parent_dir)\n",
    "\n",
    "from utils.path import dir_HugeFiles\n",
    "from utils.preprocessing import load\n",
    "from utils.save import make_dir, save_pickle, load_pickle, save\n",
    "from sklearn.model_selection import train_test_split\n",
    "\n",
    "import pandas as pd\n",
    "import numpy as np\n",
    "from collections import Counter\n",
    "import spacy\n",
    "import copy\n",
    "import re\n",
    "random_seed = 2019"
   ]
  },
  {
   "cell_type": "code",
   "execution_count": 2,
   "metadata": {},
   "outputs": [
    {
     "name": "stdout",
     "output_type": "stream",
     "text": [
      "exist ../big_data/dic_20190830.pickle\n",
      "drop 46 recipes with less than 2 ingredients\n",
      "furthur drop 1026 recipes with less than 2 instructions\n",
      "drop 0 recipes with no description\n",
      "now we are using recipe54k 54076\n",
      "time: 2.99 s\n"
     ]
    }
   ],
   "source": [
    "dic = load(dir_save = '../big_data/dic_20190830.pickle')\n",
    "ls = [i for i,v in dic.items() if len(v['ingredients'])>1]\n",
    "print('drop %d recipes with less than 2 ingredients' %(len(dic)-len(ls)))\n",
    "ls = [i for i in ls if len(dic[i]['directions'])>1]\n",
    "print('furthur drop %d recipes with less than 2 instructions' %(len(dic)-len(ls)))\n",
    "desc = [i for i in ls if len(dic[i]['description'])<1]\n",
    "print('drop %d recipes with no description' %(len(desc)))\n",
    "print('now we are using recipe54k %d' % len(ls))"
   ]
  },
  {
   "cell_type": "code",
   "execution_count": 4,
   "metadata": {},
   "outputs": [
    {
     "name": "stdout",
     "output_type": "stream",
     "text": [
      "time: 45.9 ms\n"
     ]
    }
   ],
   "source": [
    "### STEP2 load and clean the generation\n",
    "\n",
    "def reverse(text):\n",
    "    '''\n",
    "    Important data cleaning before NY times parser\n",
    "    '''\n",
    "    # replace things in brace\n",
    "    text = re.sub(r'\\([^)]*\\)', '', text)\n",
    "\n",
    "    # remove space before punct\n",
    "    text = re.sub(r'\\s([?.!,\"](?:\\s|$))', r'\\1', text)\n",
    "\n",
    "    # remove consecutive spaces\n",
    "    text = re.sub(' +',' ',text).strip()\n",
    "    return text\n",
    "\n",
    "def reverse_list(listoftext):\n",
    "    output=[]\n",
    "    for text in listoftext:\n",
    "        rev = reverse(text)\n",
    "        if rev:\n",
    "            output.append(rev)\n",
    "    return output\n",
    "\n",
    "def load_dir_data(filename):\n",
    "    ls = []\n",
    "    if os.path.isdir(filename):\n",
    "        print('load', filename)\n",
    "        # Directory\n",
    "        for (dirpath, _, fnames) in os.walk(filename):\n",
    "            for fname in fnames:\n",
    "                path = os.path.join(dirpath, fname)\n",
    "                with open(path, 'r') as fp:\n",
    "                    raw_text = fp.read()\n",
    "                    \n",
    "                # if it contains instr\n",
    "                if fname[-5] == 'd':\n",
    "                    dic[int(fname[:-5])]['generated_instr'] = reverse_list(raw_text.split('.'))\n",
    "\n",
    "                # if it contains ingred\n",
    "                if fname[-5] == 'i':\n",
    "                    dic[int(fname[:-5])]['generated_ingred'] = reverse_list(raw_text.split('$'))\n",
    "                    \n",
    "                # if it contains name\n",
    "                if fname[-5] == 't':\n",
    "                    dic[int(fname[:-5])]['generated_name'] = raw_text\n",
    "                ls.append(int(fname[:-5]))# only interested in instr\n",
    "                    \n",
    "    return sorted(list(set(ls)))"
   ]
  },
  {
   "cell_type": "code",
   "execution_count": 12,
   "metadata": {},
   "outputs": [
    {
     "name": "stdout",
     "output_type": "stream",
     "text": [
      "time: 44.8 ms\n"
     ]
    }
   ],
   "source": [
    "### STEP3 sent to the NYtimes\n",
    "### assign indices to each ingredient <---> NYtimes\n",
    "class ny_ingredients:\n",
    "    def __init__(self, fields):\n",
    "        # this function will take the global variable ls and dic\n",
    "        # static & reuseable\n",
    "        self.ny_ingred = '../../NYtime-parser2/ingred.txt'\n",
    "        self.ny_result = '../../NYtime-parser2/result.json'\n",
    "        \n",
    "        # spacy\n",
    "        self.spacy = spacy.load('en_core_web_lg')\n",
    "        self.fields = fields #['ingredients', 'generated_ingred']\n",
    "\n",
    "    def to_ny(self):\n",
    "        '''\n",
    "        using global variables dic and ls\n",
    "        '''\n",
    "        to_write = []\n",
    "        for i, v in dic.items():\n",
    "            if i in ls:\n",
    "                # assing index\n",
    "                for field in self.fields:\n",
    "                    line_ids = []\n",
    "                    for line in v[field]:\n",
    "                        reversed_line = reverse(line)\n",
    "                        if line in to_write:\n",
    "                            ny_id = to_write.index(reversed_line)\n",
    "                        else:\n",
    "                            ny_id = len(to_write)\n",
    "                            to_write.append(reversed_line)\n",
    "                        line_ids.append(ny_id)\n",
    "                    dic[i]['ny_%s'%(field)] = line_ids\n",
    "\n",
    "        # save the file to the folder under NYtime-parser2\n",
    "        save(filename = self.ny_ingred, \n",
    "             to_write = '\\n'.join(to_write),\n",
    "             overwrite = True, \n",
    "             print_=True)\n",
    "\n",
    "        self.to_write = to_write\n",
    "        \n",
    "    # step 3\n",
    "    def to_ingred(self):\n",
    "        '''\n",
    "        using global variables dic and ls\n",
    "        '''\n",
    "        ny_result = pd.read_json(self.ny_result)\n",
    "        to_write = []\n",
    "        for i, v in dic.items():\n",
    "            if i in ls:\n",
    "                # assing index\n",
    "                for field in self.fields:\n",
    "                    temp = [ny_result.loc[ny_id]['name'] for ny_id in v['ny_%s'%(field)]]\n",
    "                    exact, root = self.extract(temp)\n",
    "                    dic[i]['ny_%s'%(field)] = {'ny':temp, 'exact':exact, 'root':root}\n",
    "                    \n",
    "    def extract(self, ny_ingred):\n",
    "        '''\n",
    "        Args: ny_ingred: a list of ingredient names\n",
    "        '''\n",
    "        phrases_to_sentences = ' '.join(['Mix the %s and water.'%ingr for ingr in ny_ingred])\n",
    "        doc = self.spacy(phrases_to_sentences)\n",
    "        exact_match, root_match = [],[]\n",
    "        for chunk in doc.noun_chunks:\n",
    "            if chunk.text != 'water':\n",
    "                root_lemma = [token.lemma_ for token in doc if token.text == chunk.root.text][0]\n",
    "                exact_match.append(chunk.lemma_.replace('the ',''))\n",
    "                root_match.append(root_lemma)\n",
    "        return exact_match, root_match"
   ]
  },
  {
   "cell_type": "code",
   "execution_count": 5,
   "metadata": {},
   "outputs": [
    {
     "name": "stdout",
     "output_type": "stream",
     "text": [
      "time: 40.9 s\n"
     ]
    }
   ],
   "source": [
    "for i, v in dic.items():\n",
    "    if i in ls:\n",
    "        for field in ['name', 'ingredients', 'directions']:\n",
    "            dic[i][field] = reverse_list(v[field])"
   ]
  },
  {
   "cell_type": "markdown",
   "metadata": {},
   "source": [
    "### send the ground truth to ny parser"
   ]
  },
  {
   "cell_type": "code",
   "execution_count": 6,
   "metadata": {},
   "outputs": [
    {
     "name": "stdout",
     "output_type": "stream",
     "text": [
      "saved ../../NYtime-parser2/ingred.txt\n",
      "time: 4min 13s\n"
     ]
    }
   ],
   "source": [
    "### start                    \n",
    "ny_ingr = ny_ingredients(fields = ['ingredients'])\n",
    "### step 3-1 save it as ingred.txt\n",
    "ny_ingr.to_ny()\n",
    "### step 3-2 go to python2 and run NLG_notebooks/Control Nytimes"
   ]
  },
  {
   "cell_type": "code",
   "execution_count": 7,
   "metadata": {},
   "outputs": [
    {
     "name": "stdout",
     "output_type": "stream",
     "text": [
      "time: 23min 31s\n"
     ]
    }
   ],
   "source": [
    "### step 3-3 load the result.json back to dic\n",
    "ny_ingr.to_ingred()"
   ]
  },
  {
   "cell_type": "code",
   "execution_count": 8,
   "metadata": {},
   "outputs": [
    {
     "name": "stdout",
     "output_type": "stream",
     "text": [
      "time: 4.22 s\n"
     ]
    }
   ],
   "source": [
    "# for the field ingredients\n",
    "save_pickle(obj = dic, filename='../big_data/dic_20190927.pickle', overwrite=False)"
   ]
  },
  {
   "cell_type": "markdown",
   "metadata": {},
   "source": [
    "### send the generated text to ny parser"
   ]
  },
  {
   "cell_type": "code",
   "execution_count": 30,
   "metadata": {},
   "outputs": [
    {
     "name": "stdout",
     "output_type": "stream",
     "text": [
      "exist ../big_data/dic_20190927.pickle\n",
      "time: 3.92 s\n"
     ]
    }
   ],
   "source": [
    "dic = load(dir_save = '../big_data/dic_20190927.pickle')"
   ]
  },
  {
   "cell_type": "code",
   "execution_count": 48,
   "metadata": {},
   "outputs": [
    {
     "name": "stdout",
     "output_type": "stream",
     "text": [
      "load ../../to_gpt2/generation_28k_sorted/\n",
      "time: 236 ms\n"
     ]
    }
   ],
   "source": [
    "filename = '../../to_gpt2/generation_28k_sorted/'\n",
    "ls = load_dir_data(filename)\n",
    "#filename = '../../to_gpt2/generation_1221k_top0.95_new/'\n",
    "#ls = load_dir_data(filename)"
   ]
  },
  {
   "cell_type": "code",
   "execution_count": 59,
   "metadata": {},
   "outputs": [
    {
     "name": "stdout",
     "output_type": "stream",
     "text": [
      "saved ../../NYtime-parser2/ingred.txt\n",
      "time: 11.6 s\n"
     ]
    }
   ],
   "source": [
    "ny_ingr = ny_ingredients(fields = ['generated_ingred'])\n",
    "### step 3-1 save it as ingred.txt\n",
    "ny_ingr.to_ny()\n",
    "### step 3-2 go to python2 and run NLG_notebooks/Control Nytimes"
   ]
  },
  {
   "cell_type": "code",
   "execution_count": 60,
   "metadata": {},
   "outputs": [
    {
     "name": "stdout",
     "output_type": "stream",
     "text": [
      "time: 11.8 s\n"
     ]
    }
   ],
   "source": [
    "### step 3-3 load the result.json back to dic\n",
    "ny_ingr.to_ingred()"
   ]
  },
  {
   "cell_type": "code",
   "execution_count": 45,
   "metadata": {},
   "outputs": [
    {
     "name": "stdout",
     "output_type": "stream",
     "text": [
      "time: 46.6 ms\n"
     ]
    }
   ],
   "source": [
    "from utils.evaluation import metrics"
   ]
  },
  {
   "cell_type": "code",
   "execution_count": 46,
   "metadata": {},
   "outputs": [
    {
     "name": "stderr",
     "output_type": "stream",
     "text": [
      "100%|██████████| 55102/55102 [00:00<00:00, 105638.31it/s]\n"
     ]
    },
    {
     "name": "stdout",
     "output_type": "stream",
     "text": [
      "time: 4.11 s\n"
     ]
    }
   ],
   "source": [
    "for i, v in tqdm.tqdm(dic.items()):\n",
    "    if i in ls:\n",
    "        score = metrics(v['ny_ingredients']['exact'], v['ny_generated_ingred']['exact'])\n",
    "        dic[i].update(score.all_ngram_recall(name='@recall_exact'))\n",
    "        dic[i].update(score.all_ngram_precision(name='@precision_exact'))\n",
    "        score = metrics(v['ny_ingredients']['root'], v['ny_generated_ingred']['root'])\n",
    "        dic[i].update(score.all_recall(name='@recall_root'))\n",
    "        dic[i].update(score.all_precision(name='@precision_root'))        \n",
    "        \n",
    "df2 = pd.DataFrame.from_dict(dic, orient = 'index')\n",
    "temp = df2[[col for col in df2.columns if '@' in col]].iloc[ls].mean()\n",
    "# 333k\n",
    "print(str(temp))"
   ]
  },
  {
   "cell_type": "code",
   "execution_count": 51,
   "metadata": {},
   "outputs": [
    {
     "name": "stderr",
     "output_type": "stream",
     "text": [
      "100%|██████████| 55102/55102 [00:00<00:00, 107341.56it/s]\n"
     ]
    },
    {
     "name": "stdout",
     "output_type": "stream",
     "text": [
      "recall_ngram_@recall_exact               0.654547\n",
      "recall_ngram_freq_@recall_exact          0.653133\n",
      "precision_ngram_@precision_exact         0.750958\n",
      "precision_ngram_freq_@precision_exact    0.675934\n",
      "recall_@recall_root                      0.761633\n",
      "recall_freq_@recall_root                 0.754487\n",
      "precision_@precision_root                0.833324\n",
      "precision_freq_@precision_root           0.728754\n",
      "dtype: float64\n",
      "time: 3.45 s\n"
     ]
    }
   ],
   "source": [
    "# 28k\n",
    "for i, v in tqdm.tqdm(dic.items()):\n",
    "    if i in ls:\n",
    "        score = metrics(v['ny_ingredients']['exact'], v['ny_generated_ingred']['exact'])\n",
    "        dic[i].update(score.all_ngram_recall(name='@recall_exact'))\n",
    "        dic[i].update(score.all_ngram_precision(name='@precision_exact'))\n",
    "        score = metrics(v['ny_ingredients']['root'], v['ny_generated_ingred']['root'])\n",
    "        dic[i].update(score.all_recall(name='@recall_root'))\n",
    "        dic[i].update(score.all_precision(name='@precision_root'))        \n",
    "        \n",
    "df2 = pd.DataFrame.from_dict(dic, orient = 'index')\n",
    "temp = df2[[col for col in df2.columns if '@' in col]].iloc[ls].mean()\n",
    "#logger.report_text(str(temp))\n",
    "print(str(temp))"
   ]
  },
  {
   "cell_type": "code",
   "execution_count": 58,
   "metadata": {},
   "outputs": [
    {
     "name": "stdout",
     "output_type": "stream",
     "text": [
      "load ../../to_gpt2/generation_28k_train/\n",
      "time: 212 ms\n"
     ]
    }
   ],
   "source": [
    "filename = '../../to_gpt2/generation_28k_train/'\n",
    "ls = load_dir_data(filename)"
   ]
  },
  {
   "cell_type": "code",
   "execution_count": 61,
   "metadata": {},
   "outputs": [
    {
     "name": "stderr",
     "output_type": "stream",
     "text": [
      "100%|██████████| 55102/55102 [00:00<00:00, 104246.71it/s]\n"
     ]
    },
    {
     "name": "stdout",
     "output_type": "stream",
     "text": [
      "recall_ngram_@recall_exact               0.671040\n",
      "recall_ngram_freq_@recall_exact          0.667939\n",
      "precision_ngram_@precision_exact         0.752466\n",
      "precision_ngram_freq_@precision_exact    0.676208\n",
      "recall_@recall_root                      0.758691\n",
      "recall_freq_@recall_root                 0.752314\n",
      "precision_@precision_root                0.831289\n",
      "precision_freq_@precision_root           0.726411\n",
      "dtype: float64\n",
      "time: 3.81 s\n"
     ]
    }
   ],
   "source": [
    "for i, v in tqdm.tqdm(dic.items()):\n",
    "    if i in ls:\n",
    "        score = metrics(v['ny_ingredients']['exact'], v['ny_generated_ingred']['exact'])\n",
    "        dic[i].update(score.all_ngram_recall(name='@recall_exact'))\n",
    "        dic[i].update(score.all_ngram_precision(name='@precision_exact'))\n",
    "        score = metrics(v['ny_ingredients']['root'], v['ny_generated_ingred']['root'])\n",
    "        dic[i].update(score.all_recall(name='@recall_root'))\n",
    "        dic[i].update(score.all_precision(name='@precision_root'))        \n",
    "        \n",
    "df2 = pd.DataFrame.from_dict(dic, orient = 'index')\n",
    "temp = df2[[col for col in df2.columns if '@' in col]].iloc[ls].mean()\n",
    "#logger.report_text(str(temp))\n",
    "print(str(temp))"
   ]
  },
  {
   "cell_type": "code",
   "execution_count": 111,
   "metadata": {},
   "outputs": [
    {
     "name": "stdout",
     "output_type": "stream",
     "text": [
      "time: 20.6 ms\n"
     ]
    }
   ],
   "source": [
    "filename = '../../to_gpt2/generation_28k_sorted/'\n",
    "ls = load_dir_data(filename)"
   ]
  },
  {
   "cell_type": "code",
   "execution_count": 116,
   "metadata": {},
   "outputs": [
    {
     "name": "stdout",
     "output_type": "stream",
     "text": [
      "/data/yueliu/RecipeAnalytics_201906/AA6/NLG_notebooks\n",
      "time: 28.3 ms\n"
     ]
    }
   ],
   "source": [
    "cd '/data/yueliu/RecipeAnalytics_201906/AA6/NLG_notebooks'"
   ]
  },
  {
   "cell_type": "markdown",
   "metadata": {},
   "source": [
    "### Calculate the BLEU score"
   ]
  },
  {
   "cell_type": "code",
   "execution_count": 118,
   "metadata": {},
   "outputs": [
    {
     "name": "stdout",
     "output_type": "stream",
     "text": [
      "saved ../../to_gpt2/generation_20191008_inv_truth_t.txt\n",
      "saved ../../to_gpt2/generation_20191008_inv_truth_i.txt\n",
      "saved ../../to_gpt2/generation_20191008_inv_truth_d.txt\n",
      "saved ../../to_gpt2/generation_20191008_inv_pred_t.txt\n",
      "saved ../../to_gpt2/generation_20191008_inv_pred_i.txt\n",
      "saved ../../to_gpt2/generation_20191008_inv_pred_d.txt\n",
      "time: 38.2 ms\n"
     ]
    }
   ],
   "source": [
    "def add_space(line):\n",
    "    # add space before punct\n",
    "    line = re.sub('([.,!?()])', r' \\1 ', line)\n",
    "    line = re.sub('\\s{2,}', ' ', line)\n",
    "    return line\n",
    "\n",
    "to_write = {'truth_t':'', 'truth_i':'', 'truth_d':'',\n",
    "            'pred_t':'', 'pred_i':'', 'pred_d':''\n",
    "           }\n",
    "for i, v in dic.items():\n",
    "    if i in ls:\n",
    "        to_write['truth_t'] += add_space(' '.join(v['name'])) + '\\n'\n",
    "        to_write['truth_i'] += add_space(' $ '.join(v['ingredients']))+ ' $ \\n'\n",
    "        to_write['truth_d'] += add_space(' '.join(v['directions'])) + ' . \\n'\n",
    "        to_write['pred_t'] += add_space(v['generated_name']) + '\\n'\n",
    "        to_write['pred_i'] += add_space(' $ '.join(v['generated_ingred'])) + ' $ \\n'\n",
    "        to_write['pred_d'] += add_space(' . '.join(v['generated_instr'])) + ' . \\n'\n",
    "        \n",
    "for k, v in to_write.items():\n",
    "    save('../../to_gpt2/generation_20191008_inv_%s.txt'%(k), v ,overwrite = True)"
   ]
  },
  {
   "cell_type": "code",
   "execution_count": 105,
   "metadata": {},
   "outputs": [
    {
     "name": "stdout",
     "output_type": "stream",
     "text": [
      "/data/yueliu/RecipeAnalytics_201906/AA6/NLG_notebooks/tools\n",
      "time: 37 ms\n"
     ]
    }
   ],
   "source": [
    "cd tools"
   ]
  },
  {
   "cell_type": "code",
   "execution_count": 102,
   "metadata": {},
   "outputs": [
    {
     "name": "stdout",
     "output_type": "stream",
     "text": [
      "BLEU = 5.51, 34.4/11.0/2.9/0.9 (BP=0.976, ratio=0.976, hyp_len=1952, ref_len=2000)\n",
      "It is not advisable to publish scores from multi-bleu.perl.  The scores depend on your tokenizer, which is unlikely to be reproducible from your paper or consistent across research groups.  Instead you should detokenize then use mteval-v14.pl, which has a standard tokenization.  Scores from multi-bleu.perl can still be used for internal purposes when you have a consistent tokenizer.\n",
      "time: 337 ms\n"
     ]
    }
   ],
   "source": [
    "!perl multi-bleu.perl ../../../to_gpt2/generation_28k_train_truth_t.txt < ../../../to_gpt2/generation_28k_train_pred_t.txt"
   ]
  },
  {
   "cell_type": "code",
   "execution_count": 106,
   "metadata": {},
   "outputs": [
    {
     "name": "stdout",
     "output_type": "stream",
     "text": [
      "BLEU = 13.95, 53.2/22.0/9.8/4.9 (BP=0.906, ratio=0.910, hyp_len=57317, ref_len=62953)\n",
      "It is not advisable to publish scores from multi-bleu.perl.  The scores depend on your tokenizer, which is unlikely to be reproducible from your paper or consistent across research groups.  Instead you should detokenize then use mteval-v14.pl, which has a standard tokenization.  Scores from multi-bleu.perl can still be used for internal purposes when you have a consistent tokenizer.\n",
      "time: 1.12 s\n"
     ]
    }
   ],
   "source": [
    "!perl multi-bleu.perl ../../../to_gpt2/generation_28k_train_truth_d.txt < ../../../to_gpt2/generation_28k_train_pred_d.txt"
   ]
  },
  {
   "cell_type": "code",
   "execution_count": 107,
   "metadata": {},
   "outputs": [
    {
     "name": "stdout",
     "output_type": "stream",
     "text": [
      "BLEU = 30.68, 64.7/41.7/25.0/13.3 (BP=0.997, ratio=0.997, hyp_len=28097, ref_len=28172)\n",
      "It is not advisable to publish scores from multi-bleu.perl.  The scores depend on your tokenizer, which is unlikely to be reproducible from your paper or consistent across research groups.  Instead you should detokenize then use mteval-v14.pl, which has a standard tokenization.  Scores from multi-bleu.perl can still be used for internal purposes when you have a consistent tokenizer.\n",
      "time: 712 ms\n"
     ]
    }
   ],
   "source": [
    "!perl multi-bleu.perl ../../../to_gpt2/generation_28k_train_truth_i.txt < ../../../to_gpt2/generation_28k_train_pred_i.txt"
   ]
  },
  {
   "cell_type": "markdown",
   "metadata": {},
   "source": [
    "### ROUGE"
   ]
  },
  {
   "cell_type": "code",
   "execution_count": null,
   "metadata": {},
   "outputs": [],
   "source": [
    "!pip install rouge "
   ]
  },
  {
   "cell_type": "code",
   "execution_count": 326,
   "metadata": {},
   "outputs": [
    {
     "name": "stdout",
     "output_type": "stream",
     "text": [
      "{\n",
      "  \"rouge-1\": {\n",
      "    \"f\": 0.3494049357953457,\n",
      "    \"p\": 0.34968650793650813,\n",
      "    \"r\": 0.3886880952380953\n",
      "  },\n",
      "  \"rouge-2\": {\n",
      "    \"f\": 0.11146750909357371,\n",
      "    \"p\": 0.11326428571428578,\n",
      "    \"r\": 0.12848968253968257\n",
      "  },\n",
      "  \"rouge-l\": {\n",
      "    \"f\": 0.3112737859663617,\n",
      "    \"p\": 0.33570476190476206,\n",
      "    \"r\": 0.37238015873015884\n",
      "  }\n",
      "}\n",
      "time: 470 ms\n"
     ]
    }
   ],
   "source": [
    "!rouge -f ../../to_gpt2/generation_28k_sorted/truth_t.txt ../../to_gpt2/generation_28k_sorted/pred_t.txt --avg"
   ]
  },
  {
   "cell_type": "code",
   "execution_count": 327,
   "metadata": {},
   "outputs": [
    {
     "name": "stdout",
     "output_type": "stream",
     "text": [
      "{\n",
      "  \"rouge-1\": {\n",
      "    \"f\": 0.658054120038043,\n",
      "    \"p\": 0.6195348040467759,\n",
      "    \"r\": 0.7168047848154568\n",
      "  },\n",
      "  \"rouge-2\": {\n",
      "    \"f\": 0.43489691600028596,\n",
      "    \"p\": 0.41772517944310966,\n",
      "    \"r\": 0.46327416881162253\n",
      "  },\n",
      "  \"rouge-l\": {\n",
      "    \"f\": 0.36508606093440943,\n",
      "    \"p\": 0.35378023860347446,\n",
      "    \"r\": 0.408473446063344\n",
      "  }\n",
      "}\n",
      "time: 2.21 s\n"
     ]
    }
   ],
   "source": [
    "!rouge -f ../../to_gpt2/generation_28k_sorted/truth_i.txt ../../to_gpt2/generation_28k_sorted/pred_i.txt --avg"
   ]
  },
  {
   "cell_type": "code",
   "execution_count": 325,
   "metadata": {},
   "outputs": [
    {
     "name": "stdout",
     "output_type": "stream",
     "text": [
      "{\n",
      "  \"rouge-1\": {\n",
      "    \"f\": 0.5010280412638892,\n",
      "    \"p\": 0.4857465311056858,\n",
      "    \"r\": 0.5544363885970187\n",
      "  },\n",
      "  \"rouge-2\": {\n",
      "    \"f\": 0.19623533217129435,\n",
      "    \"p\": 0.19298545738851539,\n",
      "    \"r\": 0.21920300656555444\n",
      "  },\n",
      "  \"rouge-l\": {\n",
      "    \"f\": 0.4349484306791758,\n",
      "    \"p\": 0.4443676911244383,\n",
      "    \"r\": 0.5080808218109966\n",
      "  }\n",
      "}\n",
      "time: 8.48 s\n"
     ]
    }
   ],
   "source": [
    "!rouge -f ../../to_gpt2/generation_28k_sorted/truth_d.txt ../../to_gpt2/generation_28k_sorted/pred_d.txt --avg"
   ]
  }
 ],
 "metadata": {
  "kernelspec": {
   "display_name": "Python 3",
   "language": "python",
   "name": "python3"
  },
  "language_info": {
   "codemirror_mode": {
    "name": "ipython",
    "version": 3
   },
   "file_extension": ".py",
   "mimetype": "text/x-python",
   "name": "python",
   "nbconvert_exporter": "python",
   "pygments_lexer": "ipython3",
   "version": "3.6.6"
  }
 },
 "nbformat": 4,
 "nbformat_minor": 2
}
