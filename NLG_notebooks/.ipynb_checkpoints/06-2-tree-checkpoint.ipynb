{
 "cells": [
  {
   "cell_type": "code",
   "execution_count": 1,
   "metadata": {},
   "outputs": [
    {
     "name": "stdout",
     "output_type": "stream",
     "text": [
      "CPU times: user 0 ns, sys: 0 ns, total: 0 ns\n",
      "Wall time: 8.58 µs\n"
     ]
    }
   ],
   "source": [
    "%time\n",
    "%load_ext autotime\n",
    "%load_ext autoreload\n",
    "%autoreload 2\n",
    "\n",
    "\n",
    "# if cannot import the modules, add the parent directory to system path might help\n",
    "\n",
    "import os, tqdm, sys\n",
    "parent_dir = os.path.abspath(os.getcwd()+'/..')+'/'\n",
    "sys.path.append(parent_dir)\n",
    "\n",
    "from utils.path import dir_HugeFiles\n",
    "from utils.preprocessing import load\n",
    "from utils.save import make_dir, save_pickle, load_pickle, save\n",
    "from utils.tree import instr2tree\n",
    "from utils.evaluation import spacy_extension\n",
    "\n",
    "import pandas as pd\n",
    "import numpy as np\n",
    "import re\n",
    "import json\n",
    "import tqdm"
   ]
  },
  {
   "cell_type": "code",
   "execution_count": 2,
   "metadata": {},
   "outputs": [
    {
     "name": "stdout",
     "output_type": "stream",
     "text": [
      "exist ../big_data/dic_20190927.pickle\n",
      "time: 3.83 s\n"
     ]
    }
   ],
   "source": [
    "dic = load(dir_save = '../big_data/dic_20190927.pickle')"
   ]
  },
  {
   "cell_type": "code",
   "execution_count": 3,
   "metadata": {},
   "outputs": [
    {
     "name": "stdout",
     "output_type": "stream",
     "text": [
      "load ../../to_gpt2/generation_28k_sorted/\n",
      "time: 203 ms\n"
     ]
    }
   ],
   "source": [
    "### STEP2 load and clean the generation\n",
    "\n",
    "def reverse(text):\n",
    "    '''\n",
    "    Important data cleaning before NY times parser\n",
    "    '''\n",
    "    # replace things in brace\n",
    "    text = re.sub(r'\\([^)]*\\)', '', text)\n",
    "\n",
    "    # remove space before punct\n",
    "    text = re.sub(r'\\s([?.!,\"](?:\\s|$))', r'\\1', text)\n",
    "\n",
    "    # remove consecutive spaces\n",
    "    text = re.sub(' +',' ',text).strip()\n",
    "    return text\n",
    "\n",
    "def reverse_list(listoftext):\n",
    "    output=[]\n",
    "    for text in listoftext:\n",
    "        rev = reverse(text)\n",
    "        if rev:\n",
    "            output.append(rev)\n",
    "    return output\n",
    "\n",
    "def load_dir_data(filename):\n",
    "    ls = []\n",
    "    if os.path.isdir(filename):\n",
    "        print('load', filename)\n",
    "        # Directory\n",
    "        for (dirpath, _, fnames) in os.walk(filename):\n",
    "            for fname in fnames:\n",
    "                path = os.path.join(dirpath, fname)\n",
    "                with open(path, 'r') as fp:\n",
    "                    raw_text = fp.read()\n",
    "                    \n",
    "                # if it contains instr\n",
    "                if fname[-5] == 'd':\n",
    "                    dic[int(fname[:-5])]['generated_instr'] = reverse_list(raw_text.split('.'))\n",
    "\n",
    "                # if it contains ingred\n",
    "                if fname[-5] == 'i':\n",
    "                    dic[int(fname[:-5])]['generated_ingred'] = reverse_list(raw_text.split('$'))\n",
    "                    \n",
    "                # if it contains name\n",
    "                if fname[-5] == 't':\n",
    "                    dic[int(fname[:-5])]['generated_name'] = raw_text\n",
    "                ls.append(int(fname[:-5]))# only interested in instr\n",
    "                    \n",
    "    return sorted(list(set(ls)))\n",
    "\n",
    "filename = '../../to_gpt2/generation_28k_sorted/'\n",
    "ls = load_dir_data(filename)"
   ]
  },
  {
   "cell_type": "code",
   "execution_count": 4,
   "metadata": {},
   "outputs": [
    {
     "name": "stdout",
     "output_type": "stream",
     "text": [
      "time: 18.2 s\n"
     ]
    }
   ],
   "source": [
    "from utils.tree import instr2tree, tree_distance, build_tree\n",
    "from utils.evaluation import spacy_extension\n",
    "treemaker = instr2tree()\n",
    "sp = spacy_extension()\n",
    "def stem(x):\n",
    "    return [{'word':d['word'], 'ingredient':[]} for d in x]\n",
    "\n",
    "def allinone(v_directions, v_generated_instr, tag = '', rev=False):\n",
    "    true = treemaker.sents2tree(v_directions)\n",
    "    pred = treemaker.sents2tree(v_generated_instr)\n",
    "    if rev:\n",
    "        pred = pred[::-1]\n",
    "    tree_dist = tree_distance(build_tree(true), build_tree(pred))\n",
    "    \n",
    "    true_nodes = sum([len(line['ingredient']) +1 for line in true])\n",
    "    pred_nodes = sum([len(line['ingredient']) +1 for line in pred])\n",
    "    \n",
    "    true, pred = stem(true), stem(pred)\n",
    "    stem_dist = tree_distance(build_tree(true), build_tree(pred))\n",
    "    true_stem = sum([len(line['ingredient']) +1 for line in true])\n",
    "    pred_stem = sum([len(line['ingredient']) +1 for line in pred])\n",
    "    \n",
    "    return {'tree_dist_%s'%tag:  tree_dist,\n",
    "            'true_nodes_%s'%tag: true_nodes,\n",
    "            'pred_nodes_%s'%tag: pred_nodes,\n",
    "            'stem_dist_%s'%tag:  stem_dist,\n",
    "            'true_stem_%s'%tag:  true_stem,\n",
    "            'pred_stem_%s'%tag:  pred_stem}"
   ]
  },
  {
   "cell_type": "code",
   "execution_count": 5,
   "metadata": {},
   "outputs": [
    {
     "name": "stderr",
     "output_type": "stream",
     "text": [
      "100%|██████████| 55102/55102 [05:43<00:00, 160.33it/s]\n"
     ]
    },
    {
     "name": "stdout",
     "output_type": "stream",
     "text": [
      "tree_dist_@        42.738515\n",
      "true_nodes_@       44.066000\n",
      "pred_nodes_@       39.504000\n",
      "stem_dist_@        15.843730\n",
      "true_stem_@        17.712000\n",
      "pred_stem_@        15.552000\n",
      "tree_dist_@rev     46.360237\n",
      "true_nodes_@rev    44.066000\n",
      "pred_nodes_@rev    39.504000\n",
      "stem_dist_@rev     17.166749\n",
      "true_stem_@rev     17.712000\n",
      "pred_stem_@rev     15.552000\n",
      "dtype: float64\n",
      "time: 5min 46s\n"
     ]
    }
   ],
   "source": [
    "# 28k\n",
    "for i, v in tqdm.tqdm(dic.items()):\n",
    "    if i in ls:\n",
    "        dic[i].update(allinone(v['directions'], v['generated_instr'], tag = '@'))\n",
    "        dic[i].update(allinone(v['directions'], v['generated_instr'], tag = '@rev', rev = True))\n",
    "        \n",
    "df2 = pd.DataFrame.from_dict(dic, orient = 'index')\n",
    "temp = df2[[col for col in df2.columns if '@' in col]].iloc[ls]\n",
    "#logger.report_text(str(temp))\n",
    "print(str(temp.mean()))"
   ]
  },
  {
   "cell_type": "code",
   "execution_count": 7,
   "metadata": {},
   "outputs": [
    {
     "name": "stdout",
     "output_type": "stream",
     "text": [
      "0.5028419201450056\n",
      "0.4746860464511589\n",
      "0.5484304124239985\n",
      "0.5181224850769242\n",
      "time: 186 ms\n"
     ]
    }
   ],
   "source": [
    "val = temp.apply(lambda x: x['tree_dist_@']/(x['true_nodes_@']+x['pred_nodes_@']), axis=1).mean()\n",
    "print (val)\n",
    "\n",
    "val = temp.apply(lambda x: x['stem_dist_@']/(x['true_stem_@']+x['pred_stem_@']), axis=1).mean()\n",
    "print (val)\n",
    "\n",
    "val = temp.apply(lambda x: x['tree_dist_@rev']/(x['true_nodes_@rev']+x['pred_nodes_@rev']), axis=1).mean()\n",
    "print (val)\n",
    "\n",
    "val = temp.apply(lambda x: x['stem_dist_@rev']/(x['true_stem_@rev']+x['pred_stem_@rev']), axis=1).mean()\n",
    "print (val)"
   ]
  },
  {
   "cell_type": "code",
   "execution_count": 8,
   "metadata": {},
   "outputs": [
    {
     "name": "stdout",
     "output_type": "stream",
     "text": [
      "load ../../to_gpt2/generation_28k_train/\n"
     ]
    },
    {
     "name": "stderr",
     "output_type": "stream",
     "text": [
      "100%|██████████| 55102/55102 [06:17<00:00, 145.89it/s]\n"
     ]
    },
    {
     "name": "stdout",
     "output_type": "stream",
     "text": [
      "tree_dist_@        44.986896\n",
      "true_nodes_@       46.108000\n",
      "pred_nodes_@       41.376000\n",
      "stem_dist_@        16.856088\n",
      "true_stem_@        18.334000\n",
      "pred_stem_@        16.676000\n",
      "tree_dist_@rev     48.555541\n",
      "true_nodes_@rev    46.108000\n",
      "pred_nodes_@rev    41.376000\n",
      "stem_dist_@rev     18.174793\n",
      "true_stem_@rev     18.334000\n",
      "pred_stem_@rev     16.676000\n",
      "dtype: float64\n",
      "time: 6min 21s\n"
     ]
    }
   ],
   "source": [
    "filename = '../../to_gpt2/generation_28k_train/'\n",
    "ls = load_dir_data(filename)\n",
    "\n",
    "for i, v in tqdm.tqdm(dic.items()):\n",
    "    if i in ls:\n",
    "        dic[i].update(allinone(v['directions'], v['generated_instr'], tag = '@'))\n",
    "        dic[i].update(allinone(v['directions'], v['generated_instr'], tag = '@rev', rev = True))\n",
    "        \n",
    "df2 = pd.DataFrame.from_dict(dic, orient = 'index')\n",
    "temp = df2[[col for col in df2.columns if '@' in col]].iloc[ls]\n",
    "#logger.report_text(str(temp))\n",
    "print(str(temp.mean()))"
   ]
  },
  {
   "cell_type": "code",
   "execution_count": 9,
   "metadata": {},
   "outputs": [
    {
     "name": "stdout",
     "output_type": "stream",
     "text": [
      "0.506568515016135\n",
      "0.4782835211547249\n",
      "0.5519972290317328\n",
      "0.5204575002169054\n",
      "time: 125 ms\n"
     ]
    }
   ],
   "source": [
    "val = temp.apply(lambda x: x['tree_dist_@']/(x['true_nodes_@']+x['pred_nodes_@']), axis=1).mean()\n",
    "print (val)\n",
    "\n",
    "val = temp.apply(lambda x: x['stem_dist_@']/(x['true_stem_@']+x['pred_stem_@']), axis=1).mean()\n",
    "print (val)\n",
    "\n",
    "val = temp.apply(lambda x: x['tree_dist_@rev']/(x['true_nodes_@rev']+x['pred_nodes_@rev']), axis=1).mean()\n",
    "print (val)\n",
    "\n",
    "val = temp.apply(lambda x: x['stem_dist_@rev']/(x['true_stem_@rev']+x['pred_stem_@rev']), axis=1).mean()\n",
    "print (val)"
   ]
  },
  {
   "cell_type": "code",
   "execution_count": null,
   "metadata": {},
   "outputs": [],
   "source": []
  }
 ],
 "metadata": {
  "kernelspec": {
   "display_name": "Python 3",
   "language": "python",
   "name": "python3"
  },
  "language_info": {
   "codemirror_mode": {
    "name": "ipython",
    "version": 3
   },
   "file_extension": ".py",
   "mimetype": "text/x-python",
   "name": "python",
   "nbconvert_exporter": "python",
   "pygments_lexer": "ipython3",
   "version": "3.6.6"
  }
 },
 "nbformat": 4,
 "nbformat_minor": 2
}
