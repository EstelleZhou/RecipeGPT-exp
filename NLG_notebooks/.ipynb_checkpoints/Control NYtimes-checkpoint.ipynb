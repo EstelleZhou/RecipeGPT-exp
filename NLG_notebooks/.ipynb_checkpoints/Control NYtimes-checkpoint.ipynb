{
 "cells": [
  {
   "cell_type": "markdown",
   "metadata": {},
   "source": [
    "### Please run this notebook with python2"
   ]
  },
  {
   "cell_type": "code",
   "execution_count": 1,
   "metadata": {},
   "outputs": [
    {
     "name": "stdout",
     "output_type": "stream",
     "text": [
      "/data/yueliu/RecipeAnalytics_201906/NYtime-parser2\n"
     ]
    }
   ],
   "source": [
    "cd ../../NYtime-parser2/"
   ]
  },
  {
   "cell_type": "code",
   "execution_count": 9,
   "metadata": {},
   "outputs": [
    {
     "name": "stdout",
     "output_type": "stream",
     "text": [
      "saved\n"
     ]
    }
   ],
   "source": [
    "### if you do not have the ingred.txt file\n",
    "def save(to_write):\n",
    "    with open('ingred.txt','w') as f:\n",
    "        f.write('%s' % to_write)\n",
    "        print('saved')\n",
    "to_write = '\\n'.join(['1 cup of olive oil, heated',\n",
    "                      '1 cup of olive oil , heated',\n",
    "                      '1 cup of olive oil , heated '])\n",
    "save(to_write)"
   ]
  },
  {
   "cell_type": "code",
   "execution_count": 18,
   "metadata": {},
   "outputs": [
    {
     "data": {
      "text/html": [
       "<div>\n",
       "<style scoped>\n",
       "    .dataframe tbody tr th:only-of-type {\n",
       "        vertical-align: middle;\n",
       "    }\n",
       "\n",
       "    .dataframe tbody tr th {\n",
       "        vertical-align: top;\n",
       "    }\n",
       "\n",
       "    .dataframe thead th {\n",
       "        text-align: right;\n",
       "    }\n",
       "</style>\n",
       "<table border=\"1\" class=\"dataframe\">\n",
       "  <thead>\n",
       "    <tr style=\"text-align: right;\">\n",
       "      <th></th>\n",
       "      <th>comment</th>\n",
       "      <th>display</th>\n",
       "      <th>input</th>\n",
       "      <th>name</th>\n",
       "      <th>other</th>\n",
       "      <th>qty</th>\n",
       "      <th>range_end</th>\n",
       "      <th>unit</th>\n",
       "    </tr>\n",
       "  </thead>\n",
       "  <tbody>\n",
       "    <tr>\n",
       "      <th>0</th>\n",
       "      <td>fresh</td>\n",
       "      <td>&lt;span class='qty'&gt;4&lt;/span&gt;&lt;span class='unit'&gt;s...</td>\n",
       "      <td>4 sprigs fresh thyme</td>\n",
       "      <td>thyme</td>\n",
       "      <td>NaN</td>\n",
       "      <td>4</td>\n",
       "      <td>NaN</td>\n",
       "      <td>sprig</td>\n",
       "    </tr>\n",
       "    <tr>\n",
       "      <th>1</th>\n",
       "      <td>large baking, peeled and cut in half lengthwise</td>\n",
       "      <td>&lt;span class='qty'&gt;2&lt;/span&gt;&lt;span class='comment...</td>\n",
       "      <td>2 large baking potatoes, peeled and cut in hal...</td>\n",
       "      <td>potatoes</td>\n",
       "      <td>NaN</td>\n",
       "      <td>2</td>\n",
       "      <td>NaN</td>\n",
       "      <td>NaN</td>\n",
       "    </tr>\n",
       "    <tr>\n",
       "      <th>2</th>\n",
       "      <td>NaN</td>\n",
       "      <td>&lt;span class='qty'&gt;sea&lt;/span&gt;&lt;span class='name'...</td>\n",
       "      <td>sea salt</td>\n",
       "      <td>salt</td>\n",
       "      <td>NaN</td>\n",
       "      <td>sea</td>\n",
       "      <td>NaN</td>\n",
       "      <td>NaN</td>\n",
       "    </tr>\n",
       "    <tr>\n",
       "      <th>3</th>\n",
       "      <td>extra virgin</td>\n",
       "      <td>&lt;span class='qty'&gt;1/2&lt;/span&gt;&lt;span class='unit'...</td>\n",
       "      <td>1/2 cup extra virgin olive oil</td>\n",
       "      <td>olive oil</td>\n",
       "      <td>NaN</td>\n",
       "      <td>1/2</td>\n",
       "      <td>NaN</td>\n",
       "      <td>cup</td>\n",
       "    </tr>\n",
       "    <tr>\n",
       "      <th>4</th>\n",
       "      <td>NaN</td>\n",
       "      <td>&lt;span class='qty'&gt;1/2&lt;/span&gt;&lt;span class='unit'...</td>\n",
       "      <td>1/2 cup milk</td>\n",
       "      <td>milk</td>\n",
       "      <td>NaN</td>\n",
       "      <td>1/2</td>\n",
       "      <td>NaN</td>\n",
       "      <td>cup</td>\n",
       "    </tr>\n",
       "  </tbody>\n",
       "</table>\n",
       "</div>"
      ],
      "text/plain": [
       "                                           comment  \\\n",
       "0                                            fresh   \n",
       "1  large baking, peeled and cut in half lengthwise   \n",
       "2                                              NaN   \n",
       "3                                     extra virgin   \n",
       "4                                              NaN   \n",
       "\n",
       "                                             display  \\\n",
       "0  <span class='qty'>4</span><span class='unit'>s...   \n",
       "1  <span class='qty'>2</span><span class='comment...   \n",
       "2  <span class='qty'>sea</span><span class='name'...   \n",
       "3  <span class='qty'>1/2</span><span class='unit'...   \n",
       "4  <span class='qty'>1/2</span><span class='unit'...   \n",
       "\n",
       "                                               input       name other  qty  \\\n",
       "0                               4 sprigs fresh thyme      thyme   NaN    4   \n",
       "1  2 large baking potatoes, peeled and cut in hal...   potatoes   NaN    2   \n",
       "2                                           sea salt       salt   NaN  sea   \n",
       "3                     1/2 cup extra virgin olive oil  olive oil   NaN  1/2   \n",
       "4                                       1/2 cup milk       milk   NaN  1/2   \n",
       "\n",
       "   range_end   unit  \n",
       "0        NaN  sprig  \n",
       "1        NaN    NaN  \n",
       "2        NaN    NaN  \n",
       "3        NaN    cup  \n",
       "4        NaN    cup  "
      ]
     },
     "execution_count": 18,
     "metadata": {},
     "output_type": "execute_result"
    }
   ],
   "source": [
    "import os\n",
    "import pandas as pd\n",
    "\n",
    "!python ingredient_phrase_tagger/parse-ingredients.py ingred.txt  > result.txt \n",
    "!python ingredient_phrase_tagger/convert-to-json.py result.txt > result.json\n",
    "df = pd.read_json(os.path.normpath('result.json'))\n",
    "df.head()"
   ]
  },
  {
   "cell_type": "code",
   "execution_count": null,
   "metadata": {},
   "outputs": [],
   "source": []
  }
 ],
 "metadata": {
  "kernelspec": {
   "display_name": "Python 2",
   "language": "python",
   "name": "python2"
  },
  "language_info": {
   "codemirror_mode": {
    "name": "ipython",
    "version": 2
   },
   "file_extension": ".py",
   "mimetype": "text/x-python",
   "name": "python",
   "nbconvert_exporter": "python",
   "pygments_lexer": "ipython2",
   "version": "2.7.15"
  }
 },
 "nbformat": 4,
 "nbformat_minor": 2
}
