{
 "cells": [
  {
   "cell_type": "markdown",
   "metadata": {},
   "source": [
    "### In this notebook, we exlain how we implement the feature: comparing with reference recipes "
   ]
  },
  {
   "cell_type": "markdown",
   "metadata": {},
   "source": [
    "Follow the instruction. https://www.elastic.co/guide/en/elasticsearch/reference/current/getting-started-install.html <br>\n",
    "pip install elasticsearch"
   ]
  },
  {
   "cell_type": "code",
   "execution_count": null,
   "metadata": {},
   "outputs": [],
   "source": [
    "from elasticsearch import Elasticsearch"
   ]
  },
  {
   "cell_type": "code",
   "execution_count": 1,
   "metadata": {},
   "outputs": [],
   "source": [
    "from dependency import parent_dir\n",
    "from common.basics import *\n",
    "from common.save import save_pickle, load_pickle, save\n",
    "import spacy"
   ]
  },
  {
   "cell_type": "markdown",
   "metadata": {},
   "source": [
    "### Preparation"
   ]
  },
  {
   "cell_type": "code",
   "execution_count": 3,
   "metadata": {},
   "outputs": [
    {
     "name": "stderr",
     "output_type": "stream",
     "text": [
      "904401it [01:44, 8624.40it/s] "
     ]
    },
    {
     "name": "stdout",
     "output_type": "stream",
     "text": [
      "time: 1min 54s\n"
     ]
    },
    {
     "name": "stderr",
     "output_type": "stream",
     "text": [
      "\n"
     ]
    }
   ],
   "source": [
    "# load the dataset\n",
    "data = load_pickle('../big_data/data.pickle')\n",
    "# remember to set-up the localhost first\n",
    "es = Elasticsearch()\n",
    "\n",
    "# send data to elasticsearch\n",
    "for i, recipe in tqdm.tqdm(enumerate(data)):\n",
    "    recipe['directions'] = recipe.pop('instructions')\n",
    "    es.index(index='all', doc_type='recipe', body=recipe)"
   ]
  },
  {
   "cell_type": "code",
   "execution_count": null,
   "metadata": {},
   "outputs": [],
   "source": [
    "'''may need to delete old index\n",
    "# remember to set-up the localhost first\n",
    "es = Elasticsearch()\n",
    "# delete index\n",
    "es.indices.delete(index='val', ignore=[400, 404])\n",
    "'''"
   ]
  },
  {
   "cell_type": "code",
   "execution_count": null,
   "metadata": {},
   "outputs": [],
   "source": [
    "'''when we are finally ready\n",
    "\n",
    "# delete the previous index\n",
    "es.indices.delete(index='all', ignore=[400, 404])\n",
    "\n",
    "# write everything to elasticsearch\n",
    "for i, recipe in tqdm.tqdm(enumerate(data)):\n",
    "        es.index(index='all', doc_type='recipe', body=recipe)\n",
    "'''"
   ]
  },
  {
   "cell_type": "markdown",
   "metadata": {},
   "source": [
    "### Query"
   ]
  },
  {
   "cell_type": "code",
   "execution_count": 4,
   "metadata": {},
   "outputs": [
    {
     "name": "stdout",
     "output_type": "stream",
     "text": [
      "time: 26.6 ms\n"
     ]
    }
   ],
   "source": [
    "def similar(field1, field2, given = 'directions'):\n",
    "    assert given in ['directions','ingredients']\n",
    "    field1 = ' '.join(field1) if type(field1) == list else field1\n",
    "    field2 = ' '.join(field2) if type(field2) == list else field2\n",
    "    \n",
    "    query_body = {\n",
    "      \"query\": {\n",
    "        \"bool\": {\n",
    "          \"must\": {\n",
    "            \"multi_match\": {   \n",
    "                \"query\": field1 + field2,\n",
    "                'fields':[\"title\", given]\n",
    "            }\n",
    "          }\n",
    "        }\n",
    "      }\n",
    "    }\n",
    "    \n",
    "    result = es.search(index = 'all', body = query_body)\n",
    "    best_match = result['hits']['hits'][0]['_source']\n",
    "    return best_match"
   ]
  },
  {
   "cell_type": "markdown",
   "metadata": {},
   "source": [
    "### Example"
   ]
  },
  {
   "cell_type": "code",
   "execution_count": 5,
   "metadata": {},
   "outputs": [
    {
     "name": "stdout",
     "output_type": "stream",
     "text": [
      "time: 12.9 ms\n"
     ]
    }
   ],
   "source": [
    "# prepare example\n",
    "title = 'blood orange punch'\n",
    "ingredients = ['orange soda','lime juice','light rum','orange','dash bitters','orange juice']\n",
    "directions = ['fill ice cube trays with 1 1/2 cups orange juice, and freeze',\n",
    "              'to make punch, stir remaining orange juice, soda, lime juice, rum, and bitters into a 16-cup punch bowl',\n",
    "              'before serving, add frozen orange slices',\n",
    "              'add ice cubes as needed to keep chilled.']"
   ]
  },
  {
   "cell_type": "code",
   "execution_count": 6,
   "metadata": {},
   "outputs": [
    {
     "data": {
      "text/plain": [
       "{'ingredients': ['dash bitters',\n",
       "  'lime juice',\n",
       "  'orange juice',\n",
       "  'orange',\n",
       "  'light rum',\n",
       "  'orange soda'],\n",
       " 'title': 'blood orange punch',\n",
       " 'recipe1m_idx': 250985,\n",
       " 'url': 'http://www.delish.com/recipefinder/blood-orange-punch-recipe',\n",
       " 'directions': 'fill ice cube trays with 1 1/2 cups orange juice, and freeze. to make punch, stir remaining orange juice, soda, lime juice, rum, and bitters into a 16-cup punch bowl. before serving, add frozen orange slices. add ice cubes as needed to keep chilled.'}"
      ]
     },
     "execution_count": 6,
     "metadata": {},
     "output_type": "execute_result"
    },
    {
     "name": "stdout",
     "output_type": "stream",
     "text": [
      "time: 807 ms\n"
     ]
    }
   ],
   "source": [
    "# example usuage\n",
    "similar(title, ingredients, given ='ingredients')"
   ]
  },
  {
   "cell_type": "code",
   "execution_count": 7,
   "metadata": {},
   "outputs": [
    {
     "data": {
      "text/plain": [
       "{'ingredients': ['dash bitters',\n",
       "  'lime juice',\n",
       "  'orange juice',\n",
       "  'orange',\n",
       "  'light rum',\n",
       "  'orange soda'],\n",
       " 'title': 'blood orange punch',\n",
       " 'recipe1m_idx': 250985,\n",
       " 'url': 'http://www.delish.com/recipefinder/blood-orange-punch-recipe',\n",
       " 'directions': 'fill ice cube trays with 1 1/2 cups orange juice, and freeze. to make punch, stir remaining orange juice, soda, lime juice, rum, and bitters into a 16-cup punch bowl. before serving, add frozen orange slices. add ice cubes as needed to keep chilled.'}"
      ]
     },
     "execution_count": 7,
     "metadata": {},
     "output_type": "execute_result"
    },
    {
     "name": "stdout",
     "output_type": "stream",
     "text": [
      "time: 32.3 ms\n"
     ]
    }
   ],
   "source": [
    "# example usuage\n",
    "similar(title, directions, given ='directions')"
   ]
  }
 ],
 "metadata": {
  "kernelspec": {
   "display_name": "Python 3",
   "language": "python",
   "name": "python3"
  },
  "language_info": {
   "codemirror_mode": {
    "name": "ipython",
    "version": 3
   },
   "file_extension": ".py",
   "mimetype": "text/x-python",
   "name": "python",
   "nbconvert_exporter": "python",
   "pygments_lexer": "ipython3",
   "version": "3.6.10"
  }
 },
 "nbformat": 4,
 "nbformat_minor": 4
}
