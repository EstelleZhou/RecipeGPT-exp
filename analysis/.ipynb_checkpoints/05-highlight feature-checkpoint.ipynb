{
 "cells": [
  {
   "cell_type": "markdown",
   "metadata": {},
   "source": [
    "After reading this notebook, we hope you will have a better understanding of how the feature \"highlighting the overlapped ingredients\" works. The figure below explains how we extract the ingredient root nouns from (a) ingredients and (b) instructions. "
   ]
  },
  {
   "cell_type": "markdown",
   "metadata": {},
   "source": [
    "For every instance of ingredients, we extract the root noun and derive its lemmatized form; for each paragrah of instructions, we additionally use a dictionary-based approach to filter out the non-ingredients root nouns. \n",
    "The ingredient dictionary is saved in database.pickle"
   ]
  },
  {
   "cell_type": "markdown",
   "metadata": {},
   "source": [
    "<img src=\"../data/img/spacy.png\" alt=\"spacy\" style=\"width: 600px;\"/>"
   ]
  },
  {
   "cell_type": "markdown",
   "metadata": {},
   "source": [
    "After extracting two sets of root nouns, we calculate the set recall and set precision and present in the web page"
   ]
  },
  {
   "cell_type": "code",
   "execution_count": 1,
   "metadata": {},
   "outputs": [],
   "source": [
    "from dependency import parent_dir\n",
    "from common.basics import *\n",
    "from common.save import load_pickle\n",
    "import spacy"
   ]
  },
  {
   "cell_type": "code",
   "execution_count": 2,
   "metadata": {},
   "outputs": [
    {
     "name": "stdout",
     "output_type": "stream",
     "text": [
      "Requirement already satisfied: en_core_web_lg==2.1.0 from https://github.com/explosion/spacy-models/releases/download/en_core_web_lg-2.1.0/en_core_web_lg-2.1.0.tar.gz#egg=en_core_web_lg==2.1.0 in /home/helena/anaconda3/envs/myenv/lib/python3.6/site-packages (2.1.0)\n",
      "\u001b[38;5;2m✔ Download and installation successful\u001b[0m\n",
      "You can now load the model via spacy.load('en_core_web_lg')\n"
     ]
    }
   ],
   "source": [
    "!python -m spacy download en_core_web_lg"
   ]
  },
  {
   "cell_type": "code",
   "execution_count": 3,
   "metadata": {},
   "outputs": [],
   "source": [
    "from utils.spacy_func import spacy_extension"
   ]
  },
  {
   "cell_type": "code",
   "execution_count": 4,
   "metadata": {},
   "outputs": [],
   "source": [
    "def highlight(ingredients, directions, generate = 'directions'):\n",
    "    \n",
    "    '''Args:\n",
    "    ingr: A list of ingredients; It should not contain any duplicated elements;\n",
    "    instr: Can be str or list, containing a paragraph of cooking instructions\n",
    "    '''\n",
    "    \n",
    "    # check the inputs\n",
    "    assert generate in ['directions', 'ingredients']\n",
    "    directions = ' '.join(directions) if type(directions) == list else directions\n",
    "    \n",
    "    # send to spacy\n",
    "    root_ingr, hl_ingr = sp.ingr(ingredients)\n",
    "    instr, hl_instr = sp.instr(directions)\n",
    "    \n",
    "    # highlighting\n",
    "    root_instr = []\n",
    "    for chunk in instr.noun_chunks:\n",
    "        idx_rootnoun = chunk.end - 1\n",
    "        str_rootnoun = instr[idx_rootnoun].lemma_\n",
    "        if str_rootnoun in root_ingr:\n",
    "            root_instr.append(str_rootnoun)\n",
    "            hl_instr[idx_rootnoun]['highlight'] = 'correct'\n",
    "            \n",
    "            for idx, root in enumerate(root_ingr):\n",
    "                if root == str_rootnoun:\n",
    "                    for j, word in enumerate(hl_ingr[idx]):\n",
    "                        if word['highlight'] =='wrong':\n",
    "                            hl_ingr[idx][j]['highlight'] = 'correct'\n",
    "            \n",
    "        elif str_rootnoun in database:\n",
    "            root_instr.append(str_rootnoun)\n",
    "            hl_instr[idx_rootnoun]['highlight'] = 'wrong'\n",
    "            \n",
    "    # delimit the sentences\n",
    "    def parse_instr(hl_instr):\n",
    "        par_hl, sent = [], []\n",
    "        for word in hl_instr:\n",
    "            if word['text'] !='.':\n",
    "                sent.append(word)\n",
    "            else:\n",
    "                sent.append(word)\n",
    "                par_hl.append(sent)\n",
    "                sent = []\n",
    "        if sent:\n",
    "            par_hl.append(sent)\n",
    "        return par_hl\n",
    "    \n",
    "    hl_instr = parse_instr(hl_instr)\n",
    "   \n",
    "    # calculate precision and recall\n",
    "    root_ingr, root_instr = set(root_ingr), set(root_instr)\n",
    "    TP = len(root_ingr & root_instr)\n",
    "    recall = TP/len(root_ingr) if len(root_ingr) >0 else 0\n",
    "    precision = TP/len(root_instr) if len(root_instr) >0 else 0\n",
    "    \n",
    "    # if this is ingredients generation\n",
    "    if generate == 'ingredients':\n",
    "        recall, precision = precision, recall\n",
    "    return {'ingredients': hl_ingr, 'directions': hl_instr, 'recall': recall, 'precision': precision}"
   ]
  },
  {
   "cell_type": "markdown",
   "metadata": {},
   "source": [
    "example of usage"
   ]
  },
  {
   "cell_type": "code",
   "execution_count": 5,
   "metadata": {},
   "outputs": [],
   "source": [
    "database = load_pickle('../big_data/database.pickle')\n",
    "sp = spacy_extension()"
   ]
  },
  {
   "cell_type": "code",
   "execution_count": 6,
   "metadata": {},
   "outputs": [],
   "source": [
    "ingredeints = ['garlic','breasts','bsp. oil']\n",
    "directions = 'heat oil in large skillet on medium - high heat. \\\n",
    "Add chicken and garlic . or until chicken is done'\n",
    "output = highlight(ingredeints, directions)"
   ]
  },
  {
   "cell_type": "code",
   "execution_count": 7,
   "metadata": {},
   "outputs": [
    {
     "data": {
      "text/plain": [
       "{'ingredients': [[{'text': 'garlic', 'highlight': 'correct'}],\n",
       "  [{'text': 'breasts', 'highlight': 'wrong'}],\n",
       "  [{'text': 'bsp.', 'highlight': None},\n",
       "   {'text': 'oil', 'highlight': 'correct'}]],\n",
       " 'directions': [[{'text': 'heat', 'highlight': None},\n",
       "   {'text': 'oil', 'highlight': 'correct'},\n",
       "   {'text': 'in', 'highlight': None},\n",
       "   {'text': 'large', 'highlight': None},\n",
       "   {'text': 'skillet', 'highlight': None},\n",
       "   {'text': 'on', 'highlight': None},\n",
       "   {'text': 'medium', 'highlight': None},\n",
       "   {'text': '-', 'highlight': None},\n",
       "   {'text': 'high', 'highlight': None},\n",
       "   {'text': 'heat', 'highlight': None},\n",
       "   {'text': '.', 'highlight': None}],\n",
       "  [{'text': 'Add', 'highlight': None},\n",
       "   {'text': 'chicken', 'highlight': 'wrong'},\n",
       "   {'text': 'and', 'highlight': None},\n",
       "   {'text': 'garlic', 'highlight': 'correct'},\n",
       "   {'text': '.', 'highlight': None}],\n",
       "  [{'text': 'or', 'highlight': None},\n",
       "   {'text': 'until', 'highlight': None},\n",
       "   {'text': 'chicken', 'highlight': 'wrong'},\n",
       "   {'text': 'is', 'highlight': None},\n",
       "   {'text': 'done', 'highlight': None}]],\n",
       " 'recall': 0.6666666666666666,\n",
       " 'precision': 0.6666666666666666}"
      ]
     },
     "execution_count": 7,
     "metadata": {},
     "output_type": "execute_result"
    }
   ],
   "source": [
    "output"
   ]
  },
  {
   "cell_type": "code",
   "execution_count": null,
   "metadata": {},
   "outputs": [],
   "source": []
  }
 ],
 "metadata": {
  "kernelspec": {
   "display_name": "Python 3",
   "language": "python",
   "name": "python3"
  },
  "language_info": {
   "codemirror_mode": {
    "name": "ipython",
    "version": 3
   },
   "file_extension": ".py",
   "mimetype": "text/x-python",
   "name": "python",
   "nbconvert_exporter": "python",
   "pygments_lexer": "ipython3",
   "version": "3.6.10"
  }
 },
 "nbformat": 4,
 "nbformat_minor": 4
}
