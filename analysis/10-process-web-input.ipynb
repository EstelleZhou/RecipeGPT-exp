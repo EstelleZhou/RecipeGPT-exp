{
 "cells": [
  {
   "cell_type": "markdown",
   "metadata": {},
   "source": [
    "### Web application of recipe generation"
   ]
  },
  {
   "cell_type": "markdown",
   "metadata": {},
   "source": [
    "There are three conditions in total. In each condition, we try to generate a field given the rest of the fields. For example, generating directions from title and ingredients. <br>"
   ]
  },
  {
   "cell_type": "markdown",
   "metadata": {},
   "source": [
    "#### input from the web"
   ]
  },
  {
   "cell_type": "code",
   "execution_count": 1,
   "metadata": {},
   "outputs": [],
   "source": [
    "recipe_title = 'Brandade potato latkes'\n",
    "recipe_ingredients = ['2 pounds fresh cod','sea salt to taste','1/2 cup olive oil']\n",
    "recipe_directions = ['heat oven to 350 degrees f.',\n",
    "                      'spray 13x9 inch baking dish with cooking spray.',\n",
    "                      'place into baking dish in a single layer.']"
   ]
  },
  {
   "cell_type": "markdown",
   "metadata": {},
   "source": [
    "#### prepare the prompt from input, and send the prompt to gpt2"
   ]
  },
  {
   "cell_type": "code",
   "execution_count": 2,
   "metadata": {},
   "outputs": [],
   "source": [
    "def title(recipe_ingredients, recipe_directions):\n",
    "    '''\n",
    "    recipe_title and recipe_ingredients is the user input in the webpage\n",
    "    '''\n",
    "    prompt = ' <start-ingredients>'+'$'.join(recipe_ingredients)+'$ <end-ingredients>'\n",
    "    prompt += ' <start-directions>'+' '.join(recipe_directions) +' <end-directions>'\n",
    "    prompt += ' <start-title>'\n",
    "    prompt = prompt.lower()\n",
    "    return prompt\n",
    "\n",
    "def ingredients(recipe_title, recipe_directions):\n",
    "    '''\n",
    "    recipe_title and recipe_ingredients is the user input in the webpage\n",
    "    '''\n",
    "    prompt = ' <start-ingredients>'+'$'.join(recipe_ingredients)+'$ <end-ingredients>'\n",
    "    prompt += ' <start-directions>'+' '.join(recipe_directions) +' <end-directions>'\n",
    "    prompt += ' <start-ingredients>'\n",
    "    prompt = prompt.lower()\n",
    "    return prompt\n",
    "\n",
    "def directions(recipe_title, recipe_ingredients):\n",
    "    '''\n",
    "    recipe_title and recipe_ingredients is the user input in the webpage\n",
    "    '''\n",
    "    prompt = ' <start-title>'+recipe_title+' <end-title>'\n",
    "    prompt += ' <start-ingredients>'+'$'.join(recipe_ingredients)+'$ <end-ingredients>'\n",
    "    prompt += ' <start-directions>'\n",
    "    prompt = prompt.lower()\n",
    "    return prompt"
   ]
  },
  {
   "cell_type": "code",
   "execution_count": 3,
   "metadata": {},
   "outputs": [
    {
     "data": {
      "text/plain": [
       "' <start-ingredients>2 pounds fresh cod$sea salt to taste$1/2 cup olive oil$ <end-ingredients> <start-directions>heat oven to 350 degrees f. spray 13x9 inch baking dish with cooking spray. place into baking dish in a single layer. <end-directions> <start-title>'"
      ]
     },
     "execution_count": 3,
     "metadata": {},
     "output_type": "execute_result"
    }
   ],
   "source": [
    "# If we want to generate title, the prompt would be\n",
    "title(recipe_ingredients, recipe_directions)"
   ]
  },
  {
   "cell_type": "code",
   "execution_count": 4,
   "metadata": {},
   "outputs": [
    {
     "data": {
      "text/plain": [
       "' <start-ingredients>2 pounds fresh cod$sea salt to taste$1/2 cup olive oil$ <end-ingredients> <start-directions>heat oven to 350 degrees f. spray 13x9 inch baking dish with cooking spray. place into baking dish in a single layer. <end-directions> <start-title>'"
      ]
     },
     "execution_count": 4,
     "metadata": {},
     "output_type": "execute_result"
    }
   ],
   "source": [
    "# If we want to generate ingredients, the prompt would be\n",
    "ingredients(recipe_title, recipe_directions)"
   ]
  },
  {
   "cell_type": "code",
   "execution_count": 5,
   "metadata": {},
   "outputs": [
    {
     "data": {
      "text/plain": [
       "' <start-title>brandade potato latkes <end-title> <start-ingredients>2 pounds fresh cod$sea salt to taste$1/2 cup olive oil$ <end-ingredients> <start-directions>'"
      ]
     },
     "execution_count": 5,
     "metadata": {},
     "output_type": "execute_result"
    }
   ],
   "source": [
    "# If we want to generate directions, the prompt would be\n",
    "directions(recipe_title, recipe_ingredients)"
   ]
  },
  {
   "cell_type": "markdown",
   "metadata": {},
   "source": [
    "#### Then the GPT2 will return the output"
   ]
  },
  {
   "cell_type": "code",
   "execution_count": 6,
   "metadata": {},
   "outputs": [],
   "source": [
    "# if it returns title, just show the title\n",
    "output_title = 'easy , crunchy hot dogs' "
   ]
  },
  {
   "cell_type": "code",
   "execution_count": 7,
   "metadata": {},
   "outputs": [
    {
     "data": {
      "text/plain": [
       "['2 pounds fresh cod', 'sea salt to taste', '1/2 cup olive oil']"
      ]
     },
     "execution_count": 7,
     "metadata": {},
     "output_type": "execute_result"
    }
   ],
   "source": [
    "# if it returns ingredients, then display each line of ingredient in the web page\n",
    "output_ingredients = '2 pounds fresh cod$sea salt to taste$1/2 cup olive oil$' \n",
    "output_ingredients.split('$')[:-1]"
   ]
  },
  {
   "cell_type": "code",
   "execution_count": 8,
   "metadata": {},
   "outputs": [
    {
     "data": {
      "text/plain": [
       "['mix together all ingredients',\n",
       " 'form dough into a ball',\n",
       " 'wrap in foil',\n",
       " 'bake at 350 degrees f for 20 to 25 minutes.']"
      ]
     },
     "execution_count": 8,
     "metadata": {},
     "output_type": "execute_result"
    }
   ],
   "source": [
    "# if it returns directions, then display each line of directions in the web page\n",
    "output_directions = 'mix together all ingredients. form dough into a ball. wrap in foil. bake at 350 degrees f for 20 to 25 minutes.'\n",
    "output_directions.split('. ')"
   ]
  }
 ],
 "metadata": {
  "kernelspec": {
   "display_name": "Python 3",
   "language": "python",
   "name": "python3"
  },
  "language_info": {
   "codemirror_mode": {
    "name": "ipython",
    "version": 3
   },
   "file_extension": ".py",
   "mimetype": "text/x-python",
   "name": "python",
   "nbconvert_exporter": "python",
   "pygments_lexer": "ipython3",
   "version": "3.6.10"
  }
 },
 "nbformat": 4,
 "nbformat_minor": 4
}
