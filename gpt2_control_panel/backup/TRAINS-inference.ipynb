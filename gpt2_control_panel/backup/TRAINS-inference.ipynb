{
 "cells": [
  {
   "cell_type": "code",
   "execution_count": 1,
   "metadata": {},
   "outputs": [
    {
     "name": "stdout",
     "output_type": "stream",
     "text": [
      "TRAINS Task: created new task id=daa65652b1f949d6b7746263dec4fca9\n",
      "TRAINS-SERVER new version available: upgrade to v0.12.1 is recommended!\n",
      "2019-12-09 02:04:31,369 - trains.Task - INFO - No repository found, storing script code instead\n",
      "TRAINS Monitor: GPU monitoring is not available, run \"pip install gpustat\"\n",
      "TRAINS results page: files_server: http://10.0.106.144:5909/projects/749e20249c1647b9bc2794da5e73e116/experiments/daa65652b1f949d6b7746263dec4fca9/output/log\n",
      "TRAINS Monitor: Could not detect iteration reporting, falling back to iterations as seconds-from-start\n",
      "2019-12-09 03:16:02,189 - trains.Task - WARNING - ### TASK STOPPED - USER ABORTED - STATUS CHANGED ###\n"
     ]
    }
   ],
   "source": [
    "from trains import Task # remember to use different name, it will overwrite\n",
    "task = Task.init(project_name=\"HelenaInference\", task_name=\"20191127\")"
   ]
  },
  {
   "cell_type": "code",
   "execution_count": 1,
   "metadata": {},
   "outputs": [],
   "source": [
    "import importlib\n",
    "import os\n",
    "os.environ['CUDA_VISIBLE_DEVICES'] ='3'\n",
    "conditional_gen_dir = importlib.import_module(\"gpt-2.src.conditional_gen_dir\")\n",
    "save = importlib.import_module(\"gpt-2.src.save\")"
   ]
  },
  {
   "cell_type": "code",
   "execution_count": 2,
   "metadata": {},
   "outputs": [],
   "source": [
    "!cp -r /workspace/gpt2_0801/gpt-2/models/117M_default/ /workspace/gpt2_0801/gpt-2/models/20191206/"
   ]
  },
  {
   "cell_type": "code",
   "execution_count": 2,
   "metadata": {},
   "outputs": [],
   "source": [
    "# for the checkpoint\n",
    "!cp -r /workspace/gpt2_0801/gpt-2/checkpoint/20191206/model-783000* /workspace/gpt2_0801/gpt-2/models/20191206/\n",
    "!cp -r /workspace/gpt2_0801/gpt-2/checkpoint/20191206/chec* /workspace/gpt2_0801/gpt-2/models/20191206/"
   ]
  },
  {
   "cell_type": "code",
   "execution_count": 3,
   "metadata": {},
   "outputs": [],
   "source": [
    "#!rm -r /workspace/gpt2_0801/to_gpt2/recipe1M_1118/val/generation_201911118_k10_val/"
   ]
  },
  {
   "cell_type": "code",
   "execution_count": 3,
   "metadata": {},
   "outputs": [
    {
     "name": "stdout",
     "output_type": "stream",
     "text": [
      "['checkpoint', 'encoder.json', 'hparams.json', 'model.ckpt.data-00000-of-00001', 'model.ckpt.meta', 'model.ckpt.index', 'vocab.bpe', 'model-1182000.data-00000-of-00001', 'model-1182000.index', 'model-1182000.meta']\n",
      "['checkpoint-checkpoint', 'encoder-checkpoint.json', 'vocab-checkpoint.bpe']\n",
      "['checkpoint', 'encoder.json', 'hparams.json', 'model.ckpt.data-00000-of-00001', 'model.ckpt.meta', 'model.ckpt.index', 'vocab.bpe']\n",
      "['checkpoint-checkpoint', 'encoder-checkpoint.json', 'vocab-checkpoint.bpe']\n"
     ]
    }
   ],
   "source": [
    "filename = '/workspace/gpt2_0801/gpt-2/models/201911118/'\n",
    "for (dirpath, _, fnames) in os.walk(filename):\n",
    "    print(fnames)"
   ]
  },
  {
   "cell_type": "code",
   "execution_count": 2,
   "metadata": {},
   "outputs": [
    {
     "name": "stdout",
     "output_type": "stream",
     "text": [
      "saved gpt-2/models/20191206/checkpoint\n"
     ]
    }
   ],
   "source": [
    "task_name='20191206'\n",
    "\n",
    "task_params = {'top_k': 10, 'model_name': task_name,\n",
    "          'filename': '/workspace/gpt2_0801/to_gpt2/recipe1M_1118/val/X/',\n",
    "          'overwrite': True, 'tag': '_%s_k10_val'%(task_name)}\n",
    "\n",
    "to_write = {'to_write':'model_checkpoint_path: \"model-672000\"\\n'}\n",
    "modelpath = {'modelpath':'gpt-2/models/%s/checkpoint'%(task_name)}\n",
    "\n",
    "save.save(modelpath['modelpath'], to_write['to_write'], overwrite = True)\n",
    "\n",
    "#conditional_gen_dir.interact_model(**task_params)"
   ]
  },
  {
   "cell_type": "code",
   "execution_count": null,
   "metadata": {},
   "outputs": [],
   "source": [
    "os._exit(00)"
   ]
  },
  {
   "cell_type": "code",
   "execution_count": null,
   "metadata": {},
   "outputs": [],
   "source": [
    "'''\n",
    "conditional_gen_dir.interact_model(top_p  = 0.99, \n",
    "                                   model_name = '2e-5_1002',\n",
    "                                   filename = '/workspace/gpt2_0801/to_gpt2/recipe54k_0916/test/X/',\n",
    "                                   overwrite = True,\n",
    "                                   tag = '_reproduce_2e-5_p99',\n",
    "                                   max_document = 1500\n",
    "                                  )\n",
    "'''"
   ]
  }
 ],
 "metadata": {
  "kernelspec": {
   "display_name": "Python 3",
   "language": "python",
   "name": "python3"
  },
  "language_info": {
   "codemirror_mode": {
    "name": "ipython",
    "version": 3
   },
   "file_extension": ".py",
   "mimetype": "text/x-python",
   "name": "python",
   "nbconvert_exporter": "python",
   "pygments_lexer": "ipython3",
   "version": "3.5.2"
  }
 },
 "nbformat": 4,
 "nbformat_minor": 4
}
