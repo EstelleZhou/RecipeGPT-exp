{
 "cells": [
  {
   "cell_type": "markdown",
   "metadata": {},
   "source": [
    "### Evaluate ppl sample code"
   ]
  },
  {
   "cell_type": "code",
   "execution_count": 1,
   "metadata": {},
   "outputs": [
    {
     "name": "stdout",
     "output_type": "stream",
     "text": [
      "/workspace/gpt2_0801/gpt-2\n"
     ]
    }
   ],
   "source": [
    "cd gpt-2"
   ]
  },
  {
   "cell_type": "code",
   "execution_count": 2,
   "metadata": {},
   "outputs": [],
   "source": [
    "import importlib\n",
    "import os\n",
    "os.environ['CUDA_VISIBLE_DEVICES'] ='7'\n",
    "save = importlib.import_module(\"src.save\")"
   ]
  },
  {
   "cell_type": "code",
   "execution_count": null,
   "metadata": {},
   "outputs": [],
   "source": []
  },
  {
   "cell_type": "code",
   "execution_count": 6,
   "metadata": {},
   "outputs": [
    {
     "name": "stdout",
     "output_type": "stream",
     "text": [
      "2019-12-10 06:47:50.258950: I tensorflow/core/platform/cpu_feature_guard.cc:141] Your CPU supports instructions that this TensorFlow binary was not compiled to use: AVX2 FMA\n",
      "2019-12-10 06:47:52.344768: I tensorflow/core/common_runtime/gpu/gpu_device.cc:1432] Found device 0 with properties: \n",
      "name: Tesla V100-SXM2-16GB major: 7 minor: 0 memoryClockRate(GHz): 1.53\n",
      "pciBusID: 0000:8a:00.0\n",
      "totalMemory: 15.77GiB freeMemory: 15.36GiB\n",
      "2019-12-10 06:47:52.344849: I tensorflow/core/common_runtime/gpu/gpu_device.cc:1511] Adding visible gpu devices: 0\n",
      "2019-12-10 06:47:53.500957: I tensorflow/core/common_runtime/gpu/gpu_device.cc:982] Device interconnect StreamExecutor with strength 1 edge matrix:\n",
      "2019-12-10 06:47:53.501130: I tensorflow/core/common_runtime/gpu/gpu_device.cc:988]      0 \n",
      "2019-12-10 06:47:53.501163: I tensorflow/core/common_runtime/gpu/gpu_device.cc:1001] 0:   N \n",
      "2019-12-10 06:47:53.501774: I tensorflow/core/common_runtime/gpu/gpu_device.cc:1115] Created TensorFlow device (/job:localhost/replica:0/task:0/device:GPU:0 with 14858 MB memory) -> physical GPU (device: 0, name: Tesla V100-SXM2-16GB, pci bus id: 0000:8a:00.0, compute capability: 7.0)\n",
      "Loading checkpoint models/201911118/model-1182000\n",
      "Loading dataset...\n",
      "Training...\n",
      "Calculating validation loss...\n",
      "100%|███████████████████████████████████████| 4000/4000 [03:08<00:00, 21.22it/s]\n",
      "[540348 | 188.70] validation loss = 1.32 |validation ppl = 3.75\n",
      "1.3225493 1.3225493\n"
     ]
    }
   ],
   "source": [
    "!CUDA_VISIBLE_DEVICES=\"7\" python train_ppl.py --dataset 'eval_only' --model_name '201911118' --val_dataset /workspace/gpt2_0801/to_gpt2/recipe1M_1118/chunk.val --val_every 1 --val_batch_count 4000 "
   ]
  },
  {
   "cell_type": "code",
   "execution_count": 7,
   "metadata": {},
   "outputs": [
    {
     "name": "stdout",
     "output_type": "stream",
     "text": [
      "2019-12-10 06:51:40.981249: I tensorflow/core/platform/cpu_feature_guard.cc:141] Your CPU supports instructions that this TensorFlow binary was not compiled to use: AVX2 FMA\n",
      "2019-12-10 06:51:43.220852: I tensorflow/core/common_runtime/gpu/gpu_device.cc:1432] Found device 0 with properties: \n",
      "name: Tesla V100-SXM2-16GB major: 7 minor: 0 memoryClockRate(GHz): 1.53\n",
      "pciBusID: 0000:8a:00.0\n",
      "totalMemory: 15.77GiB freeMemory: 15.36GiB\n",
      "2019-12-10 06:51:43.220910: I tensorflow/core/common_runtime/gpu/gpu_device.cc:1511] Adding visible gpu devices: 0\n",
      "2019-12-10 06:51:44.184928: I tensorflow/core/common_runtime/gpu/gpu_device.cc:982] Device interconnect StreamExecutor with strength 1 edge matrix:\n",
      "2019-12-10 06:51:44.185028: I tensorflow/core/common_runtime/gpu/gpu_device.cc:988]      0 \n",
      "2019-12-10 06:51:44.185054: I tensorflow/core/common_runtime/gpu/gpu_device.cc:1001] 0:   N \n",
      "2019-12-10 06:51:44.185680: I tensorflow/core/common_runtime/gpu/gpu_device.cc:1115] Created TensorFlow device (/job:localhost/replica:0/task:0/device:GPU:0 with 14858 MB memory) -> physical GPU (device: 0, name: Tesla V100-SXM2-16GB, pci bus id: 0000:8a:00.0, compute capability: 7.0)\n",
      "Loading checkpoint models/20191205/model-570000\n",
      "Loading dataset...\n",
      "Training...\n",
      "Calculating validation loss...\n",
      "100%|███████████████████████████████████████| 4000/4000 [02:16<00:00, 29.35it/s]\n",
      "[540348 | 136.50] validation loss = 1.32 |validation ppl = 3.74\n",
      "1.318397 1.318397\n"
     ]
    }
   ],
   "source": [
    "!CUDA_VISIBLE_DEVICES=\"7\" python train_ppl.py --dataset 'eval_only' --model_name '20191205' --val_dataset /workspace/gpt2_0801/to_gpt2/recipe1M_1118/chunk.val --val_every 1 --val_batch_count 4000 "
   ]
  },
  {
   "cell_type": "code",
   "execution_count": 5,
   "metadata": {},
   "outputs": [
    {
     "name": "stdout",
     "output_type": "stream",
     "text": [
      "2019-12-10 06:41:31.920904: I tensorflow/core/platform/cpu_feature_guard.cc:141] Your CPU supports instructions that this TensorFlow binary was not compiled to use: AVX2 FMA\n",
      "2019-12-10 06:41:33.503699: I tensorflow/core/common_runtime/gpu/gpu_device.cc:1432] Found device 0 with properties: \n",
      "name: Tesla V100-SXM2-16GB major: 7 minor: 0 memoryClockRate(GHz): 1.53\n",
      "pciBusID: 0000:8a:00.0\n",
      "totalMemory: 15.77GiB freeMemory: 15.36GiB\n",
      "2019-12-10 06:41:33.503767: I tensorflow/core/common_runtime/gpu/gpu_device.cc:1511] Adding visible gpu devices: 0\n",
      "2019-12-10 06:41:34.394526: I tensorflow/core/common_runtime/gpu/gpu_device.cc:982] Device interconnect StreamExecutor with strength 1 edge matrix:\n",
      "2019-12-10 06:41:34.394595: I tensorflow/core/common_runtime/gpu/gpu_device.cc:988]      0 \n",
      "2019-12-10 06:41:34.394613: I tensorflow/core/common_runtime/gpu/gpu_device.cc:1001] 0:   N \n",
      "2019-12-10 06:41:34.395191: I tensorflow/core/common_runtime/gpu/gpu_device.cc:1115] Created TensorFlow device (/job:localhost/replica:0/task:0/device:GPU:0 with 14858 MB memory) -> physical GPU (device: 0, name: Tesla V100-SXM2-16GB, pci bus id: 0000:8a:00.0, compute capability: 7.0)\n",
      "Loading checkpoint models/20191127/model-918000\n",
      "Loading dataset...\n",
      "Training...\n",
      "Calculating validation loss...\n",
      "100%|███████████████████████████████████████| 4000/4000 [05:11<00:00,  8.06it/s]\n",
      "[540348 | 311.76] validation loss = 1.30 |validation ppl = 3.67\n",
      "1.2993011 1.2993011\n"
     ]
    }
   ],
   "source": [
    "!CUDA_VISIBLE_DEVICES=\"7\" python train_ppl.py --dataset 'eval_only' --model_name '20191127' --val_dataset /workspace/gpt2_0801/to_gpt2/recipe1M_1118/chunk.val --val_every 1 --val_batch_count 4000 "
   ]
  },
  {
   "cell_type": "code",
   "execution_count": 5,
   "metadata": {},
   "outputs": [
    {
     "name": "stdout",
     "output_type": "stream",
     "text": [
      "2019-12-10 07:05:26.751488: I tensorflow/core/platform/cpu_feature_guard.cc:141] Your CPU supports instructions that this TensorFlow binary was not compiled to use: AVX2 FMA\n",
      "2019-12-10 07:05:29.265588: I tensorflow/core/common_runtime/gpu/gpu_device.cc:1432] Found device 0 with properties: \n",
      "name: Tesla V100-SXM2-16GB major: 7 minor: 0 memoryClockRate(GHz): 1.53\n",
      "pciBusID: 0000:89:00.0\n",
      "totalMemory: 15.77GiB freeMemory: 15.36GiB\n",
      "2019-12-10 07:05:29.265657: I tensorflow/core/common_runtime/gpu/gpu_device.cc:1511] Adding visible gpu devices: 0\n",
      "2019-12-10 07:05:29.800599: I tensorflow/core/common_runtime/gpu/gpu_device.cc:982] Device interconnect StreamExecutor with strength 1 edge matrix:\n",
      "2019-12-10 07:05:29.800697: I tensorflow/core/common_runtime/gpu/gpu_device.cc:988]      0 \n",
      "2019-12-10 07:05:29.800724: I tensorflow/core/common_runtime/gpu/gpu_device.cc:1001] 0:   N \n",
      "2019-12-10 07:05:29.801512: I tensorflow/core/common_runtime/gpu/gpu_device.cc:1115] Created TensorFlow device (/job:localhost/replica:0/task:0/device:GPU:0 with 14858 MB memory) -> physical GPU (device: 0, name: Tesla V100-SXM2-16GB, pci bus id: 0000:89:00.0, compute capability: 7.0)\n",
      "Loading checkpoint models/20191206/model-567000\n",
      "Loading dataset...\n",
      "Training...\n",
      "Calculating validation loss...\n",
      "100%|███████████████████████████████████████| 4000/4000 [02:08<00:00, 31.20it/s]\n",
      "[540348 | 128.42] validation loss = 1.31 |validation ppl = 3.70\n",
      "1.3087554 1.3087554\n"
     ]
    }
   ],
   "source": [
    "!CUDA_VISIBLE_DEVICES=\"6\" python train_ppl.py --dataset 'eval_only' --model_name '20191206' --val_dataset /workspace/gpt2_0801/to_gpt2/recipe1M_1118/chunk.val --val_every 1 --val_batch_count 4000 "
   ]
  },
  {
   "cell_type": "code",
   "execution_count": 4,
   "metadata": {},
   "outputs": [
    {
     "name": "stdout",
     "output_type": "stream",
     "text": [
      "2019-12-11 02:27:05.435934: I tensorflow/core/platform/cpu_feature_guard.cc:141] Your CPU supports instructions that this TensorFlow binary was not compiled to use: AVX2 FMA\n",
      "2019-12-11 02:27:06.563247: I tensorflow/core/common_runtime/gpu/gpu_device.cc:1432] Found device 0 with properties: \n",
      "name: Tesla V100-SXM2-16GB major: 7 minor: 0 memoryClockRate(GHz): 1.53\n",
      "pciBusID: 0000:89:00.0\n",
      "totalMemory: 15.77GiB freeMemory: 15.36GiB\n",
      "2019-12-11 02:27:06.563388: I tensorflow/core/common_runtime/gpu/gpu_device.cc:1511] Adding visible gpu devices: 0\n",
      "2019-12-11 02:27:07.487375: I tensorflow/core/common_runtime/gpu/gpu_device.cc:982] Device interconnect StreamExecutor with strength 1 edge matrix:\n",
      "2019-12-11 02:27:07.487430: I tensorflow/core/common_runtime/gpu/gpu_device.cc:988]      0 \n",
      "2019-12-11 02:27:07.487448: I tensorflow/core/common_runtime/gpu/gpu_device.cc:1001] 0:   N \n",
      "2019-12-11 02:27:07.491712: I tensorflow/core/common_runtime/gpu/gpu_device.cc:1115] Created TensorFlow device (/job:localhost/replica:0/task:0/device:GPU:0 with 14858 MB memory) -> physical GPU (device: 0, name: Tesla V100-SXM2-16GB, pci bus id: 0000:89:00.0, compute capability: 7.0)\n",
      "Loading checkpoint models/20191206/model-672000\n",
      "Loading dataset...\n",
      "Training...\n",
      "Calculating validation loss...\n",
      "100%|███████████████████████████████████████| 4000/4000 [02:35<00:00, 25.73it/s]\n",
      "[540348 | 155.72] validation loss = 1.30 |validation ppl = 3.68\n",
      "1.3037158 1.3037158\n"
     ]
    }
   ],
   "source": [
    "!CUDA_VISIBLE_DEVICES=\"6\" python train_ppl.py --dataset 'eval_only' --model_name '20191206' --val_dataset /workspace/gpt2_0801/to_gpt2/recipe1M_1118/chunk.val --val_every 1 --val_batch_count 4000 "
   ]
  },
  {
   "cell_type": "code",
   "execution_count": 2,
   "metadata": {},
   "outputs": [
    {
     "name": "stdout",
     "output_type": "stream",
     "text": [
      "2019-12-11 02:15:07.175018: I tensorflow/core/platform/cpu_feature_guard.cc:141] Your CPU supports instructions that this TensorFlow binary was not compiled to use: AVX2 FMA\n",
      "2019-12-11 02:15:09.005598: I tensorflow/core/common_runtime/gpu/gpu_device.cc:1432] Found device 0 with properties: \n",
      "name: Tesla V100-SXM2-16GB major: 7 minor: 0 memoryClockRate(GHz): 1.53\n",
      "pciBusID: 0000:89:00.0\n",
      "totalMemory: 15.77GiB freeMemory: 15.36GiB\n",
      "2019-12-11 02:15:09.005660: I tensorflow/core/common_runtime/gpu/gpu_device.cc:1511] Adding visible gpu devices: 0\n",
      "2019-12-11 02:15:09.471712: I tensorflow/core/common_runtime/gpu/gpu_device.cc:982] Device interconnect StreamExecutor with strength 1 edge matrix:\n",
      "2019-12-11 02:15:09.471788: I tensorflow/core/common_runtime/gpu/gpu_device.cc:988]      0 \n",
      "2019-12-11 02:15:09.471806: I tensorflow/core/common_runtime/gpu/gpu_device.cc:1001] 0:   N \n",
      "2019-12-11 02:15:09.472295: I tensorflow/core/common_runtime/gpu/gpu_device.cc:1115] Created TensorFlow device (/job:localhost/replica:0/task:0/device:GPU:0 with 14858 MB memory) -> physical GPU (device: 0, name: Tesla V100-SXM2-16GB, pci bus id: 0000:89:00.0, compute capability: 7.0)\n",
      "Loading checkpoint models/20191206/model-783000\n",
      "Loading dataset...\n",
      "Training...\n",
      "Calculating validation loss...\n",
      "100%|███████████████████████████████████████| 4000/4000 [02:55<00:00, 22.76it/s]\n",
      "[540348 | 175.97] validation loss = 1.30 |validation ppl = 3.69\n",
      "1.3047094 1.3047094\n"
     ]
    }
   ],
   "source": [
    "!CUDA_VISIBLE_DEVICES=\"6\" python train_ppl.py --dataset 'eval_only' --model_name '20191206' --val_dataset /workspace/gpt2_0801/to_gpt2/recipe1M_1118/chunk.val --val_every 1 --val_batch_count 4000 "
   ]
  },
  {
   "cell_type": "code",
   "execution_count": null,
   "metadata": {},
   "outputs": [],
   "source": []
  },
  {
   "cell_type": "code",
   "execution_count": null,
   "metadata": {},
   "outputs": [],
   "source": []
  },
  {
   "cell_type": "code",
   "execution_count": 3,
   "metadata": {},
   "outputs": [
    {
     "name": "stdout",
     "output_type": "stream",
     "text": [
      "2019-09-01 07:17:06.075010: I tensorflow/core/platform/cpu_feature_guard.cc:141] Your CPU supports instructions that this TensorFlow binary was not compiled to use: AVX2 FMA\n",
      "2019-09-01 07:17:06.857436: I tensorflow/core/common_runtime/gpu/gpu_device.cc:1432] Found device 0 with properties: \n",
      "name: Tesla V100-SXM2-16GB major: 7 minor: 0 memoryClockRate(GHz): 1.53\n",
      "pciBusID: 0000:0b:00.0\n",
      "totalMemory: 15.77GiB freeMemory: 15.36GiB\n",
      "2019-09-01 07:17:06.857510: I tensorflow/core/common_runtime/gpu/gpu_device.cc:1511] Adding visible gpu devices: 0\n",
      "2019-09-01 07:17:07.291026: I tensorflow/core/common_runtime/gpu/gpu_device.cc:982] Device interconnect StreamExecutor with strength 1 edge matrix:\n",
      "2019-09-01 07:17:07.291090: I tensorflow/core/common_runtime/gpu/gpu_device.cc:988]      0 \n",
      "2019-09-01 07:17:07.291120: I tensorflow/core/common_runtime/gpu/gpu_device.cc:1001] 0:   N \n",
      "2019-09-01 07:17:07.291594: I tensorflow/core/common_runtime/gpu/gpu_device.cc:1115] Created TensorFlow device (/job:localhost/replica:0/task:0/device:GPU:0 with 14858 MB memory) -> physical GPU (device: 0, name: Tesla V100-SXM2-16GB, pci bus id: 0000:0b:00.0, compute capability: 7.0)\n",
      "Loading checkpoint models/117M_inference/model-308000\n",
      "Loading dataset...\n",
      "100%|████████████████████████████████████| 97335/97335 [09:09<00:00, 177.16it/s]\n",
      "dataset has 12 tokens\n",
      "Training...\n",
      "Calculating validation loss...\n",
      "100%|███████████████████████████████████| 32445/32445 [1:37:58<00:00,  9.37it/s]\n",
      "[858101 | 5878.19] validation loss = 0.33 |validation ppl = 1.40\n"
     ]
    }
   ],
   "source": [
    "!CUDA_VISIBLE_DEVICES=\"3\" python train_ppl.py --dataset 'eval_only' --model_name '117M_inference' --val_dataset /workspace/gpt2_0801/to_gpt2/recipe54k_0827/train/ --val_every 1 --val_batch_count 32445"
   ]
  },
  {
   "cell_type": "code",
   "execution_count": 4,
   "metadata": {},
   "outputs": [
    {
     "name": "stdout",
     "output_type": "stream",
     "text": [
      "2019-09-01 09:05:33.166731: I tensorflow/core/platform/cpu_feature_guard.cc:141] Your CPU supports instructions that this TensorFlow binary was not compiled to use: AVX2 FMA\n",
      "2019-09-01 09:05:34.006218: I tensorflow/core/common_runtime/gpu/gpu_device.cc:1432] Found device 0 with properties: \n",
      "name: Tesla V100-SXM2-16GB major: 7 minor: 0 memoryClockRate(GHz): 1.53\n",
      "pciBusID: 0000:0b:00.0\n",
      "totalMemory: 15.77GiB freeMemory: 10.72GiB\n",
      "2019-09-01 09:05:34.006280: I tensorflow/core/common_runtime/gpu/gpu_device.cc:1511] Adding visible gpu devices: 0\n",
      "2019-09-01 09:05:34.455637: I tensorflow/core/common_runtime/gpu/gpu_device.cc:982] Device interconnect StreamExecutor with strength 1 edge matrix:\n",
      "2019-09-01 09:05:34.455720: I tensorflow/core/common_runtime/gpu/gpu_device.cc:988]      0 \n",
      "2019-09-01 09:05:34.455803: I tensorflow/core/common_runtime/gpu/gpu_device.cc:1001] 0:   N \n",
      "2019-09-01 09:05:34.456244: I tensorflow/core/common_runtime/gpu/gpu_device.cc:1115] Created TensorFlow device (/job:localhost/replica:0/task:0/device:GPU:0 with 10353 MB memory) -> physical GPU (device: 0, name: Tesla V100-SXM2-16GB, pci bus id: 0000:0b:00.0, compute capability: 7.0)\n",
      "Loading checkpoint models/117M_inference/model-308000\n",
      "Loading dataset...\n",
      "100%|████████████████████████████████████| 32448/32448 [02:42<00:00, 199.48it/s]\n",
      "dataset has 12 tokens\n",
      "Training...\n",
      "Calculating validation loss...\n",
      "100%|███████████████████████████████████| 32445/32445 [1:08:22<00:00,  9.23it/s]\n",
      "[858101 | 4102.76] validation loss = 1.99 |validation ppl = 7.29\n"
     ]
    }
   ],
   "source": [
    "!CUDA_VISIBLE_DEVICES=\"3\" python train_ppl.py --dataset 'eval_only' --model_name '117M_inference' --val_dataset /workspace/gpt2_0801/to_gpt2/recipe54k_0827/test/Xy/ --val_every 1 --val_batch_count 32445"
   ]
  },
  {
   "cell_type": "code",
   "execution_count": 3,
   "metadata": {},
   "outputs": [
    {
     "name": "stdout",
     "output_type": "stream",
     "text": [
      "make dir\n",
      "saved gpt-2/models/117M_inference/checkpoint\n",
      "2019-09-01 11:49:10.537719: I tensorflow/core/platform/cpu_feature_guard.cc:141] Your CPU supports instructions that this TensorFlow binary was not compiled to use: AVX2 FMA\n",
      "2019-09-01 11:49:11.953600: I tensorflow/core/common_runtime/gpu/gpu_device.cc:1432] Found device 0 with properties: \n",
      "name: Tesla V100-SXM2-16GB major: 7 minor: 0 memoryClockRate(GHz): 1.53\n",
      "pciBusID: 0000:0b:00.0\n",
      "totalMemory: 15.77GiB freeMemory: 15.36GiB\n",
      "2019-09-01 11:49:11.953685: I tensorflow/core/common_runtime/gpu/gpu_device.cc:1511] Adding visible gpu devices: 0\n",
      "2019-09-01 11:49:12.382950: I tensorflow/core/common_runtime/gpu/gpu_device.cc:982] Device interconnect StreamExecutor with strength 1 edge matrix:\n",
      "2019-09-01 11:49:12.383027: I tensorflow/core/common_runtime/gpu/gpu_device.cc:988]      0 \n",
      "2019-09-01 11:49:12.383063: I tensorflow/core/common_runtime/gpu/gpu_device.cc:1001] 0:   N \n",
      "2019-09-01 11:49:12.383948: I tensorflow/core/common_runtime/gpu/gpu_device.cc:1115] Created TensorFlow device (/job:localhost/replica:0/task:0/device:GPU:0 with 14858 MB memory) -> physical GPU (device: 0, name: Tesla V100-SXM2-16GB, pci bus id: 0000:0b:00.0, compute capability: 7.0)\n",
      "Loading checkpoint models/117M_inference/model-308000\n",
      "Loading dataset...\n",
      "100%|████████████████████████████████████| 32448/32448 [02:38<00:00, 204.87it/s]\n",
      "dataset has 12 tokens\n",
      "Training...\n",
      "Calculating validation loss...\n",
      "100%|███████████████████████████████████| 32445/32445 [1:04:14<00:00,  7.08it/s]\n",
      "[858101 | 3854.78] validation loss = 1.99 |validation ppl = 7.29\n"
     ]
    }
   ],
   "source": [
    "to_write = 'model_checkpoint_path: \"model-545000\"\\n'\n",
    "save.save('gpt-2/models/117M_inference/checkpoint', to_write, overwrite = True)\n",
    "!CUDA_VISIBLE_DEVICES=\"3\" python train_ppl.py --dataset 'eval_only' --model_name '117M_inference' --val_dataset /workspace/gpt2_0801/to_gpt2/recipe54k_0827/test/Xy/ --val_every 1 --val_batch_count 32445"
   ]
  },
  {
   "cell_type": "code",
   "execution_count": 5,
   "metadata": {},
   "outputs": [
    {
     "name": "stdout",
     "output_type": "stream",
     "text": [
      "saved gpt-2/models/117M_inference/checkpoint\n",
      "Traceback (most recent call last):\n",
      "  File \"train_ppl.py\", line 15, in <module>\n",
      "    from src.load_dataset import load_dataset, Sampler, load_dataset_pad\n",
      "ImportError: cannot import name 'load_dataset_pad'\n"
     ]
    }
   ],
   "source": [
    "to_write = 'model_checkpoint_path: \"model-851000\"\\n'\n",
    "save.save('gpt-2/models/117M_inference/checkpoint', to_write, overwrite = True)\n",
    "!CUDA_VISIBLE_DEVICES=\"3\" python train_ppl.py --dataset 'eval_only' --model_name '117M_inference' --val_dataset /workspace/gpt2_0801/to_gpt2/recipe54k_0827/test/Xy/ --val_every 1 --val_batch_count 32445"
   ]
  }
 ],
 "metadata": {
  "kernelspec": {
   "display_name": "Python 3",
   "language": "python",
   "name": "python3"
  },
  "language_info": {
   "codemirror_mode": {
    "name": "ipython",
    "version": 3
   },
   "file_extension": ".py",
   "mimetype": "text/x-python",
   "name": "python",
   "nbconvert_exporter": "python",
   "pygments_lexer": "ipython3",
   "version": "3.5.2"
  }
 },
 "nbformat": 4,
 "nbformat_minor": 4
}
