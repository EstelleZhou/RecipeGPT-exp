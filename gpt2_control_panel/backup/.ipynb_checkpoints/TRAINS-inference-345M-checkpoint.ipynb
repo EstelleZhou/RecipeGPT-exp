{
 "cells": [
  {
   "cell_type": "code",
   "execution_count": 1,
   "metadata": {},
   "outputs": [
    {
     "name": "stdout",
     "output_type": "stream",
     "text": [
      "TRAINS Task: overwriting (reusing) task id=daa65652b1f949d6b7746263dec4fca9\n",
      "TRAINS-SERVER new version available: upgrade to v0.12.1 is recommended!\n",
      "2019-12-09 02:05:05,348 - trains.Task - INFO - No repository found, storing script code instead\n",
      "TRAINS Monitor: GPU monitoring is not available, run \"pip install gpustat\"\n",
      "TRAINS results page: files_server: http://10.0.106.144:5909/projects/749e20249c1647b9bc2794da5e73e116/experiments/daa65652b1f949d6b7746263dec4fca9/output/log\n"
     ]
    }
   ],
   "source": [
    "from trains import Task # remember to use different name, it will overwrite\n",
    "task = Task.init(project_name=\"HelenaInference\", task_name=\"20191127\")"
   ]
  },
  {
   "cell_type": "code",
   "execution_count": 1,
   "metadata": {},
   "outputs": [],
   "source": [
    "import importlib\n",
    "import os\n",
    "os.environ['CUDA_VISIBLE_DEVICES'] ='1'\n",
    "conditional_gen_dir = importlib.import_module(\"gpt-2.src.conditional_gen_dir\")\n",
    "save = importlib.import_module(\"gpt-2.src.save\")"
   ]
  },
  {
   "cell_type": "code",
   "execution_count": 3,
   "metadata": {},
   "outputs": [],
   "source": [
    "!cp -r /workspace/gpt2_0801/gpt-2/models/345M/ /workspace/gpt2_0801/gpt-2/models/20191127/"
   ]
  },
  {
   "cell_type": "code",
   "execution_count": 4,
   "metadata": {},
   "outputs": [
    {
     "name": "stdout",
     "output_type": "stream",
     "text": [
      "TRAINS Monitor: Could not detect iteration reporting, falling back to iterations as seconds-from-start\n"
     ]
    }
   ],
   "source": [
    "# for the checkpoint\n",
    "!cp -r /workspace/gpt2_0801/gpt-2/checkpoint/20191127/model-918000* /workspace/gpt2_0801/gpt-2/models/20191127/\n",
    "!cp -r /workspace/gpt2_0801/gpt-2/checkpoint/20191127/chec* /workspace/gpt2_0801/gpt-2/models/20191127/"
   ]
  },
  {
   "cell_type": "code",
   "execution_count": 3,
   "metadata": {},
   "outputs": [],
   "source": [
    "#!rm -r /workspace/gpt2_0801/to_gpt2/recipe1M_1118/val/generation_201911118_k10_val/"
   ]
  },
  {
   "cell_type": "code",
   "execution_count": null,
   "metadata": {},
   "outputs": [
    {
     "name": "stdout",
     "output_type": "stream",
     "text": [
      "saved gpt-2/models/20191127/checkpoint\n"
     ]
    },
    {
     "name": "stderr",
     "output_type": "stream",
     "text": [
      "100%|██████████| 12000/12000 [01:11<00:00, 168.62it/s]\n"
     ]
    },
    {
     "name": "stdout",
     "output_type": "stream",
     "text": [
      "time spent in encoding 0:01:11.435447\n",
      "INFO:tensorflow:Restoring parameters from /workspace/gpt2_0801/gpt-2/models/20191127/model-918000\n"
     ]
    },
    {
     "name": "stderr",
     "output_type": "stream",
     "text": [
      "  0%|          | 0/8000 [00:00<?, ?it/s]"
     ]
    },
    {
     "name": "stdout",
     "output_type": "stream",
     "text": [
      "start decoding 2019-12-10 06:18:14.980150\n"
     ]
    },
    {
     "name": "stderr",
     "output_type": "stream",
     "text": [
      "  0%|          | 1/8000 [00:18<40:30:25, 18.23s/it]"
     ]
    },
    {
     "name": "stdout",
     "output_type": "stream",
     "text": [
      "make dir\n"
     ]
    },
    {
     "name": "stderr",
     "output_type": "stream",
     "text": [
      " 91%|█████████ | 7248/8000 [23:36:40<2:42:47, 12.99s/it] "
     ]
    }
   ],
   "source": [
    "task_name='20191127'\n",
    "\n",
    "task_params = {'top_k': 3, 'model_name': task_name,\n",
    "          'filename': '/workspace/gpt2_0801/to_gpt2/recipe1M_1118/val/X/',\n",
    "          'overwrite': True, 'tag': '_%s_k3_val'%(task_name)}\n",
    "\n",
    "to_write = {'to_write':'model_checkpoint_path: \"model-918000\"\\n'}\n",
    "modelpath = {'modelpath':'gpt-2/models/%s/checkpoint'%(task_name)}\n",
    "\n",
    "save.save(modelpath['modelpath'], to_write['to_write'], overwrite = True)\n",
    "conditional_gen_dir.interact_model(**task_params)"
   ]
  },
  {
   "cell_type": "code",
   "execution_count": null,
   "metadata": {},
   "outputs": [],
   "source": [
    "os._exit(00)"
   ]
  },
  {
   "cell_type": "code",
   "execution_count": null,
   "metadata": {},
   "outputs": [],
   "source": []
  },
  {
   "cell_type": "code",
   "execution_count": null,
   "metadata": {},
   "outputs": [],
   "source": [
    "'''\n",
    "conditional_gen_dir.interact_model(top_p  = 0.99, \n",
    "                                   model_name = '2e-5_1002',\n",
    "                                   filename = '/workspace/gpt2_0801/to_gpt2/recipe54k_0916/test/X/',\n",
    "                                   overwrite = True,\n",
    "                                   tag = '_reproduce_2e-5_p99',\n",
    "                                   max_document = 1500\n",
    "                                  )\n",
    "'''"
   ]
  }
 ],
 "metadata": {
  "kernelspec": {
   "display_name": "Python 3",
   "language": "python",
   "name": "python3"
  },
  "language_info": {
   "codemirror_mode": {
    "name": "ipython",
    "version": 3
   },
   "file_extension": ".py",
   "mimetype": "text/x-python",
   "name": "python",
   "nbconvert_exporter": "python",
   "pygments_lexer": "ipython3",
   "version": "3.5.2"
  }
 },
 "nbformat": 4,
 "nbformat_minor": 4
}
