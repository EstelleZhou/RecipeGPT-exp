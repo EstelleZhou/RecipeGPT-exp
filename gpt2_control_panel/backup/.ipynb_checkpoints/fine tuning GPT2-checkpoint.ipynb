{
 "cells": [
  {
   "cell_type": "markdown",
   "metadata": {},
   "source": [
    "### Create this notebook to control gpt-2 on DGX-v2"
   ]
  },
  {
   "cell_type": "markdown",
   "metadata": {},
   "source": [
    "make sure you are inside the gpt-2"
   ]
  },
  {
   "cell_type": "code",
   "execution_count": 5,
   "metadata": {},
   "outputs": [
    {
     "name": "stdout",
     "output_type": "stream",
     "text": [
      "[Errno 2] No such file or directory: 'gpt-2'\n",
      "/workspace/gpt2_0801/gpt-2/checkpoint\n"
     ]
    }
   ],
   "source": [
    "cd gpt-2"
   ]
  },
  {
   "cell_type": "code",
   "execution_count": 6,
   "metadata": {},
   "outputs": [
    {
     "data": {
      "text/plain": [
       "'/workspace/gpt2_0801/gpt-2/checkpoint'"
      ]
     },
     "execution_count": 6,
     "metadata": {},
     "output_type": "execute_result"
    }
   ],
   "source": [
    "pwd"
   ]
  },
  {
   "cell_type": "code",
   "execution_count": 3,
   "metadata": {},
   "outputs": [
    {
     "name": "stdout",
     "output_type": "stream",
     "text": [
      "Fetching checkpoint: 1.00kit [00:00, 930kit/s]                                                      \n",
      "Fetching encoder.json: 1.04Mit [00:00, 27.4Mit/s]                                                   \n",
      "Fetching hparams.json: 1.00kit [00:00, 712kit/s]                                                    \n",
      "Fetching model.ckpt.data-00000-of-00001: 498Mit [00:19, 26.0Mit/s]                                  \n",
      "Fetching model.ckpt.index: 6.00kit [00:00, 3.26Mit/s]                                               \n",
      "Fetching model.ckpt.meta: 472kit [00:00, 38.5Mit/s]                                                 \n",
      "Fetching vocab.bpe: 457kit [00:00, 32.7Mit/s]                                                       \n"
     ]
    }
   ],
   "source": [
    "!python download_model.py 117M"
   ]
  },
  {
   "cell_type": "code",
   "execution_count": null,
   "metadata": {},
   "outputs": [],
   "source": [
    "# version 20190827\n",
    "# CUDA_VISIBLE_DEVICES=\"7\" python train_ppl.py --dataset /workspace/gpt2_0801/to_gpt2/recipe54k_0827/train/ --model_name '117M' --val_dataset /workspace/gpt2_0801/to_gpt2/recipe54k_0827/val/ --val_every 1000 --sample_every 1000 --learning_rate 1e-6"
   ]
  },
  {
   "cell_type": "code",
   "execution_count": null,
   "metadata": {},
   "outputs": [],
   "source": []
  },
  {
   "cell_type": "code",
   "execution_count": null,
   "metadata": {},
   "outputs": [],
   "source": [
    "# version 20190918\n",
    "CUDA_VISIBLE_DEVICES=\"3\" python train_ppl.py --dataset /workspace/gpt2_0801/to_gpt2/recipe54k_0916/train/ --model_name '117M' --val_dataset /workspace/gpt2_0801/to_gpt2/recipe54k_0916/val/ --val_every 1500 --sample_every 1500 --learning_rate 1e-6 --max_length 512 --batch_size 8 --val_batch_size 8 --val_batch_count 1500"
   ]
  },
  {
   "cell_type": "code",
   "execution_count": null,
   "metadata": {},
   "outputs": [],
   "source": [
    "# version 20190918 loss verb \n",
    "CUDA_VISIBLE_DEVICES=\"2\" python train_verb.py --dataset /workspace/gpt2_0801/to_gpt2/recipe54k_0916/train/ --model_name '117M' --val_dataset /workspace/gpt2_0801/to_gpt2/recipe54k_0916/val/ --val_every 1500 --sample_every 1500 --learning_rate 1e-6 --max_length 512 --batch_size 8 --val_batch_size 8 --val_batch_count 1500 --run_name verb5"
   ]
  },
  {
   "cell_type": "code",
   "execution_count": null,
   "metadata": {},
   "outputs": [],
   "source": [
    "# version 20190923 learning rate 2e-5\n",
    "CUDA_VISIBLE_DEVICES=\"2\" python train_ppl.py --dataset /workspace/gpt2_0801/to_gpt2/recipe54k_0916/train/ --model_name '117M' --val_dataset /workspace/gpt2_0801/to_gpt2/recipe54k_0916/val/ --val_every 1500 --sample_every 1500 --max_length 512 --batch_size 8 --val_batch_size 8 --val_batch_count 1500 --run_name 2e-5 --trains 20190923"
   ]
  },
  {
   "cell_type": "code",
   "execution_count": null,
   "metadata": {},
   "outputs": [],
   "source": [
    "# version 20190923 learning rate 1e-5\n",
    "CUDA_VISIBLE_DEVICES=\"2\" python train_ppl.py --dataset /workspace/gpt2_0801/to_gpt2/recipe54k_0916/train/ --model_name '117M' --val_dataset /workspace/gpt2_0801/to_gpt2/recipe54k_0916/val/ --val_every 1500 --sample_every 1500 --max_length 512 --batch_size 8 --val_batch_size 8 --val_batch_count 1500 --run_name 1e-5 --trains 20190924"
   ]
  },
  {
   "cell_type": "code",
   "execution_count": null,
   "metadata": {},
   "outputs": [],
   "source": [
    "# version 20190923 learning rate 5e-5\n",
    "CUDA_VISIBLE_DEVICES=\"2\" python train_ppl.py --dataset /workspace/gpt2_0801/to_gpt2/recipe54k_0916/train/ --model_name '117M' --val_dataset /workspace/gpt2_0801/to_gpt2/recipe54k_0916/val/ --val_every 1500 --sample_every 1500 --max_length 512 --batch_size 8 --val_batch_size 8 --val_batch_count 1500 --learning_rate 5e-5 --run_name 5e-5 --trains 20190924-5e-5"
   ]
  },
  {
   "cell_type": "code",
   "execution_count": null,
   "metadata": {},
   "outputs": [],
   "source": [
    "# version 20190923 learning rate 1e-5\n",
    "CUDA_VISIBLE_DEVICES=\"3\" python train_ppl.py --dataset /workspace/gpt2_0801/to_gpt2/recipe54k_0916/train/ --model_name '117M' --val_dataset /workspace/gpt2_0801/to_gpt2/recipe54k_0916/val/ --val_every 1500 --sample_every 1500 --max_length 512 --batch_size 8 --val_batch_size 8 --val_batch_count 1500 --learning_rate 1e-5 --run_name 1e-5_ --trains 20190924-1e-5"
   ]
  },
  {
   "cell_type": "code",
   "execution_count": null,
   "metadata": {},
   "outputs": [],
   "source": [
    "# version 20190925 learning rate 1e-5 style\n",
    "CUDA_VISIBLE_DEVICES=\"3\" python train_style.py --dataset /workspace/gpt2_0801/to_gpt2/recipe54k_0925/train/ --model_name '117M' --val_dataset /workspace/gpt2_0801/to_gpt2/recipe54k_0916/val/ --val_every 1500 --sample_every 1500 --max_length 512 --batch_size 8 --val_batch_size 8 --val_batch_count 50 --learning_rate 1e-5 --run_name style --trains 20190925-style"
   ]
  },
  {
   "cell_type": "code",
   "execution_count": null,
   "metadata": {},
   "outputs": [],
   "source": [
    "# version 20190925 learning rate 1e-6 style\n",
    "CUDA_VISIBLE_DEVICES=\"3\" python train_style.py --dataset /workspace/gpt2_0801/to_gpt2/recipe54k_0925/train/ --model_name '117M' --val_dataset /workspace/gpt2_0801/to_gpt2/recipe54k_0916/val/ --val_every 1500 --sample_every 1500 --max_length 512 --batch_size 8 --val_batch_size 8 --val_batch_count 50 --learning_rate 1e-6 --run_name style_1e-6 --trains 20190925-style_1e-6"
   ]
  },
  {
   "cell_type": "code",
   "execution_count": null,
   "metadata": {},
   "outputs": [
    {
     "name": "stdout",
     "output_type": "stream",
     "text": [
      "TRAINS Monitor: Could not detect iteration reporting, falling back to iterations as seconds-from-start\n",
      "2019-09-26 17:43:53,538 - trains.Task - ERROR - Action failed <500/0: tasks.get_by_id (Failed processing request http://10.0.106.144:5909/v1.9/tasks.get_by_id)> (task=ea90b6875f8b481cbe7cd45d120b50b3)\n"
     ]
    }
   ],
   "source": [
    "# version 20190926 learning rate 1e-6 style\n",
    "CUDA_VISIBLE_DEVICES=\"3\" python train_style.py --dataset /workspace/gpt2_0801/to_gpt2/recipe54k_0926/train/ --model_name '117M' --val_dataset /workspace/gpt2_0801/to_gpt2/recipe54k_0916/val/ --val_every 1500 --sample_every 1500 --max_length 768 --batch_size 4 --val_batch_size 4 --val_batch_count 50 --learning_rate 1e-6 --run_name delex_1e-6 --trains 20190926-delex_1e-6"
   ]
  },
  {
   "cell_type": "code",
   "execution_count": null,
   "metadata": {},
   "outputs": [],
   "source": [
    "# 1010 small\n",
    "CUDA_VISIBLE_DEVICES=\"6\" python train_ppl_pickle.py --dataset /workspace/gpt2_0801/to_gpt2/recipe1M_1010/chunk.train --model_name '117M' --val_dataset /workspace/gpt2_0801/to_gpt2/recipe1M_1010/chunk.val --val_every 1500 --sample_every 1500 --max_length 512 --batch_size 8 --val_batch_size 8 --val_batch_count 1500 --run_name 20191010-1M --trains 20191010-1M"
   ]
  },
  {
   "cell_type": "code",
   "execution_count": null,
   "metadata": {},
   "outputs": [],
   "source": [
    "# 1010 recipe1M\n",
    "CUDA_VISIBLE_DEVICES=\"7\" python train_ppl_pickle.py --dataset /workspace/gpt2_0801/to_gpt2/recipe54k_1010s/chunk.train --model_name '117M' --val_dataset /workspace/gpt2_0801/to_gpt2/recipe54k_1010s/chunk.val --val_every 1500 --sample_every 1500 --max_length 512 --batch_size 8 --val_batch_size 8 --val_batch_count 1500 --run_name 20191010-s --trains 20191010-s"
   ]
  },
  {
   "cell_type": "code",
   "execution_count": null,
   "metadata": {},
   "outputs": [],
   "source": [
    "# 1010 recipe1M\n",
    "CUDA_VISIBLE_DEVICES=\"7\" python train_ppl_pickle.py --dataset /workspace/gpt2_0801/to_gpt2/recipe54k_1010s/chunk.train --model_name '117M' --val_dataset /workspace/gpt2_0801/to_gpt2/recipe54k_1010s/chunk.val --val_every 1500 --sample_every 1500 --max_length 512 --batch_size 4 --val_batch_size 4 --val_batch_count 1500 --run_name 20191105 --trains 20191105"
   ]
  },
  {
   "cell_type": "code",
   "execution_count": 3,
   "metadata": {},
   "outputs": [
    {
     "name": "stdout",
     "output_type": "stream",
     "text": [
      "TRAINS Task: overwriting (reusing) task id=ea90b6875f8b481cbe7cd45d120b50b3\n",
      "TRAINS-SERVER new version available: upgrade to v0.11.0 is recommended!\n",
      "2019-09-26 04:10:14,344 - trains.Task - INFO - No repository found, storing script code instead\n",
      "TRAINS Monitor: GPU monitoring is not available, run \"pip install gpustat\"\n",
      "TRAINS results page: files_server: http://10.0.106.144:5909/projects/80cd5149ddc0454d90e06045d7821117/experiments/ea90b6875f8b481cbe7cd45d120b50b3/output/log\n"
     ]
    }
   ],
   "source": [
    "from trains import Task\n",
    "task = Task.init(project_name=\"HelenaProject\", task_name=\"task_zero\")"
   ]
  },
  {
   "cell_type": "code",
   "execution_count": null,
   "metadata": {},
   "outputs": [],
   "source": [
    "# 1015 trained with extra tree info\n",
    "CUDA_VISIBLE_DEVICES=\"7\" python train_ppl_pickle.py --dataset /workspace/gpt2_0801/to_gpt2/recipe54k_1015/chunk.train --model_name '117M' --val_dataset /workspace/gpt2_0801/to_gpt2/recipe54k_1015/chunk.val --val_every 3000 --sample_every 3000 --max_length 768 --batch_size 4 --val_batch_size 8 --val_batch_count 1500 --run_name 20191015-tree --trains 20191015-tree"
   ]
  },
  {
   "cell_type": "code",
   "execution_count": 1,
   "metadata": {},
   "outputs": [
    {
     "data": {
      "text/plain": [
       "12000"
      ]
     },
     "execution_count": 1,
     "metadata": {},
     "output_type": "execute_result"
    }
   ],
   "source": [
    "CUDA_VISIBLE_DEVICES=\"7\" python train_ppl_pickle.py --dataset /workspace/gpt2_0801/to_gpt2/recipe1M_1118/chunk.train --model_name '117M' --val_dataset /workspace/gpt2_0801/to_gpt2/recipe1M_1118/chunk.val --val_every 3000 --sample_every 3000 --max_length 512 --batch_size 8 --val_batch_size 8 --val_batch_count 500 --run_name 201911118 --trains 201911118"
   ]
  },
  {
   "cell_type": "markdown",
   "metadata": {},
   "source": [
    "try different learning rate"
   ]
  },
  {
   "cell_type": "code",
   "execution_count": null,
   "metadata": {},
   "outputs": [],
   "source": [
    "CUDA_VISIBLE_DEVICES=\"2\" python train_ppl_pickle.py --dataset /workspace/gpt2_0801/to_gpt2/recipe1M_1118/chunk.train --model_name '345M' --val_dataset /workspace/gpt2_0801/to_gpt2/recipe1M_1118/chunk.val --val_every 6000 --sample_every 6000 --max_length 512 --batch_size 4 --val_batch_size 4 --val_batch_count 1000 --run_name 20191127 --trains 20191127"
   ]
  },
  {
   "cell_type": "code",
   "execution_count": null,
   "metadata": {},
   "outputs": [],
   "source": [
    "CUDA_VISIBLE_DEVICES=\"4\" python train_ppl_pickle.py --dataset /workspace/gpt2_0801/to_gpt2/recipe1M_1118/chunk.train --model_name '117M' --val_dataset /workspace/gpt2_0801/to_gpt2/recipe1M_1118/chunk.val --val_every 3000 --sample_every 3000 --max_length 512 --batch_size 8 --val_batch_size 8 --val_batch_count 500 --run_name 20191206 --trains 20191206 --learning_rate 1e-4"
   ]
  },
  {
   "cell_type": "code",
   "execution_count": null,
   "metadata": {},
   "outputs": [],
   "source": [
    "CUDA_VISIBLE_DEVICES=\"5\" python train_ppl_pickle.py --dataset /workspace/gpt2_0801/to_gpt2/recipe1M_1118/chunk.train --model_name '117M' --val_dataset /workspace/gpt2_0801/to_gpt2/recipe1M_1118/chunk.val --val_every 3000 --sample_every 3000 --max_length 512 --batch_size 8 --val_batch_size 8 --val_batch_count 500 --run_name 20191205 --trains 20191205 --learning_rate 5e-5"
   ]
  },
  {
   "cell_type": "markdown",
   "metadata": {},
   "source": [
    "update the trainig data: rule-based cleaning of ingredients"
   ]
  },
  {
   "cell_type": "code",
   "execution_count": null,
   "metadata": {},
   "outputs": [],
   "source": [
    "CUDA_VISIBLE_DEVICES=\"7\" python train_ppl_pickle.py --dataset /workspace/gpt2_0801/to_gpt2/recipe1M_1209/chunk.train --model_name '117M' --val_dataset /workspace/gpt2_0801/to_gpt2/recipe1M_1209/chunk.val --val_every 3000 --sample_every 3000 --max_length 512 --batch_size 8 --val_batch_size 8 --val_batch_count 500 --run_name 20191209 --trains 20191209 --learning_rate 1e-4"
   ]
  },
  {
   "cell_type": "code",
   "execution_count": null,
   "metadata": {},
   "outputs": [],
   "source": [
    "CUDA_VISIBLE_DEVICES=\"6\" python train_ppl_pickle.py --dataset /workspace/gpt2_0801/to_gpt2/recipe1M_1209/chunk.train --model_name '117M' --val_dataset /workspace/gpt2_0801/to_gpt2/recipe1M_1209/chunk.val --val_every 3000 --sample_every 3000 --max_length 512 --batch_size 8 --val_batch_size 8 --val_batch_count 500 --run_name 20191210 --trains 20191210 --learning_rate 5e-4"
   ]
  },
  {
   "cell_type": "code",
   "execution_count": null,
   "metadata": {},
   "outputs": [],
   "source": [
    "CUDA_VISIBLE_DEVICES=\"6\" python train_ppl_pickle.py --dataset /workspace/gpt2_0801/to_gpt2/recipe1M_1209/chunk.train --model_name '117M' --val_dataset /workspace/gpt2_0801/to_gpt2/recipe1M_1209/chunk.val --val_every 3000 --sample_every 1 --max_length 512 --batch_size 8 --val_batch_size 8 --val_batch_count 500 --run_name 20191210 --trains 20191210 --learning_rate 5e-4"
   ]
  },
  {
   "cell_type": "code",
   "execution_count": null,
   "metadata": {},
   "outputs": [],
   "source": [
    "CUDA_VISIBLE_DEVICES=\"5\" python train_ppl_pickle.py --dataset /workspace/gpt2_0801/to_gpt2/recipe1M_1209/chunk.train --model_name '117M' --val_dataset /workspace/gpt2_0801/to_gpt2/recipe1M_1209/chunk.val --val_every 3000 --sample_every 3000 --max_length 512 --batch_size 8 --val_batch_size 8 --val_batch_count 500 --run_name 20191211 --trains 20191211 --learning_rate 5e-5"
   ]
  },
  {
   "cell_type": "code",
   "execution_count": null,
   "metadata": {},
   "outputs": [],
   "source": []
  },
  {
   "cell_type": "code",
   "execution_count": null,
   "metadata": {},
   "outputs": [],
   "source": [
    "CUDA_VISIBLE_DEVICES=\"7\" python train_ppl_pickle.py --dataset /workspace/gpt2_0801/to_gpt2/recipe1M_1209/chunk.train --model_name '117M' --val_dataset /workspace/gpt2_0801/to_gpt2/recipe1M_1209/chunk.val --val_every 3000 --sample_every 3000 --max_length 512 --batch_size 8 --val_batch_size 8 --val_batch_count 500 --run_name 1209 --trains 1209 --learning_rate 1e-4"
   ]
  },
  {
   "cell_type": "code",
   "execution_count": null,
   "metadata": {},
   "outputs": [],
   "source": [
    "CUDA_VISIBLE_DEVICES=\"7\" python train_ppl_pickle.py --dataset /workspace/gpt2_0801/to_gpt2/recipe1M_1209/chunk.train --model_name '117M' --val_dataset /workspace/gpt2_0801/to_gpt2/recipe1M_1209/chunk.val --val_every 3000 --sample_every 3000 --max_length 512 --batch_size 8 --val_batch_size 8 --val_batch_count 500 --run_name 1210 --trains 1210 --learning_rate 5e-4"
   ]
  }
 ],
 "metadata": {
  "kernelspec": {
   "display_name": "Python 3",
   "language": "python",
   "name": "python3"
  },
  "language_info": {
   "codemirror_mode": {
    "name": "ipython",
    "version": 3
   },
   "file_extension": ".py",
   "mimetype": "text/x-python",
   "name": "python",
   "nbconvert_exporter": "python",
   "pygments_lexer": "ipython3",
   "version": "3.5.2"
  }
 },
 "nbformat": 4,
 "nbformat_minor": 4
}
