{
 "cells": [
  {
   "cell_type": "markdown",
   "metadata": {},
   "source": [
    "please follow the tutorial in https://github.com/nytimes/ingredient-phrase-tagger\n",
    "and set up the model first"
   ]
  },
  {
   "cell_type": "markdown",
   "metadata": {},
   "source": [
    "### this notebook needs python2"
   ]
  },
  {
   "cell_type": "code",
   "execution_count": 1,
   "metadata": {},
   "outputs": [
    {
     "name": "stdout",
     "output_type": "stream",
     "text": [
      "/data/yueliu/RecipeAnalytics_201906/NYtime-parser2\n"
     ]
    }
   ],
   "source": [
    "cd ../../NYtime-parser2/"
   ]
  },
  {
   "cell_type": "code",
   "execution_count": 2,
   "metadata": {},
   "outputs": [
    {
     "name": "stdout",
     "output_type": "stream",
     "text": [
      "saved\n"
     ]
    }
   ],
   "source": [
    "### if you do not have the ingred.txt file\n",
    "def save(to_write):\n",
    "    with open('ingred.txt','w') as f:\n",
    "        f.write('%s' % to_write)\n",
    "        print('saved')\n",
    "to_write = '\\n'.join(['1 cup of olive oil, heated',\n",
    "                      '1 cup of olive oil , heated',\n",
    "                      '1 cup of olive oil , heated '])\n",
    "save(to_write)"
   ]
  },
  {
   "cell_type": "code",
   "execution_count": 3,
   "metadata": {},
   "outputs": [
    {
     "data": {
      "text/html": [
       "<div>\n",
       "<style scoped>\n",
       "    .dataframe tbody tr th:only-of-type {\n",
       "        vertical-align: middle;\n",
       "    }\n",
       "\n",
       "    .dataframe tbody tr th {\n",
       "        vertical-align: top;\n",
       "    }\n",
       "\n",
       "    .dataframe thead th {\n",
       "        text-align: right;\n",
       "    }\n",
       "</style>\n",
       "<table border=\"1\" class=\"dataframe\">\n",
       "  <thead>\n",
       "    <tr style=\"text-align: right;\">\n",
       "      <th></th>\n",
       "      <th>comment</th>\n",
       "      <th>display</th>\n",
       "      <th>input</th>\n",
       "      <th>name</th>\n",
       "      <th>other</th>\n",
       "      <th>qty</th>\n",
       "      <th>unit</th>\n",
       "    </tr>\n",
       "  </thead>\n",
       "  <tbody>\n",
       "    <tr>\n",
       "      <th>0</th>\n",
       "      <td>, heated</td>\n",
       "      <td>&lt;span class='qty'&gt;1&lt;/span&gt;&lt;span class='unit'&gt;c...</td>\n",
       "      <td>1 cup of olive oil, heated</td>\n",
       "      <td>olive oil</td>\n",
       "      <td>of</td>\n",
       "      <td>1</td>\n",
       "      <td>cup</td>\n",
       "    </tr>\n",
       "    <tr>\n",
       "      <th>1</th>\n",
       "      <td>, heated</td>\n",
       "      <td>&lt;span class='qty'&gt;1&lt;/span&gt;&lt;span class='unit'&gt;c...</td>\n",
       "      <td>1 cup of olive oil, heated</td>\n",
       "      <td>olive oil</td>\n",
       "      <td>of</td>\n",
       "      <td>1</td>\n",
       "      <td>cup</td>\n",
       "    </tr>\n",
       "    <tr>\n",
       "      <th>2</th>\n",
       "      <td>, heated</td>\n",
       "      <td>&lt;span class='qty'&gt;1&lt;/span&gt;&lt;span class='unit'&gt;c...</td>\n",
       "      <td>1 cup of olive oil, heated</td>\n",
       "      <td>olive oil</td>\n",
       "      <td>of</td>\n",
       "      <td>1</td>\n",
       "      <td>cup</td>\n",
       "    </tr>\n",
       "  </tbody>\n",
       "</table>\n",
       "</div>"
      ],
      "text/plain": [
       "    comment                                            display  \\\n",
       "0  , heated  <span class='qty'>1</span><span class='unit'>c...   \n",
       "1  , heated  <span class='qty'>1</span><span class='unit'>c...   \n",
       "2  , heated  <span class='qty'>1</span><span class='unit'>c...   \n",
       "\n",
       "                        input       name other  qty unit  \n",
       "0  1 cup of olive oil, heated  olive oil    of    1  cup  \n",
       "1  1 cup of olive oil, heated  olive oil    of    1  cup  \n",
       "2  1 cup of olive oil, heated  olive oil    of    1  cup  "
      ]
     },
     "execution_count": 3,
     "metadata": {},
     "output_type": "execute_result"
    }
   ],
   "source": [
    "import os\n",
    "import pandas as pd\n",
    "\n",
    "!python ingredient_phrase_tagger/parse-ingredients.py ingred.txt  > result.txt \n",
    "!python ingredient_phrase_tagger/convert-to-json.py result.txt > result.json\n",
    "df = pd.read_json(os.path.normpath('result.json'))\n",
    "df.head()"
   ]
  },
  {
   "cell_type": "code",
   "execution_count": 4,
   "metadata": {},
   "outputs": [],
   "source": [
    "df = pd.read_json(os.path.normpath('result.json'))"
   ]
  },
  {
   "cell_type": "code",
   "execution_count": null,
   "metadata": {},
   "outputs": [],
   "source": []
  }
 ],
 "metadata": {
  "kernelspec": {
   "display_name": "Python 2",
   "language": "python",
   "name": "python2"
  },
  "language_info": {
   "codemirror_mode": {
    "name": "ipython",
    "version": 2
   },
   "file_extension": ".py",
   "mimetype": "text/x-python",
   "name": "python",
   "nbconvert_exporter": "python",
   "pygments_lexer": "ipython2",
   "version": "2.7.15"
  }
 },
 "nbformat": 4,
 "nbformat_minor": 2
}
