{
 "cells": [
  {
   "cell_type": "code",
   "execution_count": 1,
   "metadata": {},
   "outputs": [
    {
     "name": "stdout",
     "output_type": "stream",
     "text": [
      "CPU times: user 0 ns, sys: 0 ns, total: 0 ns\n",
      "Wall time: 8.11 µs\n"
     ]
    }
   ],
   "source": [
    "%time\n",
    "%load_ext autotime\n",
    "%load_ext autoreload\n",
    "%autoreload 2\n",
    "\n",
    "# if cannot import the modules, add the parent directory to system path might help\n",
    "import os, tqdm, sys\n",
    "parent_dir = os.path.abspath(os.getcwd()+'/..')+'/'\n",
    "sys.path.append(parent_dir)\n",
    "\n",
    "from utils.path import dir_HugeFiles\n",
    "from utils.save import make_dir, save_pickle, load_pickle, save\n",
    "from utils.tree import instr2tree, tree_distance, build_tree, stem\n",
    "from utils.evaluation import metrics, spacy_extension\n",
    "\n",
    "import pandas as pd\n",
    "import numpy as np\n",
    "import re\n",
    "\n",
    "treemaker = instr2tree()\n",
    "sp = spacy_extension()"
   ]
  },
  {
   "cell_type": "code",
   "execution_count": 2,
   "metadata": {},
   "outputs": [
    {
     "name": "stdout",
     "output_type": "stream",
     "text": [
      "time: 86.4 ms\n"
     ]
    }
   ],
   "source": [
    "class evaluation:\n",
    "    def __init__(self, filename, tag):\n",
    "        self.dic = self.load_dic({}, filename, tag)\n",
    "        self.ori = tag\n",
    "        self.gens = []\n",
    "        #from utils.evaluation import metrics\n",
    "    '''\n",
    "    loading data\n",
    "    '''\n",
    "    def append_dic(self, filename, tag):\n",
    "        if tag in self.gens:\n",
    "            print('already exist, will not load again')\n",
    "            self.gen = tag\n",
    "        else:\n",
    "            self.dic = self.load_dic(self.dic, filename, tag)\n",
    "            self.gen = tag\n",
    "            self.gens += [tag]\n",
    "        \n",
    "    def load_dic(self, dic, filename, tag):\n",
    "        if os.path.isdir(filename):\n",
    "            print('load', filename)\n",
    "            for (dirpath, _, fnames) in os.walk(filename):\n",
    "                for fname in fnames:\n",
    "                    path = os.path.join(dirpath, fname)\n",
    "                    with open(path, 'r') as fp:\n",
    "                        raw_text = fp.read()\n",
    "                        raw_text = self.remove_end(raw_text)\n",
    "\n",
    "                    name, field = int(fname[:-5]), fname[-5]\n",
    "\n",
    "                    if name not in dic.keys() and field in ['d','i']:\n",
    "                        dic.update({name: {}})\n",
    "\n",
    "                    if field == 'd':\n",
    "                        dic[name].update({'%s_instr'%(tag): raw_text})\n",
    "\n",
    "                    if field == 'i':\n",
    "                        raw_text = self.reverse_list(raw_text.split('$'))\n",
    "                        dic[name].update({'%s_ingr'%(tag): raw_text})\n",
    "        return dic\n",
    "    \n",
    "    '''\n",
    "    exporting data\n",
    "    '''\n",
    "    def to_bleu(self):\n",
    "        to_write = {'%s_i'%(self.ori):'',\n",
    "                    '%s_i'%(self.gen):'',\n",
    "                    '%s_d'%(self.ori):'',\n",
    "                    '%s_d'%(self.gen):''}\n",
    "        \n",
    "        for i, v in self.dic.items():\n",
    "            to_write['%s_i'%(self.ori)] += self.add_space(' $ '.join(v['%s_ingr'%(self.ori)]))+ ' $ \\n'\n",
    "            to_write['%s_i'%(self.gen)] += self.add_space(' $ '.join(v['%s_ingr'%(self.gen)])) + ' $ \\n'\n",
    "            \n",
    "            to_write['%s_d'%(self.ori)] += self.add_space(v['%s_instr'%(self.ori)])+ '\\n'\n",
    "            to_write['%s_d'%(self.gen)] += self.add_space(v['%s_instr'%(self.gen)])+ '\\n'\n",
    "        \n",
    "        for k, v in to_write.items():\n",
    "            save('../../to_gpt2/generation_%s.txt'%(k), v ,overwrite = True)\n",
    "        !eval {\"perl multi-bleu.perl ../../to_gpt2/generation_%s_i.txt < ../../to_gpt2/generation_%s_i.txt\" %(self.ori, self.gen)}\n",
    "        !eval {\"perl multi-bleu.perl ../../to_gpt2/generation_%s_d.txt < ../../to_gpt2/generation_%s_d.txt\" %(self.ori, self.gen)}\n",
    "    \n",
    "        !eval {\"rouge -f ../../to_gpt2/generation_%s_i.txt ../../to_gpt2/generation_%s_i.txt --avg\"%(self.ori, self.gen)}\n",
    "        !eval {\"rouge -f ../../to_gpt2/generation_%s_d.txt ../../to_gpt2/generation_%s_d.txt --avg\"%(self.ori, self.gen)}\n",
    "        \n",
    "        print()\n",
    "\n",
    "    def ingr_f1_freq(self, root = False):\n",
    "        value = []\n",
    "        for i, v in tqdm.tqdm(self.dic.items()):\n",
    "            true, pred = v['%s_ingr'%(self.ori)], v['%s_ingr'%(self.gen)]\n",
    "            if root:\n",
    "                true, pred = sp.root(true), sp.root(pred)\n",
    "            scores = metrics(true, pred)\n",
    "            value.append(scores.f1_freq())\n",
    "        avg = sum(value)/len(value)\n",
    "        print(avg)\n",
    "        return avg\n",
    "    '''\n",
    "    instruction evaluation\n",
    "    '''\n",
    "    def instr_tree(self, stem_only = False):\n",
    "        value = []\n",
    "        for i, v in tqdm.tqdm(self.dic.items()):\n",
    "            ori_instr, gen_instr = v['%s_instr'%(self.ori)], v['%s_instr'%(self.gen)]\n",
    "            score = self.norm_dist(ori_instr, gen_instr, stem_only = stem_only)\n",
    "            value.append(score)\n",
    "        avg = sum(value)/len(value)\n",
    "        print(avg)\n",
    "        return avg\n",
    "\n",
    "    def state_f1_freq(self):\n",
    "        value = []\n",
    "        for i, v in tqdm.tqdm(self.dic.items()):\n",
    "            true, pred = v['%s_instr'%(self.ori)], v['%s_instr'%(self.gen)]\n",
    "            true, pred = sp.match_state(true), sp.match_state(pred)\n",
    "            scores = metrics(true, pred)\n",
    "            value.append(scores.f1_freq())\n",
    "        avg = sum(value)/len(value)\n",
    "        print(avg)\n",
    "        return avg\n",
    "    \n",
    "    def verb_f1_freq(self):\n",
    "        value = []\n",
    "        for i, v in tqdm.tqdm(self.dic.items()):\n",
    "            true, pred = v['%s_instr'%(self.ori)], v['%s_instr'%(self.gen)]\n",
    "            true, pred = sp.instructions(true)[1], sp.instructions(pred)[1]\n",
    "            scores = metrics(true, pred)\n",
    "            value.append(scores.f1_freq())\n",
    "        avg = sum(value)/len(value)\n",
    "        print(avg)\n",
    "        return avg\n",
    "    \n",
    "    '''\n",
    "    cleaning data\n",
    "    '''\n",
    "    def remove_end(self, text):\n",
    "        return text.replace('\\n','').split('<')[0]\n",
    "    \n",
    "    def reverse(self, text):\n",
    "        '''\n",
    "        Important data cleaning before NY times parser\n",
    "        '''\n",
    "        # replace things in brace\n",
    "        text = re.sub(r'\\([^)]*\\)', '', text)\n",
    "\n",
    "        # remove space before punct\n",
    "        text = re.sub(r'\\s([?.!,\"](?:\\s|$))', r'\\1', text)\n",
    "\n",
    "        # remove consecutive spaces\n",
    "        text = re.sub(' +',' ',text).strip()\n",
    "        return text\n",
    "    \n",
    "    def reverse_list(self, listoftext):\n",
    "        output = []\n",
    "        for text in listoftext:\n",
    "            rev = self.reverse(text)\n",
    "            if rev:\n",
    "                output.append(rev)\n",
    "        return output\n",
    "    \n",
    "    def add_space(self, line):\n",
    "        # add space before punct\n",
    "        line = re.sub('([.,!?()])', r' \\1 ', line)\n",
    "        line = re.sub('\\s{2,}', ' ', line)\n",
    "        return line\n",
    "    \n",
    "    '''\n",
    "    tree edit distance\n",
    "    '''\n",
    "\n",
    "    def str2tree(self, instr, stem_only):\n",
    "        instr = [x for x in instr.split('. ') if x]\n",
    "        instr = treemaker.sents2tree(instr)\n",
    "        if stem_only:\n",
    "            instr = stem(instr)\n",
    "        n_nodes = sum([len(line['ingredient']) +1 for line in instr])\n",
    "        return build_tree(instr), n_nodes\n",
    "\n",
    "    def norm_dist(self, ori_instr, gen_instr, stem_only):\n",
    "        '''\n",
    "        Args: ori_instr: str\n",
    "        Args: gen_instr: str\n",
    "        '''\n",
    "        ori_tree, ori_nodes = self.str2tree(ori_instr, stem_only = stem_only)\n",
    "        gen_tree, gen_nodes = self.str2tree(gen_instr, stem_only = stem_only)\n",
    "        tree_dist = tree_distance(ori_tree, gen_tree)\n",
    "        normed = tree_dist/(ori_nodes+gen_nodes)\n",
    "        return normed"
   ]
  },
  {
   "cell_type": "code",
   "execution_count": 3,
   "metadata": {},
   "outputs": [
    {
     "name": "stdout",
     "output_type": "stream",
     "text": [
      "load ../../to_gpt2/recipe1M_1118/val/y/\n",
      "load ../../to_gpt2/generation_201911118_k1_val/\n",
      "load ../../to_gpt2/generation_201911118_k3_val/\n",
      "load ../../to_gpt2/generation_201911118_k5_val/\n",
      "load ../../to_gpt2/generation_201911118_k10_val/\n",
      "load ../../to_gpt2/generation_201911118_k30_val/\n",
      "load ../../to_gpt2/generation_201911118_p99_val/\n",
      "time: 9.63 s\n"
     ]
    }
   ],
   "source": [
    "data = evaluation('../../to_gpt2/recipe1M_1118/val/y/', 'ori')\n",
    "data.append_dic('../../to_gpt2/generation_201911118_k1_val/', 'k1')\n",
    "data.append_dic('../../to_gpt2/generation_201911118_k3_val/', 'k3')\n",
    "data.append_dic('../../to_gpt2/generation_201911118_k5_val/', 'k5')\n",
    "data.append_dic('../../to_gpt2/generation_201911118_k10_val/', 'k10')\n",
    "data.append_dic('../../to_gpt2/generation_201911118_k30_val/', 'k30')\n",
    "data.append_dic('../../to_gpt2/generation_201911118_p99_val/', 'p99')"
   ]
  },
  {
   "cell_type": "code",
   "execution_count": 4,
   "metadata": {},
   "outputs": [
    {
     "name": "stderr",
     "output_type": "stream",
     "text": [
      "  0%|          | 0/4000 [00:00<?, ?it/s]"
     ]
    },
    {
     "name": "stdout",
     "output_type": "stream",
     "text": [
      "k1\n"
     ]
    },
    {
     "name": "stderr",
     "output_type": "stream",
     "text": [
      " 71%|███████   | 2822/4000 [04:15<01:40, 11.70it/s]/data/yueliu/RecipeAnalytics_201906/AA6/utils/evaluation.py:37: UndefinedMetricWarning: input/inputs may be empty\n",
      "  self.warn()\n",
      "100%|██████████| 4000/4000 [05:56<00:00, 17.09it/s]\n",
      "  0%|          | 2/4000 [00:00<04:15, 15.67it/s]"
     ]
    },
    {
     "name": "stdout",
     "output_type": "stream",
     "text": [
      "0.3174163362428839\n",
      "k3\n"
     ]
    },
    {
     "name": "stderr",
     "output_type": "stream",
     "text": [
      "100%|██████████| 4000/4000 [06:00<00:00, 10.85it/s]\n",
      "  0%|          | 1/4000 [00:00<09:11,  7.25it/s]"
     ]
    },
    {
     "name": "stdout",
     "output_type": "stream",
     "text": [
      "0.3104074861916508\n",
      "k5\n"
     ]
    },
    {
     "name": "stderr",
     "output_type": "stream",
     "text": [
      "100%|██████████| 4000/4000 [06:08<00:00, 10.17it/s]\n",
      "  0%|          | 1/4000 [00:00<11:19,  5.88it/s]"
     ]
    },
    {
     "name": "stdout",
     "output_type": "stream",
     "text": [
      "0.2965441320713552\n",
      "k10\n"
     ]
    },
    {
     "name": "stderr",
     "output_type": "stream",
     "text": [
      "100%|██████████| 4000/4000 [06:20<00:00,  9.32it/s]\n",
      "  0%|          | 1/4000 [00:00<08:36,  7.75it/s]"
     ]
    },
    {
     "name": "stdout",
     "output_type": "stream",
     "text": [
      "0.28372376728385196\n",
      "k30\n"
     ]
    },
    {
     "name": "stderr",
     "output_type": "stream",
     "text": [
      "100%|██████████| 4000/4000 [06:29<00:00, 13.45it/s]\n",
      "  0%|          | 1/4000 [00:00<06:59,  9.53it/s]"
     ]
    },
    {
     "name": "stdout",
     "output_type": "stream",
     "text": [
      "0.2745738272235941\n",
      "p99\n"
     ]
    },
    {
     "name": "stderr",
     "output_type": "stream",
     "text": [
      "100%|██████████| 4000/4000 [06:47<00:00,  9.82it/s]"
     ]
    },
    {
     "name": "stdout",
     "output_type": "stream",
     "text": [
      "0.25877475399872046\n",
      "time: 37min 43s\n"
     ]
    },
    {
     "name": "stderr",
     "output_type": "stream",
     "text": [
      "\n"
     ]
    }
   ],
   "source": [
    "for tag in data.gens:\n",
    "    print(tag)\n",
    "    data.gen = tag\n",
    "    data.verb_f1_freq()"
   ]
  },
  {
   "cell_type": "code",
   "execution_count": 5,
   "metadata": {},
   "outputs": [
    {
     "name": "stderr",
     "output_type": "stream",
     "text": [
      "  0%|          | 0/4000 [00:00<?, ?it/s]"
     ]
    },
    {
     "name": "stdout",
     "output_type": "stream",
     "text": [
      "k1\n"
     ]
    },
    {
     "name": "stderr",
     "output_type": "stream",
     "text": [
      "100%|██████████| 4000/4000 [05:56<00:00, 11.17it/s]\n",
      "  0%|          | 1/4000 [00:00<08:58,  7.43it/s]"
     ]
    },
    {
     "name": "stdout",
     "output_type": "stream",
     "text": [
      "0.6121037329611493\n",
      "k3\n"
     ]
    },
    {
     "name": "stderr",
     "output_type": "stream",
     "text": [
      "100%|██████████| 4000/4000 [06:02<00:00, 10.53it/s]\n",
      "  0%|          | 1/4000 [00:00<09:19,  7.15it/s]"
     ]
    },
    {
     "name": "stdout",
     "output_type": "stream",
     "text": [
      "0.6055824848023792\n",
      "k5\n"
     ]
    },
    {
     "name": "stderr",
     "output_type": "stream",
     "text": [
      " 28%|██▊       | 1136/4000 [01:44<04:28, 10.67it/s]/data/yueliu/RecipeAnalytics_201906/AA6/utils/evaluation.py:37: UndefinedMetricWarning: input/inputs may be empty\n",
      "  self.warn()\n",
      "100%|██████████| 4000/4000 [06:09<00:00, 10.52it/s]\n",
      "  0%|          | 1/4000 [00:00<11:17,  5.90it/s]"
     ]
    },
    {
     "name": "stdout",
     "output_type": "stream",
     "text": [
      "0.5984877121427107\n",
      "k10\n"
     ]
    },
    {
     "name": "stderr",
     "output_type": "stream",
     "text": [
      "100%|██████████| 4000/4000 [06:15<00:00,  9.52it/s]\n",
      "  0%|          | 1/4000 [00:00<08:28,  7.87it/s]"
     ]
    },
    {
     "name": "stdout",
     "output_type": "stream",
     "text": [
      "0.59289367609037\n",
      "k30\n"
     ]
    },
    {
     "name": "stderr",
     "output_type": "stream",
     "text": [
      "100%|██████████| 4000/4000 [06:23<00:00, 10.42it/s]\n",
      "  0%|          | 1/4000 [00:00<10:36,  6.28it/s]"
     ]
    },
    {
     "name": "stdout",
     "output_type": "stream",
     "text": [
      "0.5864356461026095\n",
      "p99\n"
     ]
    },
    {
     "name": "stderr",
     "output_type": "stream",
     "text": [
      "100%|██████████| 4000/4000 [06:45<00:00,  9.87it/s]"
     ]
    },
    {
     "name": "stdout",
     "output_type": "stream",
     "text": [
      "0.5716436389072083\n",
      "time: 37min 33s\n"
     ]
    },
    {
     "name": "stderr",
     "output_type": "stream",
     "text": [
      "\n"
     ]
    }
   ],
   "source": [
    "for tag in data.gens:\n",
    "    print(tag)\n",
    "    data.gen = tag\n",
    "    data.state_f1_freq()"
   ]
  },
  {
   "cell_type": "code",
   "execution_count": 6,
   "metadata": {},
   "outputs": [
    {
     "name": "stderr",
     "output_type": "stream",
     "text": [
      "100%|██████████| 4000/4000 [41:45<00:00,  1.29it/s]\n",
      "  0%|          | 0/4000 [00:00<?, ?it/s]"
     ]
    },
    {
     "name": "stdout",
     "output_type": "stream",
     "text": [
      "0.5333438888732768\n"
     ]
    },
    {
     "name": "stderr",
     "output_type": "stream",
     "text": [
      "100%|██████████| 4000/4000 [24:00<00:00,  2.28it/s]"
     ]
    },
    {
     "name": "stdout",
     "output_type": "stream",
     "text": [
      "0.4884516793939745\n"
     ]
    },
    {
     "name": "stderr",
     "output_type": "stream",
     "text": [
      "\n"
     ]
    },
    {
     "data": {
      "text/plain": [
       "0.4884516793939745"
      ]
     },
     "execution_count": 6,
     "metadata": {},
     "output_type": "execute_result"
    },
    {
     "name": "stdout",
     "output_type": "stream",
     "text": [
      "time: 1h 5min 45s\n"
     ]
    }
   ],
   "source": [
    "data.gen = 'k5'\n",
    "data.instr_tree(stem_only=False)\n",
    "data.instr_tree(stem_only=True)"
   ]
  },
  {
   "cell_type": "code",
   "execution_count": null,
   "metadata": {},
   "outputs": [],
   "source": []
  }
 ],
 "metadata": {
  "kernelspec": {
   "display_name": "Python 3",
   "language": "python",
   "name": "python3"
  },
  "language_info": {
   "codemirror_mode": {
    "name": "ipython",
    "version": 3
   },
   "file_extension": ".py",
   "mimetype": "text/x-python",
   "name": "python",
   "nbconvert_exporter": "python",
   "pygments_lexer": "ipython3",
   "version": "3.6.6"
  }
 },
 "nbformat": 4,
 "nbformat_minor": 2
}
