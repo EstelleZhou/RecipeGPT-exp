{
 "cells": [
  {
   "cell_type": "code",
   "execution_count": 1,
   "metadata": {},
   "outputs": [
    {
     "name": "stdout",
     "output_type": "stream",
     "text": [
      "CPU times: user 0 ns, sys: 0 ns, total: 0 ns\n",
      "Wall time: 4.77 µs\n"
     ]
    }
   ],
   "source": [
    "%time\n",
    "%load_ext autotime\n",
    "%load_ext autoreload\n",
    "%autoreload 2\n",
    "\n",
    "import os, tqdm, sys\n",
    "sys.path.append(os.path.abspath(os.getcwd()+'/../'))"
   ]
  },
  {
   "cell_type": "code",
   "execution_count": 2,
   "metadata": {},
   "outputs": [
    {
     "name": "stdout",
     "output_type": "stream",
     "text": [
      "time: 474 ms\n"
     ]
    }
   ],
   "source": [
    "import pickle\n",
    "import random\n",
    "import json\n",
    "import pandas as pd\n",
    "\n",
    "#https://www.elastic.co/guide/en/elasticsearch/reference/current/getting-started-install.html\n",
    "#pip install elasticsearch\n",
    "from elasticsearch import Elasticsearch\n",
    "\n",
    "random_seed = 2019\n",
    "\n",
    "def load_pickle(filename):\n",
    "    with open(filename, 'rb') as gfp:\n",
    "        r = pickle.load(gfp)\n",
    "    return r"
   ]
  },
  {
   "cell_type": "code",
   "execution_count": 3,
   "metadata": {},
   "outputs": [
    {
     "name": "stdout",
     "output_type": "stream",
     "text": [
      "time: 28.6 s\n"
     ]
    }
   ],
   "source": [
    "data = load_pickle('../big_data/data_1218.pickle')"
   ]
  },
  {
   "cell_type": "code",
   "execution_count": 4,
   "metadata": {},
   "outputs": [
    {
     "name": "stdout",
     "output_type": "stream",
     "text": [
      "time: 947 ms\n"
     ]
    }
   ],
   "source": [
    "lst = list(range(len(data)))\n",
    "random.seed(random_seed)\n",
    "random.shuffle(lst)\n",
    "ls_test = lst[:4000]\n",
    "ls_val = lst[4000:8000]\n",
    "ls_train = lst[8000:]"
   ]
  },
  {
   "cell_type": "code",
   "execution_count": 5,
   "metadata": {},
   "outputs": [
    {
     "name": "stdout",
     "output_type": "stream",
     "text": [
      "time: 3.29 s\n"
     ]
    }
   ],
   "source": [
    "df = pd.DataFrame.from_dict(data)"
   ]
  },
  {
   "cell_type": "code",
   "execution_count": 6,
   "metadata": {},
   "outputs": [
    {
     "name": "stdout",
     "output_type": "stream",
     "text": [
      "time: 14.2 ms\n"
     ]
    }
   ],
   "source": [
    "# remember to set-up the localhost first\n",
    "es = Elasticsearch()"
   ]
  },
  {
   "cell_type": "code",
   "execution_count": 7,
   "metadata": {},
   "outputs": [
    {
     "data": {
      "text/plain": [
       "{'acknowledged': True}"
      ]
     },
     "execution_count": 7,
     "metadata": {},
     "output_type": "execute_result"
    },
    {
     "name": "stdout",
     "output_type": "stream",
     "text": [
      "time: 167 ms\n"
     ]
    }
   ],
   "source": [
    "# delete index\n",
    "es.indices.delete(index='val', ignore=[400, 404])"
   ]
  },
  {
   "cell_type": "markdown",
   "metadata": {},
   "source": [
    "4,000 cases --> 3 minutes <br>\n",
    "1,000,000 case --> 1000 minutes (16 hours) <br>"
   ]
  },
  {
   "cell_type": "code",
   "execution_count": 16,
   "metadata": {},
   "outputs": [
    {
     "name": "stderr",
     "output_type": "stream",
     "text": [
      "909582it [02:46, 5460.88it/s]"
     ]
    },
    {
     "name": "stdout",
     "output_type": "stream",
     "text": [
      "time: 2min 46s\n"
     ]
    },
    {
     "name": "stderr",
     "output_type": "stream",
     "text": [
      "\n"
     ]
    }
   ],
   "source": [
    "for i, recipe in tqdm.tqdm(enumerate(data)):\n",
    "    if i in ls_val :\n",
    "        es.index(index='val', doc_type='recipe', body=recipe)"
   ]
  },
  {
   "cell_type": "code",
   "execution_count": 33,
   "metadata": {},
   "outputs": [
    {
     "name": "stdout",
     "output_type": "stream",
     "text": [
      "time: 24.9 ms\n"
     ]
    }
   ],
   "source": [
    "# get everything\n",
    "result = es.search(index = 'val', body = {\"query\":{\"match_all\":{}}})"
   ]
  },
  {
   "cell_type": "code",
   "execution_count": 23,
   "metadata": {},
   "outputs": [
    {
     "name": "stdout",
     "output_type": "stream",
     "text": [
      "time: 46.1 ms\n"
     ]
    }
   ],
   "source": [
    "# keyword search\n",
    "query_body = {\n",
    "  \"query\": {\n",
    "    \"bool\": {\n",
    "      \"must\": {\n",
    "        \"match\": {      \n",
    "          \"ingredients\": \"sugar chocolate\"\n",
    "        }\n",
    "      }\n",
    "    }\n",
    "  }\n",
    "}\n",
    "result = es.search(index = 'val', body = query_body)\n",
    "best_match = result['hits']['hits'][0]['_source']"
   ]
  },
  {
   "cell_type": "code",
   "execution_count": 24,
   "metadata": {},
   "outputs": [
    {
     "data": {
      "text/plain": [
       "{'ingredients': ['sugar',\n",
       "  'water',\n",
       "  'semisweet chocolate chips',\n",
       "  'icing sugar chocolate sauce',\n",
       "  'light cream',\n",
       "  'whipping cream',\n",
       "  'candy canes'],\n",
       " 'title': 'candy cane parfait with chocolate sauce recipe',\n",
       " 'instructions': 'crush 1 candy cane and place in top of double boiler along with 1 c. whipping cream heat over warm water, stirring till melted. whip remaining 3 c. cream, adding sugar gradually, till thick. slowly pour melted candy cane mix into whipping cream, beating gently. taste and adjust sweetening. pour into 9x5 inch loaf pan or possibly ice cube trays and freeze. when parfait is partially frzn, crush remaining candy canes and stir in. freeze till hard. to serve, scoop into individual serving dishes and spoon chocolate sauce over. makes 6 servings. chocolate sauce in top of double boiler, combine chocolate, water and sugar and heat over warm water, stirring till smooth. remove from heat and blend in cream. transfer to small pitcher. makesenough sauce for 6 servings.',\n",
       " 'recipe1m_idx': 693614}"
      ]
     },
     "execution_count": 24,
     "metadata": {},
     "output_type": "execute_result"
    },
    {
     "name": "stdout",
     "output_type": "stream",
     "text": [
      "time: 19.1 ms\n"
     ]
    }
   ],
   "source": [
    "best_match"
   ]
  },
  {
   "cell_type": "code",
   "execution_count": 32,
   "metadata": {},
   "outputs": [
    {
     "data": {
      "text/plain": [
       "{'ingredients': ['honey',\n",
       "  'olive oil',\n",
       "  'water',\n",
       "  'vanilla extract',\n",
       "  'milk cup soymilk',\n",
       "  'baking soda',\n",
       "  'whole wheat flour',\n",
       "  'applesauce',\n",
       "  'baking powder',\n",
       "  'cocoa powder',\n",
       "  'eggs',\n",
       "  'salt'],\n",
       " 'title': 'healthy sugar free chocolate cake',\n",
       " 'instructions': 'directions. preheat oven to 350 degrees f. grease and flour two nine inch round pans. in a large bowl, stir together the honey, flour, cocoa, baking powder, baking soda and salt. add the eggs, milk, oil and vanilla, mix for 2 minutes on medium speed of mixer. stir in the boiling water last. batter will be thin. pour evenly into the prepared pans. bake 50 minutes to an hour in the preheated oven, until the cake tests done with a toothpick. cool in the pans for 10 minutes, then remove to a wire rack to cool completely.',\n",
       " 'recipe1m_idx': 420104}"
      ]
     },
     "execution_count": 32,
     "metadata": {},
     "output_type": "execute_result"
    },
    {
     "name": "stdout",
     "output_type": "stream",
     "text": [
      "time: 67.3 ms\n"
     ]
    }
   ],
   "source": [
    "# multifields keyword search\n",
    "query_body = {\n",
    "  \"query\": {\n",
    "    \"bool\": {\n",
    "      \"must\": {\n",
    "        \"multi_match\": {   \n",
    "            \"query\": \"sugar chocolate\",\n",
    "            'fields':[ \"ingredients\", \"title\" ]\n",
    "        }\n",
    "      }\n",
    "    }\n",
    "  }\n",
    "}\n",
    "result = es.search(index = 'val', body = query_body)\n",
    "best_match = result['hits']['hits'][0]['_source']\n",
    "best_match"
   ]
  }
 ],
 "metadata": {
  "kernelspec": {
   "display_name": "Python 3",
   "language": "python",
   "name": "python3"
  },
  "language_info": {
   "codemirror_mode": {
    "name": "ipython",
    "version": 3
   },
   "file_extension": ".py",
   "mimetype": "text/x-python",
   "name": "python",
   "nbconvert_exporter": "python",
   "pygments_lexer": "ipython3",
   "version": "3.6.6"
  }
 },
 "nbformat": 4,
 "nbformat_minor": 2
}
