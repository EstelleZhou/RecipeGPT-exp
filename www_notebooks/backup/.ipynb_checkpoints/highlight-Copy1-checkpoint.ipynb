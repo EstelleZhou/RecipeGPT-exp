{
 "cells": [
  {
   "cell_type": "code",
   "execution_count": 1,
   "metadata": {},
   "outputs": [
    {
     "name": "stdout",
     "output_type": "stream",
     "text": [
      "CPU times: user 0 ns, sys: 0 ns, total: 0 ns\n",
      "Wall time: 5.96 µs\n"
     ]
    }
   ],
   "source": [
    "%time\n",
    "%load_ext autotime\n",
    "%load_ext autoreload\n",
    "%autoreload 2"
   ]
  },
  {
   "cell_type": "code",
   "execution_count": 2,
   "metadata": {},
   "outputs": [
    {
     "name": "stdout",
     "output_type": "stream",
     "text": [
      "time: 788 ms\n"
     ]
    }
   ],
   "source": [
    "import os, tqdm, sys\n",
    "parent_dir = os.path.abspath(os.getcwd()+'/../')\n",
    "sys.path.append(parent_dir)\n",
    "\n",
    "import numpy as np\n",
    "import spacy\n",
    "import pickle\n",
    "\n",
    "def load_pickle(filename):\n",
    "    with open(filename, 'rb') as gfp:\n",
    "        r = pickle.load(gfp)\n",
    "    return r"
   ]
  },
  {
   "cell_type": "code",
   "execution_count": 3,
   "metadata": {},
   "outputs": [
    {
     "name": "stdout",
     "output_type": "stream",
     "text": [
      "time: 16.9 ms\n"
     ]
    }
   ],
   "source": [
    "database = load_pickle('../big_data/database.pickle')"
   ]
  },
  {
   "cell_type": "code",
   "execution_count": 4,
   "metadata": {},
   "outputs": [
    {
     "name": "stdout",
     "output_type": "stream",
     "text": [
      "time: 10.7 s\n"
     ]
    }
   ],
   "source": [
    "class spacy_extension:\n",
    "    def __init__(self):\n",
    "        '''\n",
    "        Args: sent: string\n",
    "        '''\n",
    "        self.spacy = spacy.load('en_core_web_lg')\n",
    "        \n",
    "    def ingr(self, lst):\n",
    "        '''\n",
    "        Args: lst: a list of ingredient names\n",
    "        used when len(lst) must equal to root_match\n",
    "        '''\n",
    "        hl = [[{'text':x, 'highlight': None} for x in i.split(' ')] for i in lst]\n",
    "        root_match = []\n",
    "        for i, ingr in enumerate(lst):\n",
    "            phrase = 'Mix the %s and water.'%ingr\n",
    "            doc = self.spacy(phrase)\n",
    "            for chunk in doc.noun_chunks:\n",
    "                if chunk.text != 'water':\n",
    "                    for j, word in enumerate(hl[i]):\n",
    "                        if word['text'] == doc[chunk.end - 1].text:\n",
    "                            hl[i][j]['highlight'] = 'wrong' \n",
    "                    root_match.append(doc[chunk.end - 1].lemma_)\n",
    "        return root_match, hl\n",
    "    \n",
    "    def instr(self, directions):\n",
    "        instr = sp.spacy(directions)\n",
    "        hl_instr = [{'text': token.text, 'highlight': None} for token in instr]\n",
    "        return instr, hl_instr\n",
    "    \n",
    "sp = spacy_extension()"
   ]
  },
  {
   "cell_type": "code",
   "execution_count": 5,
   "metadata": {},
   "outputs": [
    {
     "name": "stdout",
     "output_type": "stream",
     "text": [
      "time: 30.9 ms\n"
     ]
    }
   ],
   "source": [
    "def highlight(ingredients, directions, generate = 'directions'):\n",
    "    \n",
    "    '''Args:\n",
    "    ingr: list of ingredients; a set list;\n",
    "    instr: str/list, a paragraph of cooking instructions\n",
    "    \n",
    "    * this version only considers the root nouns; thus, it is fine to calculate F1\n",
    "    '''\n",
    "    \n",
    "    # check the inputs\n",
    "    assert generate in ['directions', 'ingredients']\n",
    "    directions = ' '.join(directions) if type(directions) == list else directions\n",
    "    \n",
    "    # send to spacy\n",
    "    root_ingr, hl_ingr = sp.ingr(ingredients)\n",
    "    instr, hl_instr = sp.instr(directions)\n",
    "    root_instr = []\n",
    "    \n",
    "    # highlighting\n",
    "    for chunk in instr.noun_chunks:\n",
    "        idx_rootnoun = chunk.end - 1\n",
    "        str_rootnoun = instr[idx_rootnoun].lemma_\n",
    "        if str_rootnoun in root_ingr:\n",
    "            root_instr.append(str_rootnoun)\n",
    "            hl_instr[idx_rootnoun]['highlight'] = 'correct'\n",
    "            \n",
    "            for idx, root in enumerate(root_ingr):\n",
    "                if root == str_rootnoun:\n",
    "                    for j, word in enumerate(hl_ingr[idx]):\n",
    "                        if word['highlight'] =='wrong':\n",
    "                            hl_ingr[idx][j]['highlight'] = 'correct'\n",
    "            \n",
    "        elif str_rootnoun in database:\n",
    "            root_instr.append(str_rootnoun)\n",
    "            hl_instr[idx_rootnoun]['highlight'] = 'wrong'\n",
    "    \n",
    "    # delimit the sentences\n",
    "    hl_instr = parse_instr(hl_instr)\n",
    "   \n",
    "    # calculate precision and recall\n",
    "    root_ingr, root_instr = set(root_ingr), set(root_instr)\n",
    "    TP = len(root_ingr & root_instr)\n",
    "    recall = TP/len(root_ingr)\n",
    "    precision = TP/len(root_instr)\n",
    "    \n",
    "    # if this is ingredients generation\n",
    "    if generate == 'ingredients':\n",
    "        recall, precision = precision, recall\n",
    "        \n",
    "\n",
    "    return {'ingredients': hl_ingr, 'directions': hl_instr, 'recall': recall, 'precision': precision}\n",
    "\n",
    "def parse_instr(hl_instr):\n",
    "    par_hl, sent = [], []\n",
    "    for word in hl_instr:\n",
    "        if word['text'] !='.':\n",
    "            sent.append(word)\n",
    "        else:\n",
    "            sent.append(word)\n",
    "            par_hl.append(sent)\n",
    "            sent = []\n",
    "    if sent:\n",
    "        par_hl.append(sent)\n",
    "    return par_hl"
   ]
  },
  {
   "cell_type": "code",
   "execution_count": 6,
   "metadata": {},
   "outputs": [
    {
     "name": "stdout",
     "output_type": "stream",
     "text": [
      "time: 12.7 ms\n"
     ]
    }
   ],
   "source": [
    "ingredeints = ['ice', 'jigger water','fluid pineapples','chocolate','pineapple','cherry']\n",
    "directions = 'in a cocktail shaker, muddle the pineapple. \\\n",
    "add ice and the vodka, cream of coconut, and pineapple juice. \\\n",
    "shake well strain into an ice filled water highball glass. \\\n",
    "garnish with the pineapple wedge and maraschino. '"
   ]
  },
  {
   "cell_type": "code",
   "execution_count": 7,
   "metadata": {},
   "outputs": [
    {
     "name": "stdout",
     "output_type": "stream",
     "text": [
      "time: 86.5 ms\n"
     ]
    }
   ],
   "source": [
    "output = highlight(ingredeints, directions)"
   ]
  },
  {
   "cell_type": "code",
   "execution_count": 9,
   "metadata": {},
   "outputs": [
    {
     "data": {
      "text/plain": [
       "{'ingredients': [[{'text': 'ice', 'highlight': 'correct'}],\n",
       "  [{'text': 'jigger', 'highlight': None},\n",
       "   {'text': 'water', 'highlight': 'wrong'}],\n",
       "  [{'text': 'fluid', 'highlight': None},\n",
       "   {'text': 'pineapples', 'highlight': 'correct'}],\n",
       "  [{'text': 'chocolate', 'highlight': 'wrong'}],\n",
       "  [{'text': 'pineapple', 'highlight': 'correct'}],\n",
       "  [{'text': 'cherry', 'highlight': 'wrong'}]],\n",
       " 'directions': [[{'text': 'in', 'highlight': None},\n",
       "   {'text': 'a', 'highlight': None},\n",
       "   {'text': 'cocktail', 'highlight': None},\n",
       "   {'text': 'shaker', 'highlight': None},\n",
       "   {'text': ',', 'highlight': None},\n",
       "   {'text': 'muddle', 'highlight': None},\n",
       "   {'text': 'the', 'highlight': None},\n",
       "   {'text': 'pineapple', 'highlight': 'correct'},\n",
       "   {'text': '.', 'highlight': None}],\n",
       "  [{'text': 'add', 'highlight': None},\n",
       "   {'text': 'ice', 'highlight': 'correct'},\n",
       "   {'text': 'and', 'highlight': None},\n",
       "   {'text': 'the', 'highlight': None},\n",
       "   {'text': 'vodka', 'highlight': 'wrong'},\n",
       "   {'text': ',', 'highlight': None},\n",
       "   {'text': 'cream', 'highlight': 'wrong'},\n",
       "   {'text': 'of', 'highlight': None},\n",
       "   {'text': 'coconut', 'highlight': 'wrong'},\n",
       "   {'text': ',', 'highlight': None},\n",
       "   {'text': 'and', 'highlight': None},\n",
       "   {'text': 'pineapple', 'highlight': None},\n",
       "   {'text': 'juice', 'highlight': 'wrong'},\n",
       "   {'text': '.', 'highlight': None}],\n",
       "  [{'text': 'shake', 'highlight': None},\n",
       "   {'text': 'well', 'highlight': None},\n",
       "   {'text': 'strain', 'highlight': None},\n",
       "   {'text': 'into', 'highlight': None},\n",
       "   {'text': 'an', 'highlight': None},\n",
       "   {'text': 'ice', 'highlight': None},\n",
       "   {'text': 'filled', 'highlight': None},\n",
       "   {'text': 'water', 'highlight': None},\n",
       "   {'text': 'highball', 'highlight': None},\n",
       "   {'text': 'glass', 'highlight': None},\n",
       "   {'text': '.', 'highlight': None}],\n",
       "  [{'text': 'garnish', 'highlight': None},\n",
       "   {'text': 'with', 'highlight': None},\n",
       "   {'text': 'the', 'highlight': None},\n",
       "   {'text': 'pineapple', 'highlight': None},\n",
       "   {'text': 'wedge', 'highlight': 'wrong'},\n",
       "   {'text': 'and', 'highlight': None},\n",
       "   {'text': 'maraschino', 'highlight': 'wrong'},\n",
       "   {'text': '.', 'highlight': None}]],\n",
       " 'recall': 0.25,\n",
       " 'precision': 0.4}"
      ]
     },
     "execution_count": 9,
     "metadata": {},
     "output_type": "execute_result"
    },
    {
     "name": "stdout",
     "output_type": "stream",
     "text": [
      "time: 19.8 ms\n"
     ]
    }
   ],
   "source": [
    "output"
   ]
  },
  {
   "cell_type": "code",
   "execution_count": null,
   "metadata": {},
   "outputs": [],
   "source": []
  }
 ],
 "metadata": {
  "kernelspec": {
   "display_name": "Python 3",
   "language": "python",
   "name": "python3"
  },
  "language_info": {
   "codemirror_mode": {
    "name": "ipython",
    "version": 3
   },
   "file_extension": ".py",
   "mimetype": "text/x-python",
   "name": "python",
   "nbconvert_exporter": "python",
   "pygments_lexer": "ipython3",
   "version": "3.6.6"
  }
 },
 "nbformat": 4,
 "nbformat_minor": 2
}
