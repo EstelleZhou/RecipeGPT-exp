{
 "cells": [
  {
   "cell_type": "code",
   "execution_count": 1,
   "metadata": {},
   "outputs": [
    {
     "name": "stdout",
     "output_type": "stream",
     "text": [
      "CPU times: user 0 ns, sys: 0 ns, total: 0 ns\n",
      "Wall time: 8.11 µs\n"
     ]
    }
   ],
   "source": [
    "%time\n",
    "%load_ext autotime\n",
    "%load_ext autoreload\n",
    "%autoreload 2"
   ]
  },
  {
   "cell_type": "code",
   "execution_count": 2,
   "metadata": {},
   "outputs": [
    {
     "name": "stdout",
     "output_type": "stream",
     "text": [
      "time: 33.1 s\n"
     ]
    }
   ],
   "source": [
    "# typically takes 30 secs\n",
    "from nlp_metrics import *"
   ]
  },
  {
   "cell_type": "code",
   "execution_count": 3,
   "metadata": {},
   "outputs": [
    {
     "name": "stdout",
     "output_type": "stream",
     "text": [
      "time: 45.2 ms\n"
     ]
    }
   ],
   "source": [
    "class ev(evaluation):\n",
    "    def __init__(self, filename, tag):\n",
    "        self.dic = self.load_dic({}, filename, tag)\n",
    "        self.ori = tag\n",
    "        self.gens = []\n",
    "        \n",
    "    def instr_cond(self, stem_only = False):\n",
    "        value = []\n",
    "        for i, v in tqdm.tqdm(self.dic.items()):\n",
    "            true = v['%s_ingr'%(self.ori)]\n",
    "            pred = v['%s_instr'%(self.gen)]\n",
    "            true = sp.root(true)\n",
    "            pred = sp.instructions(pred)[0]\n",
    "            scores = metrics(true, pred)\n",
    "            value.append(scores.recall())\n",
    "        avg = sum(value)/len(value)\n",
    "        print(avg)\n",
    "        return avg"
   ]
  },
  {
   "cell_type": "code",
   "execution_count": 4,
   "metadata": {},
   "outputs": [
    {
     "name": "stdout",
     "output_type": "stream",
     "text": [
      "load ../../to_gpt2/recipe1M_1118/val/y/\n",
      "load ../../to_gpt2/generation_201911118_k1_val/\n",
      "load ../../to_gpt2/generation_201911118_k3_val/\n",
      "load ../../to_gpt2/generation_201911118_k5_val/\n",
      "time: 5.45 s\n"
     ]
    }
   ],
   "source": [
    "data = ev('../../to_gpt2/recipe1M_1118/val/y/', 'ori')\n",
    "data.append_dic('../../to_gpt2/generation_201911118_k1_val/', 'k1')\n",
    "data.append_dic('../../to_gpt2/generation_201911118_k3_val/', 'k3')\n",
    "data.append_dic('../../to_gpt2/generation_201911118_k5_val/', 'k5')"
   ]
  },
  {
   "cell_type": "code",
   "execution_count": 5,
   "metadata": {},
   "outputs": [
    {
     "name": "stderr",
     "output_type": "stream",
     "text": [
      "  0%|          | 1/4000 [00:00<06:54,  9.64it/s]"
     ]
    },
    {
     "name": "stdout",
     "output_type": "stream",
     "text": [
      "k1\n"
     ]
    },
    {
     "name": "stderr",
     "output_type": "stream",
     "text": [
      "100%|██████████| 4000/4000 [04:28<00:00, 14.30it/s]\n",
      "  0%|          | 2/4000 [00:00<05:09, 12.93it/s]"
     ]
    },
    {
     "name": "stdout",
     "output_type": "stream",
     "text": [
      "0.6833817106447208\n",
      "k3\n"
     ]
    },
    {
     "name": "stderr",
     "output_type": "stream",
     "text": [
      "100%|██████████| 4000/4000 [04:18<00:00, 14.01it/s]\n",
      "  0%|          | 2/4000 [00:00<05:10, 12.89it/s]"
     ]
    },
    {
     "name": "stdout",
     "output_type": "stream",
     "text": [
      "0.6628238312797984\n",
      "k5\n"
     ]
    },
    {
     "name": "stderr",
     "output_type": "stream",
     "text": [
      "100%|██████████| 4000/4000 [04:40<00:00, 14.25it/s]"
     ]
    },
    {
     "name": "stdout",
     "output_type": "stream",
     "text": [
      "0.646145282491077\n",
      "time: 13min 27s\n"
     ]
    },
    {
     "name": "stderr",
     "output_type": "stream",
     "text": [
      "\n"
     ]
    }
   ],
   "source": [
    "for tag in data.gens:\n",
    "    print(tag)\n",
    "    data.gen = tag\n",
    "    data.instr_cond()"
   ]
  },
  {
   "cell_type": "code",
   "execution_count": 6,
   "metadata": {},
   "outputs": [
    {
     "name": "stdout",
     "output_type": "stream",
     "text": [
      "load ../../to_gpt2/recipe1M_1118/val/y/\n",
      "load ../../to_gpt2/generation_201911118_k10_val/\n",
      "load ../../to_gpt2/generation_201911118_k30_val/\n",
      "load ../../to_gpt2/generation_201911118_p99_val/\n",
      "time: 3.69 s\n"
     ]
    }
   ],
   "source": [
    "data = ev('../../to_gpt2/recipe1M_1118/val/y/', 'ori')\n",
    "data.append_dic('../../to_gpt2/generation_201911118_k10_val/', 'k10')\n",
    "data.append_dic('../../to_gpt2/generation_201911118_k30_val/', 'k30')\n",
    "data.append_dic('../../to_gpt2/generation_201911118_p99_val/', 'p99')"
   ]
  },
  {
   "cell_type": "code",
   "execution_count": 7,
   "metadata": {},
   "outputs": [
    {
     "name": "stderr",
     "output_type": "stream",
     "text": [
      "  0%|          | 1/4000 [00:00<09:38,  6.92it/s]"
     ]
    },
    {
     "name": "stdout",
     "output_type": "stream",
     "text": [
      "k10\n"
     ]
    },
    {
     "name": "stderr",
     "output_type": "stream",
     "text": [
      "100%|██████████| 4000/4000 [04:53<00:00, 13.63it/s]\n",
      "  0%|          | 2/4000 [00:00<05:25, 12.27it/s]"
     ]
    },
    {
     "name": "stdout",
     "output_type": "stream",
     "text": [
      "0.6467122624769193\n",
      "k30\n"
     ]
    },
    {
     "name": "stderr",
     "output_type": "stream",
     "text": [
      "100%|██████████| 4000/4000 [04:45<00:00, 14.01it/s]\n",
      "  0%|          | 1/4000 [00:00<08:10,  8.16it/s]"
     ]
    },
    {
     "name": "stdout",
     "output_type": "stream",
     "text": [
      "0.636998188203507\n",
      "p99\n"
     ]
    },
    {
     "name": "stderr",
     "output_type": "stream",
     "text": [
      "100%|██████████| 4000/4000 [05:21<00:00, 12.46it/s]"
     ]
    },
    {
     "name": "stdout",
     "output_type": "stream",
     "text": [
      "0.6230358478944132\n",
      "time: 15min\n"
     ]
    },
    {
     "name": "stderr",
     "output_type": "stream",
     "text": [
      "\n"
     ]
    }
   ],
   "source": [
    "for tag in data.gens:\n",
    "    print(tag)\n",
    "    data.gen = tag\n",
    "    data.instr_cond()"
   ]
  }
 ],
 "metadata": {
  "kernelspec": {
   "display_name": "Python 3",
   "language": "python",
   "name": "python3"
  },
  "language_info": {
   "codemirror_mode": {
    "name": "ipython",
    "version": 3
   },
   "file_extension": ".py",
   "mimetype": "text/x-python",
   "name": "python",
   "nbconvert_exporter": "python",
   "pygments_lexer": "ipython3",
   "version": "3.6.6"
  }
 },
 "nbformat": 4,
 "nbformat_minor": 2
}
