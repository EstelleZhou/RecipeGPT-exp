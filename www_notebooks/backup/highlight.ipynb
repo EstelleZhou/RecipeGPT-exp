{
 "cells": [
  {
   "cell_type": "code",
   "execution_count": 1,
   "metadata": {},
   "outputs": [
    {
     "name": "stdout",
     "output_type": "stream",
     "text": [
      "CPU times: user 0 ns, sys: 0 ns, total: 0 ns\n",
      "Wall time: 6.44 µs\n"
     ]
    }
   ],
   "source": [
    "%time\n",
    "%load_ext autotime\n",
    "%load_ext autoreload\n",
    "%autoreload 2"
   ]
  },
  {
   "cell_type": "code",
   "execution_count": 7,
   "metadata": {},
   "outputs": [
    {
     "name": "stdout",
     "output_type": "stream",
     "text": [
      "time: 16.8 ms\n"
     ]
    }
   ],
   "source": [
    "import os, tqdm, sys\n",
    "parent_dir = os.path.abspath(os.getcwd()+'/../')\n",
    "sys.path.append(parent_dir)\n",
    "\n",
    "import numpy as np\n",
    "import spacy\n",
    "import pickle\n",
    "\n",
    "def load_pickle(filename):\n",
    "    with open(filename, 'rb') as gfp:\n",
    "        r = pickle.load(gfp)\n",
    "    return r"
   ]
  },
  {
   "cell_type": "code",
   "execution_count": 3,
   "metadata": {},
   "outputs": [
    {
     "name": "stdout",
     "output_type": "stream",
     "text": [
      "time: 10.4 s\n"
     ]
    }
   ],
   "source": [
    "class spacy_extension:\n",
    "    def __init__(self):\n",
    "        '''\n",
    "        Args: sent: string\n",
    "        '''\n",
    "        self.spacy = spacy.load('en_core_web_lg')\n",
    "        \n",
    "    def root_visual(self, lst):\n",
    "        '''\n",
    "        Args: lst: a list of ingredient names\n",
    "        used when len(lst) must equal to root_match\n",
    "        '''\n",
    "        root_match = {}\n",
    "        for ingr in lst:\n",
    "            phrase = 'Mix the %s and water.'%ingr\n",
    "            doc = self.spacy(phrase)\n",
    "            for chunk in doc.noun_chunks:\n",
    "                if chunk.text != 'water':\n",
    "                    root_match.update({ingr: doc[chunk.end - 1]})\n",
    "        return root_match\n",
    "    \n",
    "sp = spacy_extension()"
   ]
  },
  {
   "cell_type": "code",
   "execution_count": 8,
   "metadata": {},
   "outputs": [
    {
     "name": "stdout",
     "output_type": "stream",
     "text": [
      "time: 16.6 ms\n"
     ]
    }
   ],
   "source": [
    "database = load_pickle('../big_data/database.pickle')"
   ]
  },
  {
   "cell_type": "code",
   "execution_count": 9,
   "metadata": {},
   "outputs": [
    {
     "name": "stdout",
     "output_type": "stream",
     "text": [
      "time: 19.8 ms\n"
     ]
    }
   ],
   "source": [
    "def highlight(ingr, instr, generate = 'instr'):\n",
    "    \n",
    "    '''Args:\n",
    "    ingr: list of ingredients; a set list;\n",
    "    instr: str, a paragraph of cooking instructions\n",
    "    \n",
    "    * this version only considers the root nouns; thus, it is fine to calculate F1\n",
    "    '''\n",
    "    assert generate in ['instr', 'ingr']\n",
    "    \n",
    "    ingr = sp.root_visual(ingr)\n",
    "    instr = sp.spacy(instr)\n",
    "    hl_ingr = []\n",
    "    hl_instr = dict({'correct':[],'wrong':[]})\n",
    "    lemma = {}\n",
    "    \n",
    "    for k, v in ingr.items():\n",
    "        lemma.setdefault(v.lemma_, []).append(len(hl_ingr))\n",
    "        hl_ingr.append({'input': k, 'to_highlight': v.text, 'color': 'wrong'})\n",
    "\n",
    "    for chunk in instr.noun_chunks:\n",
    "        idx_rootnoun = chunk.end - 1\n",
    "        str_rootnoun = instr[idx_rootnoun].lemma_\n",
    "        if str_rootnoun in lemma.keys():\n",
    "            hl_instr['correct'].append(instr[idx_rootnoun].text)\n",
    "            for i in lemma[str_rootnoun]:\n",
    "                hl_ingr[i].update({'color':'correct'})\n",
    "        elif str_rootnoun in database:\n",
    "            hl_instr['wrong'].append(instr[idx_rootnoun].text)\n",
    "            \n",
    "    # if this is instruction generation\n",
    "    recall = np.mean([line['color']=='correct' for line in hl_ingr])\n",
    "    precision = len(hl_instr['correct'])/ (len(hl_instr['correct']) + len(hl_instr['wrong']))\n",
    "    \n",
    "    if generate == 'ingr':\n",
    "        recall, precision = precision, recall\n",
    "        \n",
    "    return {'ingr': hl_ingr, 'instr': hl_instr, 'recall': recall, 'precision': precision}"
   ]
  },
  {
   "cell_type": "code",
   "execution_count": 13,
   "metadata": {},
   "outputs": [
    {
     "name": "stdout",
     "output_type": "stream",
     "text": [
      "time: 23 ms\n"
     ]
    }
   ],
   "source": [
    "ingr = ['ice', 'jigger water','fluid pineapples','chocolate','pineapple','cherry']\n",
    "instr = 'in a cocktail shaker, muddle the pineapple. \\\n",
    "add ice and the vodka, cream of coconut, and pineapple juice \\\n",
    "shake well strain into an ice filled water highball glass \\\n",
    "garnish with the pineapple wedge and maraschino'"
   ]
  },
  {
   "cell_type": "code",
   "execution_count": 14,
   "metadata": {},
   "outputs": [
    {
     "name": "stdout",
     "output_type": "stream",
     "text": [
      "time: 105 ms\n"
     ]
    }
   ],
   "source": [
    "output = highlight(ingr, instr)"
   ]
  },
  {
   "cell_type": "code",
   "execution_count": 15,
   "metadata": {},
   "outputs": [
    {
     "data": {
      "text/plain": [
       "{'ingr': [{'input': 'ice', 'to_highlight': 'ice', 'color': 'correct'},\n",
       "  {'input': 'jigger water', 'to_highlight': 'water', 'color': 'wrong'},\n",
       "  {'input': 'fluid pineapples',\n",
       "   'to_highlight': 'pineapples',\n",
       "   'color': 'correct'},\n",
       "  {'input': 'chocolate', 'to_highlight': 'chocolate', 'color': 'wrong'},\n",
       "  {'input': 'pineapple', 'to_highlight': 'pineapple', 'color': 'correct'},\n",
       "  {'input': 'cherry', 'to_highlight': 'cherry', 'color': 'wrong'}],\n",
       " 'instr': {'correct': ['pineapple', 'ice'],\n",
       "  'wrong': ['vodka', 'cream', 'coconut', 'juice', 'wedge', 'maraschino']},\n",
       " 'recall': 0.5,\n",
       " 'precision': 0.25}"
      ]
     },
     "execution_count": 15,
     "metadata": {},
     "output_type": "execute_result"
    },
    {
     "name": "stdout",
     "output_type": "stream",
     "text": [
      "time: 36 ms\n"
     ]
    }
   ],
   "source": [
    "output"
   ]
  },
  {
   "cell_type": "code",
   "execution_count": null,
   "metadata": {},
   "outputs": [],
   "source": []
  }
 ],
 "metadata": {
  "kernelspec": {
   "display_name": "Python 3",
   "language": "python",
   "name": "python3"
  },
  "language_info": {
   "codemirror_mode": {
    "name": "ipython",
    "version": 3
   },
   "file_extension": ".py",
   "mimetype": "text/x-python",
   "name": "python",
   "nbconvert_exporter": "python",
   "pygments_lexer": "ipython3",
   "version": "3.6.6"
  }
 },
 "nbformat": 4,
 "nbformat_minor": 2
}
