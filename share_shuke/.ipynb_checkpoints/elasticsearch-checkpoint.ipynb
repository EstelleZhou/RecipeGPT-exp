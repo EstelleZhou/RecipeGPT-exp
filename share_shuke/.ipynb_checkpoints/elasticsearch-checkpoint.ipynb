{
 "cells": [
  {
   "cell_type": "code",
   "execution_count": 1,
   "metadata": {},
   "outputs": [
    {
     "name": "stdout",
     "output_type": "stream",
     "text": [
      "CPU times: user 0 ns, sys: 0 ns, total: 0 ns\n",
      "Wall time: 5.01 µs\n"
     ]
    }
   ],
   "source": [
    "%time\n",
    "%load_ext autotime\n",
    "%load_ext autoreload\n",
    "%autoreload 2\n",
    "\n",
    "import os, tqdm, sys\n",
    "sys.path.append(os.path.abspath(os.getcwd()+'/../'))"
   ]
  },
  {
   "cell_type": "code",
   "execution_count": 2,
   "metadata": {},
   "outputs": [
    {
     "name": "stdout",
     "output_type": "stream",
     "text": [
      "time: 427 ms\n"
     ]
    }
   ],
   "source": [
    "import pickle\n",
    "import random\n",
    "import json\n",
    "import pandas as pd\n",
    "\n",
    "from elasticsearch import Elasticsearch\n",
    "#https://www.elastic.co/guide/en/elasticsearch/reference/current/getting-started-install.html\n",
    "#pip install elasticsearch\n",
    "\n",
    "def load_pickle(filename):\n",
    "    with open(filename, 'rb') as gfp:\n",
    "        r = pickle.load(gfp)\n",
    "    return r"
   ]
  },
  {
   "cell_type": "markdown",
   "metadata": {},
   "source": [
    "### Preparation"
   ]
  },
  {
   "cell_type": "code",
   "execution_count": 3,
   "metadata": {},
   "outputs": [
    {
     "name": "stderr",
     "output_type": "stream",
     "text": [
      "904401it [01:44, 8624.40it/s] "
     ]
    },
    {
     "name": "stdout",
     "output_type": "stream",
     "text": [
      "time: 1min 54s\n"
     ]
    },
    {
     "name": "stderr",
     "output_type": "stream",
     "text": [
      "\n"
     ]
    }
   ],
   "source": [
    "# load\n",
    "data = load_pickle('../big_data/data_1218.pickle')\n",
    "\n",
    "# sampling\n",
    "random_seed = 2019\n",
    "lst = list(range(len(data)))\n",
    "random.seed(random_seed)\n",
    "random.shuffle(lst)\n",
    "ls_test = lst[:4000]\n",
    "ls_val = lst[4000:8000]\n",
    "ls_train = lst[8000:]\n",
    "\n",
    "# remember to set-up the localhost first\n",
    "es = Elasticsearch()\n",
    "\n",
    "# send data to elasticsearch\n",
    "## 4,000 cases --> 3 minutes\n",
    "## 1,000,000 case --> 1000 minutes (16 hours)\n",
    "for i, recipe in tqdm.tqdm(enumerate(data)):\n",
    "    if i in ls_val :\n",
    "        recipe['directions'] = recipe.pop('instructions')\n",
    "        es.index(index='all', doc_type='recipe', body=recipe)"
   ]
  },
  {
   "cell_type": "code",
   "execution_count": null,
   "metadata": {},
   "outputs": [],
   "source": [
    "'''may need to delete old index\n",
    "# remember to set-up the localhost first\n",
    "es = Elasticsearch()\n",
    "# delete index\n",
    "es.indices.delete(index='val', ignore=[400, 404])\n",
    "'''"
   ]
  },
  {
   "cell_type": "code",
   "execution_count": null,
   "metadata": {},
   "outputs": [],
   "source": [
    "'''when we are finally ready\n",
    "\n",
    "# delete the previous index\n",
    "es.indices.delete(index='all', ignore=[400, 404])\n",
    "\n",
    "# write everything to elasticsearch\n",
    "for i, recipe in tqdm.tqdm(enumerate(data)):\n",
    "        es.index(index='all', doc_type='recipe', body=recipe)\n",
    "'''"
   ]
  },
  {
   "cell_type": "markdown",
   "metadata": {},
   "source": [
    "### Query"
   ]
  },
  {
   "cell_type": "code",
   "execution_count": 4,
   "metadata": {},
   "outputs": [
    {
     "name": "stdout",
     "output_type": "stream",
     "text": [
      "time: 26.6 ms\n"
     ]
    }
   ],
   "source": [
    "def similar(field1, field2, given = 'directions'):\n",
    "    assert given in ['directions','ingredients']\n",
    "    field1 = ' '.join(field1) if type(field1) == list else field1\n",
    "    field2 = ' '.join(field2) if type(field2) == list else field2\n",
    "    \n",
    "    query_body = {\n",
    "      \"query\": {\n",
    "        \"bool\": {\n",
    "          \"must\": {\n",
    "            \"multi_match\": {   \n",
    "                \"query\": field1 + field2,\n",
    "                'fields':[\"title\", given]\n",
    "            }\n",
    "          }\n",
    "        }\n",
    "      }\n",
    "    }\n",
    "    \n",
    "    result = es.search(index = 'all', body = query_body)\n",
    "    best_match = result['hits']['hits'][0]['_source']\n",
    "    return best_match"
   ]
  },
  {
   "cell_type": "markdown",
   "metadata": {},
   "source": [
    "### Example"
   ]
  },
  {
   "cell_type": "code",
   "execution_count": 5,
   "metadata": {},
   "outputs": [
    {
     "name": "stdout",
     "output_type": "stream",
     "text": [
      "time: 12.9 ms\n"
     ]
    }
   ],
   "source": [
    "# prepare example\n",
    "title = 'blood orange punch'\n",
    "ingredients = ['orange soda','lime juice','light rum','orange','dash bitters','orange juice']\n",
    "directions = ['fill ice cube trays with 1 1/2 cups orange juice, and freeze',\n",
    "              'to make punch, stir remaining orange juice, soda, lime juice, rum, and bitters into a 16-cup punch bowl',\n",
    "              'before serving, add frozen orange slices',\n",
    "              'add ice cubes as needed to keep chilled.']"
   ]
  },
  {
   "cell_type": "code",
   "execution_count": 6,
   "metadata": {},
   "outputs": [
    {
     "data": {
      "text/plain": [
       "{'ingredients': ['dash bitters',\n",
       "  'lime juice',\n",
       "  'orange juice',\n",
       "  'orange',\n",
       "  'light rum',\n",
       "  'orange soda'],\n",
       " 'title': 'blood orange punch',\n",
       " 'recipe1m_idx': 250985,\n",
       " 'url': 'http://www.delish.com/recipefinder/blood-orange-punch-recipe',\n",
       " 'directions': 'fill ice cube trays with 1 1/2 cups orange juice, and freeze. to make punch, stir remaining orange juice, soda, lime juice, rum, and bitters into a 16-cup punch bowl. before serving, add frozen orange slices. add ice cubes as needed to keep chilled.'}"
      ]
     },
     "execution_count": 6,
     "metadata": {},
     "output_type": "execute_result"
    },
    {
     "name": "stdout",
     "output_type": "stream",
     "text": [
      "time: 807 ms\n"
     ]
    }
   ],
   "source": [
    "# example usuage\n",
    "similar(title, ingredients, given ='ingredients')"
   ]
  },
  {
   "cell_type": "code",
   "execution_count": 7,
   "metadata": {},
   "outputs": [
    {
     "data": {
      "text/plain": [
       "{'ingredients': ['dash bitters',\n",
       "  'lime juice',\n",
       "  'orange juice',\n",
       "  'orange',\n",
       "  'light rum',\n",
       "  'orange soda'],\n",
       " 'title': 'blood orange punch',\n",
       " 'recipe1m_idx': 250985,\n",
       " 'url': 'http://www.delish.com/recipefinder/blood-orange-punch-recipe',\n",
       " 'directions': 'fill ice cube trays with 1 1/2 cups orange juice, and freeze. to make punch, stir remaining orange juice, soda, lime juice, rum, and bitters into a 16-cup punch bowl. before serving, add frozen orange slices. add ice cubes as needed to keep chilled.'}"
      ]
     },
     "execution_count": 7,
     "metadata": {},
     "output_type": "execute_result"
    },
    {
     "name": "stdout",
     "output_type": "stream",
     "text": [
      "time: 32.3 ms\n"
     ]
    }
   ],
   "source": [
    "# example usuage\n",
    "similar(title, directions, given ='directions')"
   ]
  }
 ],
 "metadata": {
  "kernelspec": {
   "display_name": "Python 3",
   "language": "python",
   "name": "python3"
  },
  "language_info": {
   "codemirror_mode": {
    "name": "ipython",
    "version": 3
   },
   "file_extension": ".py",
   "mimetype": "text/x-python",
   "name": "python",
   "nbconvert_exporter": "python",
   "pygments_lexer": "ipython3",
   "version": "3.6.6"
  }
 },
 "nbformat": 4,
 "nbformat_minor": 2
}
