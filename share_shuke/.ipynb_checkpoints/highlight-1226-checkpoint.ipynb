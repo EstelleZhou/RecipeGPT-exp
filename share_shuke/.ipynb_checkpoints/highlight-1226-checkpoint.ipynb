{
 "cells": [
  {
   "cell_type": "code",
   "execution_count": 1,
   "metadata": {},
   "outputs": [
    {
     "name": "stdout",
     "output_type": "stream",
     "text": [
      "CPU times: user 0 ns, sys: 0 ns, total: 0 ns\n",
      "Wall time: 14.5 µs\n"
     ]
    }
   ],
   "source": [
    "%time\n",
    "%load_ext autotime\n",
    "%load_ext autoreload\n",
    "%autoreload 2"
   ]
  },
  {
   "cell_type": "code",
   "execution_count": 2,
   "metadata": {},
   "outputs": [
    {
     "name": "stdout",
     "output_type": "stream",
     "text": [
      "time: 911 ms\n"
     ]
    }
   ],
   "source": [
    "import os, tqdm, sys\n",
    "parent_dir = os.path.abspath(os.getcwd()+'/../')\n",
    "sys.path.append(parent_dir)\n",
    "\n",
    "import numpy as np\n",
    "import spacy\n",
    "import pickle\n",
    "\n",
    "def load_pickle(filename):\n",
    "    with open(filename, 'rb') as gfp:\n",
    "        r = pickle.load(gfp)\n",
    "    return r"
   ]
  },
  {
   "cell_type": "code",
   "execution_count": 3,
   "metadata": {},
   "outputs": [
    {
     "name": "stdout",
     "output_type": "stream",
     "text": [
      "time: 17.9 ms\n"
     ]
    }
   ],
   "source": [
    "database = load_pickle('../big_data/database.pickle')"
   ]
  },
  {
   "cell_type": "code",
   "execution_count": 4,
   "metadata": {},
   "outputs": [
    {
     "name": "stdout",
     "output_type": "stream",
     "text": [
      "time: 9.85 s\n"
     ]
    }
   ],
   "source": [
    "class spacy_extension:\n",
    "    def __init__(self):\n",
    "        '''\n",
    "        Args: sent: string\n",
    "        '''\n",
    "        self.spacy = spacy.load('en_core_web_lg')\n",
    "        \n",
    "    def ingr(self, lst):\n",
    "        '''\n",
    "        Args: lst: a list of ingredient names\n",
    "        used when len(lst) must equal to root_match\n",
    "        '''\n",
    "        hl = [[{'text':x, 'highlight': None} for x in i.split(' ')] for i in lst]\n",
    "        root_match = []\n",
    "        for i, ingr in enumerate(lst):\n",
    "            if ' ' not in ingr:\n",
    "                hl[i][0]['highlight'] = 'wrong'\n",
    "                doc = self.spacy(ingr)\n",
    "                root_match.append(doc[0].lemma_)\n",
    "            else:\n",
    "                phrase = 'Mix the %s and water.'%ingr\n",
    "                doc = self.spacy(phrase)\n",
    "                for chunk in doc.noun_chunks:\n",
    "                    if chunk.text != 'water':\n",
    "                        for j, word in enumerate(hl[i]):\n",
    "                            if word['text'] == doc[chunk.end - 1].text:\n",
    "                                hl[i][j]['highlight'] = 'wrong' \n",
    "                                root_match.append(doc[chunk.end - 1].lemma_)\n",
    "        return root_match, hl\n",
    "    \n",
    "    def instr(self, directions):\n",
    "        instr = self.spacy(directions)\n",
    "        hl_instr = [{'text': token.text, 'highlight': None} for token in instr]\n",
    "        return instr, hl_instr"
   ]
  },
  {
   "cell_type": "code",
   "execution_count": 5,
   "metadata": {},
   "outputs": [
    {
     "name": "stdout",
     "output_type": "stream",
     "text": [
      "time: 28.1 ms\n"
     ]
    }
   ],
   "source": [
    "def highlight(ingredients, directions, generate = 'directions'):\n",
    "    \n",
    "    '''Args:\n",
    "    ingr: list of ingredients; a set list;\n",
    "    instr: str/list, a paragraph of cooking instructions\n",
    "    \n",
    "    * this version only considers the root nouns; thus, it is fine to calculate F1\n",
    "    '''\n",
    "    \n",
    "    # check the inputs\n",
    "    assert generate in ['directions', 'ingredients']\n",
    "    directions = ' '.join(directions) if type(directions) == list else directions\n",
    "    \n",
    "    # send to spacy\n",
    "    root_ingr, hl_ingr = sp.ingr(ingredients)\n",
    "    instr, hl_instr = sp.instr(directions)\n",
    "    root_instr = []\n",
    "    \n",
    "    # highlighting\n",
    "    for chunk in instr.noun_chunks:\n",
    "        idx_rootnoun = chunk.end - 1\n",
    "        str_rootnoun = instr[idx_rootnoun].lemma_\n",
    "        if str_rootnoun in root_ingr:\n",
    "            root_instr.append(str_rootnoun)\n",
    "            hl_instr[idx_rootnoun]['highlight'] = 'correct'\n",
    "            \n",
    "            for idx, root in enumerate(root_ingr):\n",
    "                if root == str_rootnoun:\n",
    "                    for j, word in enumerate(hl_ingr[idx]):\n",
    "                        if word['highlight'] =='wrong':\n",
    "                            hl_ingr[idx][j]['highlight'] = 'correct'\n",
    "            \n",
    "        elif str_rootnoun in database:\n",
    "            root_instr.append(str_rootnoun)\n",
    "            hl_instr[idx_rootnoun]['highlight'] = 'wrong'\n",
    "    \n",
    "    # delimit the sentences\n",
    "    hl_instr = parse_instr(hl_instr)\n",
    "   \n",
    "    # calculate precision and recall\n",
    "    root_ingr, root_instr = set(root_ingr), set(root_instr)\n",
    "    TP = len(root_ingr & root_instr)\n",
    "    recall = TP/len(root_ingr) if len(root_ingr) >0 else 0\n",
    "    precision = TP/len(root_instr) if len(root_instr) >0 else 0\n",
    "    \n",
    "    # if this is ingredients generation\n",
    "    if generate == 'ingredients':\n",
    "        recall, precision = precision, recall\n",
    "    return {'ingredients': hl_ingr, 'directions': hl_instr, 'recall': recall, 'precision': precision}\n",
    "\n",
    "def parse_instr(hl_instr):\n",
    "    par_hl, sent = [], []\n",
    "    for word in hl_instr:\n",
    "        if word['text'] !='.':\n",
    "            sent.append(word)\n",
    "        else:\n",
    "            sent.append(word)\n",
    "            par_hl.append(sent)\n",
    "            sent = []\n",
    "    if sent:\n",
    "        par_hl.append(sent)\n",
    "    return par_hl"
   ]
  },
  {
   "cell_type": "code",
   "execution_count": 6,
   "metadata": {},
   "outputs": [
    {
     "name": "stdout",
     "output_type": "stream",
     "text": [
      "time: 15.9 ms\n"
     ]
    }
   ],
   "source": [
    "ingredeints = ['garlic','breasts','bsp. oil']\n",
    "directions = 'heat oil in large skillet on medium - high heat. \\\n",
    "Add chicken and garlic . or until chicken is done'"
   ]
  },
  {
   "cell_type": "code",
   "execution_count": 7,
   "metadata": {},
   "outputs": [
    {
     "name": "stdout",
     "output_type": "stream",
     "text": [
      "time: 62.5 ms\n"
     ]
    }
   ],
   "source": [
    "output = highlight(ingredeints, directions)"
   ]
  },
  {
   "cell_type": "code",
   "execution_count": 8,
   "metadata": {},
   "outputs": [
    {
     "data": {
      "text/plain": [
       "{'ingredients': [[{'text': 'garlic', 'highlight': 'correct'}],\n",
       "  [{'text': 'breasts', 'highlight': 'wrong'}],\n",
       "  [{'text': 'bsp.', 'highlight': None},\n",
       "   {'text': 'oil', 'highlight': 'correct'}]],\n",
       " 'directions': [[{'text': 'heat', 'highlight': None},\n",
       "   {'text': 'oil', 'highlight': 'correct'},\n",
       "   {'text': 'in', 'highlight': None},\n",
       "   {'text': 'large', 'highlight': None},\n",
       "   {'text': 'skillet', 'highlight': None},\n",
       "   {'text': 'on', 'highlight': None},\n",
       "   {'text': 'medium', 'highlight': None},\n",
       "   {'text': '-', 'highlight': None},\n",
       "   {'text': 'high', 'highlight': None},\n",
       "   {'text': 'heat', 'highlight': None},\n",
       "   {'text': '.', 'highlight': None}],\n",
       "  [{'text': 'Add', 'highlight': None},\n",
       "   {'text': 'chicken', 'highlight': 'wrong'},\n",
       "   {'text': 'and', 'highlight': None},\n",
       "   {'text': 'garlic', 'highlight': 'correct'},\n",
       "   {'text': '.', 'highlight': None}],\n",
       "  [{'text': 'or', 'highlight': None},\n",
       "   {'text': 'until', 'highlight': None},\n",
       "   {'text': 'chicken', 'highlight': 'wrong'},\n",
       "   {'text': 'is', 'highlight': None},\n",
       "   {'text': 'done', 'highlight': None},\n",
       "   {'text': 'oil', 'highlight': 'correct'}]],\n",
       " 'recall': 0.6666666666666666,\n",
       " 'precision': 0.6666666666666666}"
      ]
     },
     "execution_count": 8,
     "metadata": {},
     "output_type": "execute_result"
    },
    {
     "name": "stdout",
     "output_type": "stream",
     "text": [
      "time: 27.8 ms\n"
     ]
    }
   ],
   "source": [
    "output"
   ]
  }
 ],
 "metadata": {
  "kernelspec": {
   "display_name": "Python 3",
   "language": "python",
   "name": "python3"
  },
  "language_info": {
   "codemirror_mode": {
    "name": "ipython",
    "version": 3
   },
   "file_extension": ".py",
   "mimetype": "text/x-python",
   "name": "python",
   "nbconvert_exporter": "python",
   "pygments_lexer": "ipython3",
   "version": "3.6.6"
  }
 },
 "nbformat": 4,
 "nbformat_minor": 2
}
