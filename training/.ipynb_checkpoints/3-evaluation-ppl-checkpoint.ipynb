{
 "cells": [
  {
   "cell_type": "markdown",
   "metadata": {},
   "source": [
    "### Evaluate the perplexity of the three models presented in the paper\n",
    "* medium: fine-tuning 345M\n",
    "* 1220: fine-tuning 117M\n",
    "* scratch: training from scratch with 117M"
   ]
  },
  {
   "cell_type": "code",
   "execution_count": null,
   "metadata": {},
   "outputs": [],
   "source": [
    "cd gpt-2"
   ]
  },
  {
   "cell_type": "markdown",
   "metadata": {},
   "source": [
    "best 345M model"
   ]
  },
  {
   "cell_type": "code",
   "execution_count": 4,
   "metadata": {},
   "outputs": [
    {
     "name": "stdout",
     "output_type": "stream",
     "text": [
      "2019-12-31 11:03:48.628500: I tensorflow/core/platform/cpu_feature_guard.cc:141] Your CPU supports instructions that this TensorFlow binary was not compiled to use: AVX2 FMA\n",
      "2019-12-31 11:03:50.321491: I tensorflow/core/common_runtime/gpu/gpu_device.cc:1432] Found device 0 with properties: \n",
      "name: Tesla V100-SXM2-16GB major: 7 minor: 0 memoryClockRate(GHz): 1.53\n",
      "pciBusID: 0000:06:00.0\n",
      "totalMemory: 15.77GiB freeMemory: 14.08GiB\n",
      "2019-12-31 11:03:50.321550: I tensorflow/core/common_runtime/gpu/gpu_device.cc:1511] Adding visible gpu devices: 0\n",
      "2019-12-31 11:03:50.748531: I tensorflow/core/common_runtime/gpu/gpu_device.cc:982] Device interconnect StreamExecutor with strength 1 edge matrix:\n",
      "2019-12-31 11:03:50.748587: I tensorflow/core/common_runtime/gpu/gpu_device.cc:988]      0 \n",
      "2019-12-31 11:03:50.748622: I tensorflow/core/common_runtime/gpu/gpu_device.cc:1001] 0:   N \n",
      "2019-12-31 11:03:50.749145: I tensorflow/core/common_runtime/gpu/gpu_device.cc:1115] Created TensorFlow device (/job:localhost/replica:0/task:0/device:GPU:0 with 13617 MB memory) -> physical GPU (device: 0, name: Tesla V100-SXM2-16GB, pci bus id: 0000:06:00.0, compute capability: 7.0)\n",
      "Loading checkpoint models/medium/model-570000\n",
      "Loading dataset...\n",
      "Training...\n",
      "Calculating validation loss...\n",
      "100%|███████████████████████████████████████| 4000/4000 [03:19<00:00, 20.06it/s]\n",
      "[540348 | 199.94] validation loss = 1.29 |validation ppl = 3.63\n",
      "1.288 1.288\n"
     ]
    }
   ],
   "source": [
    "!CUDA_VISIBLE_DEVICES=\"0\" python train_ppl_pickle.py --dataset 'eval_only' --model_name 'medium' --val_dataset /workspace/gpt2_0801/to_gpt2/recipe1M_1218/chunk.test --val_every 1 --val_batch_count 4000 "
   ]
  },
  {
   "cell_type": "markdown",
   "metadata": {},
   "source": [
    "best 117M model"
   ]
  },
  {
   "cell_type": "code",
   "execution_count": 5,
   "metadata": {},
   "outputs": [
    {
     "name": "stdout",
     "output_type": "stream",
     "text": [
      "2019-12-31 11:08:06.860021: I tensorflow/core/platform/cpu_feature_guard.cc:141] Your CPU supports instructions that this TensorFlow binary was not compiled to use: AVX2 FMA\n",
      "2019-12-31 11:08:07.669139: I tensorflow/core/common_runtime/gpu/gpu_device.cc:1432] Found device 0 with properties: \n",
      "name: Tesla V100-SXM2-16GB major: 7 minor: 0 memoryClockRate(GHz): 1.53\n",
      "pciBusID: 0000:06:00.0\n",
      "totalMemory: 15.77GiB freeMemory: 14.08GiB\n",
      "2019-12-31 11:08:07.669196: I tensorflow/core/common_runtime/gpu/gpu_device.cc:1511] Adding visible gpu devices: 0\n",
      "2019-12-31 11:08:08.562677: I tensorflow/core/common_runtime/gpu/gpu_device.cc:982] Device interconnect StreamExecutor with strength 1 edge matrix:\n",
      "2019-12-31 11:08:08.562755: I tensorflow/core/common_runtime/gpu/gpu_device.cc:988]      0 \n",
      "2019-12-31 11:08:08.562791: I tensorflow/core/common_runtime/gpu/gpu_device.cc:1001] 0:   N \n",
      "2019-12-31 11:08:08.609488: I tensorflow/core/common_runtime/gpu/gpu_device.cc:1115] Created TensorFlow device (/job:localhost/replica:0/task:0/device:GPU:0 with 13617 MB memory) -> physical GPU (device: 0, name: Tesla V100-SXM2-16GB, pci bus id: 0000:06:00.0, compute capability: 7.0)\n",
      "Loading checkpoint models/1220/model-606000\n",
      "Loading dataset...\n",
      "Training...\n",
      "Calculating validation loss...\n",
      "100%|███████████████████████████████████████| 4000/4000 [01:33<00:00, 42.99it/s]\n",
      "[540348 | 93.20] validation loss = 1.31 |validation ppl = 3.70\n",
      "1.309 1.309\n"
     ]
    }
   ],
   "source": [
    "!CUDA_VISIBLE_DEVICES=\"0\" python train_ppl_pickle.py --dataset 'eval_only' --model_name '1220' --val_dataset /workspace/gpt2_0801/to_gpt2/recipe1M_1218/chunk.test --val_every 1 --val_batch_count 4000 "
   ]
  },
  {
   "cell_type": "markdown",
   "metadata": {},
   "source": [
    "best scratch model"
   ]
  },
  {
   "cell_type": "code",
   "execution_count": 6,
   "metadata": {},
   "outputs": [
    {
     "name": "stdout",
     "output_type": "stream",
     "text": [
      "2019-12-31 11:10:13.956879: I tensorflow/core/platform/cpu_feature_guard.cc:141] Your CPU supports instructions that this TensorFlow binary was not compiled to use: AVX2 FMA\n",
      "2019-12-31 11:10:14.886787: I tensorflow/core/common_runtime/gpu/gpu_device.cc:1432] Found device 0 with properties: \n",
      "name: Tesla V100-SXM2-16GB major: 7 minor: 0 memoryClockRate(GHz): 1.53\n",
      "pciBusID: 0000:06:00.0\n",
      "totalMemory: 15.77GiB freeMemory: 14.08GiB\n",
      "2019-12-31 11:10:14.886852: I tensorflow/core/common_runtime/gpu/gpu_device.cc:1511] Adding visible gpu devices: 0\n",
      "2019-12-31 11:10:15.706566: I tensorflow/core/common_runtime/gpu/gpu_device.cc:982] Device interconnect StreamExecutor with strength 1 edge matrix:\n",
      "2019-12-31 11:10:15.706700: I tensorflow/core/common_runtime/gpu/gpu_device.cc:988]      0 \n",
      "2019-12-31 11:10:15.706745: I tensorflow/core/common_runtime/gpu/gpu_device.cc:1001] 0:   N \n",
      "2019-12-31 11:10:15.707232: I tensorflow/core/common_runtime/gpu/gpu_device.cc:1115] Created TensorFlow device (/job:localhost/replica:0/task:0/device:GPU:0 with 13617 MB memory) -> physical GPU (device: 0, name: Tesla V100-SXM2-16GB, pci bus id: 0000:06:00.0, compute capability: 7.0)\n",
      "Loading checkpoint models/scratch/model-633000\n",
      "Loading dataset...\n",
      "Training...\n",
      "Calculating validation loss...\n",
      "100%|███████████████████████████████████████| 4000/4000 [01:40<00:00, 39.67it/s]\n",
      "[540348 | 101.12] validation loss = 1.33 |validation ppl = 3.77\n",
      "1.328 1.328\n"
     ]
    }
   ],
   "source": [
    "!CUDA_VISIBLE_DEVICES=\"0\" python train_ppl_pickle.py --dataset 'eval_only' --model_name 'scratch' --val_dataset /workspace/gpt2_0801/to_gpt2/recipe1M_1218/chunk.test --val_every 1 --val_batch_count 4000 "
   ]
  }
 ],
 "metadata": {
  "kernelspec": {
   "display_name": "Python 3",
   "language": "python",
   "name": "python3"
  },
  "language_info": {
   "codemirror_mode": {
    "name": "ipython",
    "version": 3
   },
   "file_extension": ".py",
   "mimetype": "text/x-python",
   "name": "python",
   "nbconvert_exporter": "python",
   "pygments_lexer": "ipython3",
   "version": "3.6.10"
  }
 },
 "nbformat": 4,
 "nbformat_minor": 4
}
