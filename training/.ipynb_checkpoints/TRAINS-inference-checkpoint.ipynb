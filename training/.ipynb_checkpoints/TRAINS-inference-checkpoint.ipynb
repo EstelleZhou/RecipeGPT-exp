{
 "cells": [
  {
   "cell_type": "code",
   "execution_count": 1,
   "metadata": {},
   "outputs": [],
   "source": [
    "import importlib\n",
    "import os\n",
    "os.environ['CUDA_VISIBLE_DEVICES'] ='0'\n",
    "conditional_gen_dir = importlib.import_module(\"gpt-2.src.conditional_gen_dir\")\n",
    "save = importlib.import_module(\"gpt-2.src.save\")"
   ]
  },
  {
   "cell_type": "code",
   "execution_count": 10,
   "metadata": {},
   "outputs": [],
   "source": [
    "!cp -r /workspace/gpt2_0801/gpt-2/models/117M_default/ /workspace/gpt2_0801/gpt-2/models/medium/"
   ]
  },
  {
   "cell_type": "code",
   "execution_count": 11,
   "metadata": {},
   "outputs": [],
   "source": [
    "# for the checkpoint\n",
    "!cp -r /workspace/gpt2_0801/gpt-2/checkpoint/medium/model-570000* /workspace/gpt2_0801/gpt-2/models/medium/\n",
    "!cp -r /workspace/gpt2_0801/gpt-2/checkpoint/medium/chec* /workspace/gpt2_0801/gpt-2/models/medium/"
   ]
  },
  {
   "cell_type": "code",
   "execution_count": 5,
   "metadata": {},
   "outputs": [
    {
     "name": "stderr",
     "output_type": "stream",
     "text": [
      "  0%|          | 0/12000 [00:00<?, ?it/s]"
     ]
    },
    {
     "name": "stdout",
     "output_type": "stream",
     "text": [
      "saved gpt-2/models/scratch/checkpoint\n"
     ]
    },
    {
     "name": "stderr",
     "output_type": "stream",
     "text": [
      "100%|██████████| 12000/12000 [00:34<00:00, 352.80it/s]\n"
     ]
    },
    {
     "name": "stdout",
     "output_type": "stream",
     "text": [
      "time spent in encoding 0:00:34.036482\n",
      "INFO:tensorflow:Restoring parameters from /workspace/gpt2_0801/gpt-2/models/scratch/model-633000\n"
     ]
    },
    {
     "name": "stderr",
     "output_type": "stream",
     "text": [
      "  0%|          | 0/8000 [00:00<?, ?it/s]"
     ]
    },
    {
     "name": "stdout",
     "output_type": "stream",
     "text": [
      "start decoding 2019-12-25 03:40:12.689272\n"
     ]
    },
    {
     "name": "stderr",
     "output_type": "stream",
     "text": [
      "  0%|          | 1/8000 [00:08<18:49:30,  8.47s/it]"
     ]
    },
    {
     "name": "stdout",
     "output_type": "stream",
     "text": [
      "make dir\n"
     ]
    },
    {
     "name": "stderr",
     "output_type": "stream",
     "text": [
      "100%|██████████| 8000/8000 [20:08:22<00:00, 10.48s/it]   "
     ]
    },
    {
     "name": "stdout",
     "output_type": "stream",
     "text": [
      "time spent in decoding 20:08:22.667879\n"
     ]
    },
    {
     "name": "stderr",
     "output_type": "stream",
     "text": [
      "\n"
     ]
    }
   ],
   "source": [
    "task_name='scratch'\n",
    "\n",
    "task_params = {'top_k': 3, 'model_name': task_name,\n",
    "          'filename': '/workspace/gpt2_0801/to_gpt2/recipe1M_1218/test/X/',\n",
    "          'overwrite': True, 'tag': '_%s_k3_test'%(task_name)}\n",
    "\n",
    "to_write = {'to_write':'model_checkpoint_path: \"model-633000\"\\n'}\n",
    "modelpath = {'modelpath':'gpt-2/models/%s/checkpoint'%(task_name)}\n",
    "\n",
    "save.save(modelpath['modelpath'], to_write['to_write'], overwrite = True)\n",
    "\n",
    "conditional_gen_dir.interact_model(**task_params)"
   ]
  }
 ],
 "metadata": {
  "kernelspec": {
   "display_name": "Python 3",
   "language": "python",
   "name": "python3"
  },
  "language_info": {
   "codemirror_mode": {
    "name": "ipython",
    "version": 3
   },
   "file_extension": ".py",
   "mimetype": "text/x-python",
   "name": "python",
   "nbconvert_exporter": "python",
   "pygments_lexer": "ipython3",
   "version": "3.5.2"
  }
 },
 "nbformat": 4,
 "nbformat_minor": 4
}
