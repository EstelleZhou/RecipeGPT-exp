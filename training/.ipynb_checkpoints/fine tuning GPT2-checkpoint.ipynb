{
 "cells": [
  {
   "cell_type": "markdown",
   "metadata": {},
   "source": [
    "### Create this notebook to control gpt-2 on DGX-v2"
   ]
  },
  {
   "cell_type": "markdown",
   "metadata": {},
   "source": [
    "make sure you are inside the gpt-2"
   ]
  },
  {
   "cell_type": "code",
   "execution_count": 1,
   "metadata": {},
   "outputs": [
    {
     "name": "stdout",
     "output_type": "stream",
     "text": [
      "/workspace/gpt2_0801/AA6/gpt2_control_panel/gpt-2\n"
     ]
    }
   ],
   "source": [
    "cd gpt-2"
   ]
  },
  {
   "cell_type": "code",
   "execution_count": 2,
   "metadata": {},
   "outputs": [
    {
     "data": {
      "text/plain": [
       "'/workspace/gpt2_0801/AA6/gpt2_control_panel/gpt-2'"
      ]
     },
     "execution_count": 2,
     "metadata": {},
     "output_type": "execute_result"
    }
   ],
   "source": [
    "pwd"
   ]
  },
  {
   "cell_type": "code",
   "execution_count": 3,
   "metadata": {},
   "outputs": [
    {
     "name": "stdout",
     "output_type": "stream",
     "text": [
      "Fetching checkpoint: 1.00kit [00:00, 930kit/s]                                                      \n",
      "Fetching encoder.json: 1.04Mit [00:00, 27.4Mit/s]                                                   \n",
      "Fetching hparams.json: 1.00kit [00:00, 712kit/s]                                                    \n",
      "Fetching model.ckpt.data-00000-of-00001: 498Mit [00:19, 26.0Mit/s]                                  \n",
      "Fetching model.ckpt.index: 6.00kit [00:00, 3.26Mit/s]                                               \n",
      "Fetching model.ckpt.meta: 472kit [00:00, 38.5Mit/s]                                                 \n",
      "Fetching vocab.bpe: 457kit [00:00, 32.7Mit/s]                                                       \n"
     ]
    }
   ],
   "source": [
    "!python download_model.py 117M"
   ]
  },
  {
   "cell_type": "markdown",
   "metadata": {},
   "source": [
    "### paper submission"
   ]
  },
  {
   "cell_type": "markdown",
   "metadata": {},
   "source": [
    "CUDA_VISIBLE_DEVICES=\"2\" python train_ppl_pickle.py --dataset /workspace/gpt2_0801/to_gpt2/recipe1M_1218/chunk.train --model_name '117M' --val_dataset /workspace/gpt2_0801/to_gpt2/recipe1M_1218/chunk.val --val_every 3000 --sample_every 3000 --max_length 512 --batch_size 8 --val_batch_size 8 --val_batch_count 500 --run_name 1220 --learning_rate 1e-4"
   ]
  },
  {
   "cell_type": "code",
   "execution_count": null,
   "metadata": {},
   "outputs": [],
   "source": []
  },
  {
   "cell_type": "markdown",
   "metadata": {},
   "source": [
    "CUDA_VISIBLE_DEVICES=\"6\" python train_ppl_pickle.py --dataset /workspace/gpt2_0801/to_gpt2/recipe1M_1218/chunk.train --model_name '345M' --val_dataset /workspace/gpt2_0801/to_gpt2/recipe1M_1218/chunk.val --val_every 6000 --sample_every 6000 --max_length 512 --batch_size 4 --val_batch_size 4 --val_batch_count 1000 --run_name medium --learning_rate 1e-4"
   ]
  },
  {
   "cell_type": "markdown",
   "metadata": {},
   "source": [
    "CUDA_VISIBLE_DEVICES=\"3\" python train_ppl_pickle.py --dataset /workspace/gpt2_0801/to_gpt2/recipe1M_1218/chunk.train --model_name '345M' --val_dataset /workspace/gpt2_0801/to_gpt2/recipe1M_1218/chunk.val --val_every 6000 --sample_every 6000 --max_length 512 --batch_size 4 --val_batch_size 4 --val_batch_count 1000 --run_name medium2 --learning_rate 5e-4"
   ]
  },
  {
   "cell_type": "markdown",
   "metadata": {},
   "source": [
    "CUDA_VISIBLE_DEVICES=\"7\" python train_ppl_pickle.py --dataset /workspace/gpt2_0801/to_gpt2/recipe1M_1218/chunk.train --model_name '345M' --val_dataset /workspace/gpt2_0801/to_gpt2/recipe1M_1218/chunk.val --val_every 3000 --sample_every 3000 --max_length 512 --batch_size 4 --val_batch_size 4 --val_batch_count 1000 --run_name medium4 --learning_rate 5e-5"
   ]
  },
  {
   "cell_type": "markdown",
   "metadata": {},
   "source": []
  },
  {
   "cell_type": "markdown",
   "metadata": {},
   "source": [
    "CUDA_VISIBLE_DEVICES=\"0\" python train_ppl_scratch.py --dataset /workspace/gpt2_0801/to_gpt2/recipe1M_1218/chunk.train --model_name '117M' --val_dataset /workspace/gpt2_0801/to_gpt2/recipe1M_1218/chunk.val --val_every 3000 --sample_every 3000 --max_length 512 --batch_size 8 --val_batch_size 8 --val_batch_count 500 --run_name scratch --learning_rate 1e-4"
   ]
  },
  {
   "cell_type": "markdown",
   "metadata": {},
   "source": [
    "CUDA_VISIBLE_DEVICES=\"1\" python train_ppl_scratch.py --dataset /workspace/gpt2_0801/to_gpt2/recipe1M_1218/chunk.train --model_name '117M' --val_dataset /workspace/gpt2_0801/to_gpt2/recipe1M_1218/chunk.val --val_every 3000 --sample_every 3000 --max_length 512 --batch_size 8 --val_batch_size 8 --val_batch_count 500 --run_name scratch4 --learning_rate 5e-4"
   ]
  },
  {
   "cell_type": "markdown",
   "metadata": {},
   "source": [
    "CUDA_VISIBLE_DEVICES=\"1\" python train_ppl_scratch.py --dataset /workspace/gpt2_0801/to_gpt2/recipe1M_1218/chunk.train --model_name '117M' --val_dataset /workspace/gpt2_0801/to_gpt2/recipe1M_1218/chunk.val --val_every 3000 --sample_every 3000 --max_length 512 --batch_size 8 --val_batch_size 8 --val_batch_count 500 --run_name scratch5 --learning_rate 5e-5"
   ]
  }
 ],
 "metadata": {
  "kernelspec": {
   "display_name": "Python 3",
   "language": "python",
   "name": "python3"
  },
  "language_info": {
   "codemirror_mode": {
    "name": "ipython",
    "version": 3
   },
   "file_extension": ".py",
   "mimetype": "text/x-python",
   "name": "python",
   "nbconvert_exporter": "python",
   "pygments_lexer": "ipython3",
   "version": "3.6.6"
  }
 },
 "nbformat": 4,
 "nbformat_minor": 4
}
