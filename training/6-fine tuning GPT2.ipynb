{
 "cells": [
  {
   "cell_type": "markdown",
   "metadata": {},
   "source": [
    "### Create this notebook to train/fine-tune gpt-2"
   ]
  },
  {
   "cell_type": "markdown",
   "metadata": {},
   "source": [
    "My gpt-2 is forked from https://github.com/nshepperd/gpt-2"
   ]
  },
  {
   "cell_type": "markdown",
   "metadata": {},
   "source": [
    "make sure you are inside the gpt-2/"
   ]
  },
  {
   "cell_type": "code",
   "execution_count": null,
   "metadata": {},
   "outputs": [],
   "source": [
    "cd gpt-2"
   ]
  },
  {
   "cell_type": "markdown",
   "metadata": {},
   "source": [
    "Rewrite src/path.py, so it will the find to the model we want to use"
   ]
  },
  {
   "cell_type": "code",
   "execution_count": 2,
   "metadata": {},
   "outputs": [],
   "source": [
    "import os\n",
    "from src.save import save\n",
    "to_write = \"path = '%s/'\"%(os.getcwd())+'\\n'+\"path_to_model = path + 'models/'\"\n",
    "save('src/path.py', to_write, overwrite = True)"
   ]
  },
  {
   "cell_type": "code",
   "execution_count": 3,
   "metadata": {},
   "outputs": [
    {
     "name": "stdout",
     "output_type": "stream",
     "text": [
      "Fetching checkpoint: 1.00kit [00:00, 930kit/s]                                                      \n",
      "Fetching encoder.json: 1.04Mit [00:00, 27.4Mit/s]                                                   \n",
      "Fetching hparams.json: 1.00kit [00:00, 712kit/s]                                                    \n",
      "Fetching model.ckpt.data-00000-of-00001: 498Mit [00:19, 26.0Mit/s]                                  \n",
      "Fetching model.ckpt.index: 6.00kit [00:00, 3.26Mit/s]                                               \n",
      "Fetching model.ckpt.meta: 472kit [00:00, 38.5Mit/s]                                                 \n",
      "Fetching vocab.bpe: 457kit [00:00, 32.7Mit/s]                                                       \n"
     ]
    }
   ],
   "source": [
    "!python download_model.py 117M"
   ]
  },
  {
   "cell_type": "markdown",
   "metadata": {},
   "source": [
    "Train the model with the following command... <br>\n",
    "For example, fine-tuning the 117M GPT-2 model... <br>"
   ]
  },
  {
   "cell_type": "markdown",
   "metadata": {},
   "source": [
    "Example for running with CPU"
   ]
  },
  {
   "cell_type": "code",
   "execution_count": null,
   "metadata": {},
   "outputs": [],
   "source": [
    "!pip install tensorflow==1.12"
   ]
  },
  {
   "cell_type": "code",
   "execution_count": null,
   "metadata": {},
   "outputs": [
    {
     "name": "stdout",
     "output_type": "stream",
     "text": [
      "/home/helena/anaconda3/envs/myenv/lib/python3.6/site-packages/tensorflow/python/framework/dtypes.py:523: FutureWarning: Passing (type, 1) or '1type' as a synonym of type is deprecated; in a future version of numpy, it will be understood as (type, (1,)) / '(1,)type'.\n",
      "  _np_qint8 = np.dtype([(\"qint8\", np.int8, 1)])\n",
      "/home/helena/anaconda3/envs/myenv/lib/python3.6/site-packages/tensorflow/python/framework/dtypes.py:524: FutureWarning: Passing (type, 1) or '1type' as a synonym of type is deprecated; in a future version of numpy, it will be understood as (type, (1,)) / '(1,)type'.\n",
      "  _np_quint8 = np.dtype([(\"quint8\", np.uint8, 1)])\n",
      "/home/helena/anaconda3/envs/myenv/lib/python3.6/site-packages/tensorflow/python/framework/dtypes.py:525: FutureWarning: Passing (type, 1) or '1type' as a synonym of type is deprecated; in a future version of numpy, it will be understood as (type, (1,)) / '(1,)type'.\n",
      "  _np_qint16 = np.dtype([(\"qint16\", np.int16, 1)])\n",
      "/home/helena/anaconda3/envs/myenv/lib/python3.6/site-packages/tensorflow/python/framework/dtypes.py:526: FutureWarning: Passing (type, 1) or '1type' as a synonym of type is deprecated; in a future version of numpy, it will be understood as (type, (1,)) / '(1,)type'.\n",
      "  _np_quint16 = np.dtype([(\"quint16\", np.uint16, 1)])\n",
      "/home/helena/anaconda3/envs/myenv/lib/python3.6/site-packages/tensorflow/python/framework/dtypes.py:527: FutureWarning: Passing (type, 1) or '1type' as a synonym of type is deprecated; in a future version of numpy, it will be understood as (type, (1,)) / '(1,)type'.\n",
      "  _np_qint32 = np.dtype([(\"qint32\", np.int32, 1)])\n",
      "/home/helena/anaconda3/envs/myenv/lib/python3.6/site-packages/tensorflow/python/framework/dtypes.py:532: FutureWarning: Passing (type, 1) or '1type' as a synonym of type is deprecated; in a future version of numpy, it will be understood as (type, (1,)) / '(1,)type'.\n",
      "  np_resource = np.dtype([(\"resource\", np.ubyte, 1)])\n",
      "Loading checkpoint models/117M/model.ckpt\n",
      "Loading dataset...\n",
      "896401\n",
      "417\n",
      "Training...\n",
      "Calculating validation loss...\n",
      " 17%|███████▎                                  | 87/500 [09:52<47:54,  6.96s/it]"
     ]
    }
   ],
   "source": [
    "!python train_ppl_pickle.py --dataset ../../../to_gpt2/recipe1M_1218/chunk.train --model_name '117M' --val_dataset ../../../to_gpt2/recipe1M_1218/chunk.val --val_every 3000 --sample_every 3000 --max_length 512 --batch_size 8 --val_batch_size 8 --val_batch_count 500 --run_name deployed --learning_rate 1e-4"
   ]
  },
  {
   "cell_type": "markdown",
   "metadata": {},
   "source": [
    "Example for running with GPU, you may need to change the file directory"
   ]
  },
  {
   "cell_type": "raw",
   "metadata": {},
   "source": [
    "CUDA_VISIBLE_DEVICES=\"2\" python train_ppl_pickle.py --dataset /workspace/gpt2_0801/to_gpt2/recipe1M_1218/chunk.train --model_name '117M' --val_dataset /workspace/gpt2_0801/to_gpt2/recipe1M_1218/chunk.val --val_every 3000 --sample_every 3000 --max_length 512 --batch_size 8 --val_batch_size 8 --val_batch_count 500 --run_name 1220 --learning_rate 1e-4"
   ]
  }
 ],
 "metadata": {
  "kernelspec": {
   "display_name": "Python 3",
   "language": "python",
   "name": "python3"
  },
  "language_info": {
   "codemirror_mode": {
    "name": "ipython",
    "version": 3
   },
   "file_extension": ".py",
   "mimetype": "text/x-python",
   "name": "python",
   "nbconvert_exporter": "python",
   "pygments_lexer": "ipython3",
   "version": "3.6.10"
  }
 },
 "nbformat": 4,
 "nbformat_minor": 4
}
