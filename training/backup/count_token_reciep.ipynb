{
 "cells": [
  {
   "cell_type": "code",
   "execution_count": 1,
   "metadata": {},
   "outputs": [
    {
     "name": "stdout",
     "output_type": "stream",
     "text": [
      "/workspace/gpt2_0801/gpt-2\n"
     ]
    }
   ],
   "source": [
    "cd gpt-2"
   ]
  },
  {
   "cell_type": "code",
   "execution_count": 2,
   "metadata": {},
   "outputs": [],
   "source": [
    "import importlib\n",
    "import os\n",
    "import tqdm\n",
    "import pandas as pd\n",
    "\n",
    "os.environ['CUDA_VISIBLE_DEVICES'] ='2'\n",
    "save = importlib.import_module(\"src.save\")\n",
    "encoder = importlib.import_module(\"src.encoder\")\n",
    "enc = encoder.get_encoder('117M')"
   ]
  },
  {
   "cell_type": "code",
   "execution_count": 3,
   "metadata": {},
   "outputs": [
    {
     "data": {
      "text/plain": [
       "[27, 91, 437, 1659, 5239, 91, 29]"
      ]
     },
     "execution_count": 3,
     "metadata": {},
     "output_type": "execute_result"
    }
   ],
   "source": [
    "enc.encode('<|endoftext|>')"
   ]
  },
  {
   "cell_type": "code",
   "execution_count": 4,
   "metadata": {},
   "outputs": [
    {
     "name": "stderr",
     "output_type": "stream",
     "text": [
      "100%|██████████| 32445/32445 [05:22<00:00, 100.60it/s]\n"
     ]
    },
    {
     "name": "stdout",
     "output_type": "stream",
     "text": [
      "max 1183 min 70\n"
     ]
    },
    {
     "data": {
      "text/plain": [
       "<matplotlib.axes._subplots.AxesSubplot at 0x7fd6bc05b128>"
      ]
     },
     "metadata": {},
     "output_type": "display_data"
    }
   ],
   "source": [
    "filename = '../to_gpt2/recipe54k_0916/train/'\n",
    "def length_token(filename):\n",
    "    length = []\n",
    "    if os.path.isdir(filename):\n",
    "        # Directory\n",
    "        for (dirpath, _, fnames) in os.walk(filename):\n",
    "            for fname in tqdm.tqdm(fnames):\n",
    "                path = os.path.join(dirpath, fname)\n",
    "                with open(path, 'r') as fp:\n",
    "                    raw_text = fp.read()\n",
    "                    length.append(len(enc.encode(raw_text+'<|endoftext|>')))\n",
    "    distr_length = pd.Series(length)\n",
    "    print('max',distr_length.max(),'min', distr_length.min())\n",
    "    display(distr_length.hist())\n",
    "    return length\n",
    "length = length_token(filename)"
   ]
  },
  {
   "cell_type": "code",
   "execution_count": 5,
   "metadata": {},
   "outputs": [
    {
     "name": "stdout",
     "output_type": "stream",
     "text": [
      "max 1183 min 70\n"
     ]
    },
    {
     "data": {
      "text/plain": [
       "<matplotlib.axes._subplots.AxesSubplot at 0x7fd6bcc778d0>"
      ]
     },
     "metadata": {},
     "output_type": "display_data"
    },
    {
     "data": {
      "image/png": "[encoded data removed]",
      "text/plain": [
       "<Figure size 432x288 with 1 Axes>"
      ]
     },
     "metadata": {
      "needs_background": "light"
     },
     "output_type": "display_data"
    }
   ],
   "source": [
    "distr_length = pd.Series(length)\n",
    "print('max',distr_length.max(),'min', distr_length.min())\n",
    "display(distr_length.hist())"
   ]
  },
  {
   "cell_type": "code",
   "execution_count": 8,
   "metadata": {},
   "outputs": [
    {
     "data": {
      "text/plain": [
       "(244.41263676991832, 229.0, 91.25290787153368)"
      ]
     },
     "execution_count": 8,
     "metadata": {},
     "output_type": "execute_result"
    }
   ],
   "source": [
    "distr_length.mean(), distr_length.median(),distr_length.std()"
   ]
  },
  {
   "cell_type": "code",
   "execution_count": 7,
   "metadata": {},
   "outputs": [
    {
     "data": {
      "text/plain": [
       "0.9863153028201572"
      ]
     },
     "execution_count": 7,
     "metadata": {},
     "output_type": "execute_result"
    }
   ],
   "source": [
    "1 - sum(distr_length>512)/ len(distr_length)"
   ]
  },
  {
   "cell_type": "markdown",
   "metadata": {},
   "source": [
    "### writing the multi-field & ingredient shuffle function"
   ]
  },
  {
   "cell_type": "code",
   "execution_count": 19,
   "metadata": {},
   "outputs": [],
   "source": [
    "import random\n",
    "\n",
    "file = ' <start-title>easy, crunchy hot dogs <end-title> <start-ingredients>1/2 cup ketchup$1/4 cup prepared yellow mustard$1 cup cornflake crumbs$1 package all beef hot dogs$ <end-ingredients> <start-directions>preheat oven to 350 degrees f . line a baking sheet with a sheet of aluminum foil. stir together ketchup and mustard on a plate until mixed. place the cornflake crumbs in a shallow bowl. roll each hot dog in the ketchup mixture, then roll in the cornflake crumbs to coat. place onto prepared baking sheet. bake in preheated oven until the hot dogs are hot on the inside, and crispy on the outside, 15 to 20 minutes. <end-directions>'"
   ]
  },
  {
   "cell_type": "code",
   "execution_count": 99,
   "metadata": {},
   "outputs": [],
   "source": [
    "targets = {tag: enc.encode(tag) for tag in [' <start-title>',' <start-ingredients>',' <start-directions>']}\n",
    "end_tag = enc.encode(' <end-ingredients>')\n",
    "\n",
    "def shuffle_ingredients(encoded_file):\n",
    "    start, end, output = len(targets[' <start-ingredients>'])+1, 0, []\n",
    "    for idx, token in enumerate(encoded_file):\n",
    "        if idx >= start and encoded_file[idx] in [3]:\n",
    "            end = idx+1\n",
    "            output.append(encoded_file[start:end])\n",
    "            start = idx+1\n",
    "    random.shuffle(output)\n",
    "    return  targets[' <start-ingredients>'] +sum(output, []) + end_tag\n",
    "\n",
    "def shuffle(file):\n",
    "    ''' main version\n",
    "    Args: file: a string; e.g. ' <start-title>easy, crunchy hot dogs <end-title> <start-ingredients>1/2\n",
    "    '''\n",
    "    idx_targets = {}\n",
    "    encoded_file = enc.encode(file)\n",
    "    # read list\n",
    "    start, end, output = 0, 0, []\n",
    "    for idx, token in enumerate(encoded_file):\n",
    "        if encoded_file[idx: idx+2] ==[1279, 9688]:\n",
    "            end = idx\n",
    "            field = encoded_file[start:end]\n",
    "            if start != 0:\n",
    "                field = shuffle_ingredients(field)\n",
    "            output.append(field)\n",
    "            start = idx\n",
    "    output.append(encoded_file[start:])\n",
    "    random.shuffle(output)\n",
    "    return sum(output, [])"
   ]
  },
  {
   "cell_type": "code",
   "execution_count": 102,
   "metadata": {},
   "outputs": [
    {
     "data": {
      "text/plain": [
       "' <start-directions>preheat oven to 350 degrees f . line a baking sheet with a sheet of aluminum foil. stir together ketchup and mustard on a plate until mixed. place the cornflake crumbs in a shallow bowl. roll each hot dog in the ketchup mixture, then roll in the cornflake crumbs to coat. place onto prepared baking sheet. bake in preheated oven until the hot dogs are hot on the inside, and crispy on the outside, 15 to 20 minutes. <end-directions> <start-title>easy, crunchy hot dogs <end-title> <start-ingredients>1 cup cornflake crumbs$1/4 cup prepared yellow mustard$/2 cup ketchup$1 package all beef hot dogs$ <end-ingredients>'"
      ]
     },
     "execution_count": 102,
     "metadata": {},
     "output_type": "execute_result"
    }
   ],
   "source": [
    "enc.decode(shuffle(file))"
   ]
  },
  {
   "cell_type": "code",
   "execution_count": 10,
   "metadata": {},
   "outputs": [],
   "source": [
    "import importlib\n",
    "import os\n",
    "import tqdm\n",
    "import pandas as pd\n",
    "import numpy as np\n",
    "\n",
    "save = importlib.import_module(\"src.save\")"
   ]
  },
  {
   "cell_type": "code",
   "execution_count": 6,
   "metadata": {},
   "outputs": [],
   "source": [
    "X = save.load_pickle('/workspace/gpt2_0801/to_gpt2/recipe54k_1010s/chunk.train')"
   ]
  },
  {
   "cell_type": "code",
   "execution_count": 14,
   "metadata": {},
   "outputs": [],
   "source": [
    "distr_length = pd.Series([len(recipe) for recipe in X])"
   ]
  },
  {
   "cell_type": "code",
   "execution_count": 16,
   "metadata": {},
   "outputs": [
    {
     "name": "stdout",
     "output_type": "stream",
     "text": [
      "max 2090 min 47\n"
     ]
    },
    {
     "data": {
      "text/plain": [
       "<matplotlib.axes._subplots.AxesSubplot at 0x7f46cd8e7400>"
      ]
     },
     "metadata": {},
     "output_type": "display_data"
    },
    {
     "data": {
      "image/png": "[encoded data removed]",
      "text/plain": [
       "<Figure size 432x288 with 1 Axes>"
      ]
     },
     "metadata": {
      "needs_background": "light"
     },
     "output_type": "display_data"
    }
   ],
   "source": [
    "print('max',distr_length.max(),'min', distr_length.min())\n",
    "display(distr_length.hist())"
   ]
  },
  {
   "cell_type": "code",
   "execution_count": 17,
   "metadata": {},
   "outputs": [
    {
     "data": {
      "text/plain": [
       "0.9545370370370371"
      ]
     },
     "execution_count": 17,
     "metadata": {},
     "output_type": "execute_result"
    }
   ],
   "source": [
    "1 - sum(distr_length>512)/ len(distr_length)"
   ]
  },
  {
   "cell_type": "code",
   "execution_count": 20,
   "metadata": {},
   "outputs": [
    {
     "data": {
      "text/plain": [
       "(255.29441358024692, 226.0, 130.92601154961085)"
      ]
     },
     "execution_count": 20,
     "metadata": {},
     "output_type": "execute_result"
    }
   ],
   "source": [
    "distr_length.mean(), distr_length.median(), distr_length.std()"
   ]
  }
 ],
 "metadata": {
  "kernelspec": {
   "display_name": "Python 3",
   "language": "python",
   "name": "python3"
  },
  "language_info": {
   "codemirror_mode": {
    "name": "ipython",
    "version": 3
   },
   "file_extension": ".py",
   "mimetype": "text/x-python",
   "name": "python",
   "nbconvert_exporter": "python",
   "pygments_lexer": "ipython3",
   "version": "3.5.2"
  }
 },
 "nbformat": 4,
 "nbformat_minor": 4
}
