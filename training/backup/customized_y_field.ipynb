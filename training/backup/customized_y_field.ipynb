{
 "cells": [
  {
   "cell_type": "markdown",
   "metadata": {},
   "source": [
    "### separted into four fields to compare the bleu"
   ]
  },
  {
   "cell_type": "code",
   "execution_count": 2,
   "metadata": {},
   "outputs": [],
   "source": [
    "import os\n",
    "\n",
    "def save(filename, to_write, overwrite = False):\n",
    "    make_dir(filename)\n",
    "    if os.path.isfile(filename) == True and overwrite == False:\n",
    "        print('already exists'+filename)\n",
    "    else:    \n",
    "        with open(filename,'w') as f:\n",
    "            f.write('%s' % to_write)\n",
    "        print('saved '+filename)\n",
    "        \n",
    "def make_dir(filename):\n",
    "    dir_path = os.path.dirname(filename)\n",
    "    if not os.path.exists(dir_path):\n",
    "        os.makedirs(dir_path)\n",
    "        print('make dir')\n",
    "        \n",
    "def customized_y_field(nrecipes = 4000,\n",
    "                      filename = '',\n",
    "                      overwrite = False,\n",
    "                      field=4):\n",
    "    # init\n",
    "    to_write = {k: '' for k in range(4)}\n",
    "    \n",
    "    with open(filename, 'r') as f:\n",
    "        for j, raw_text in enumerate(f):\n",
    "            if j < nrecipes or nrecipes == -1:\n",
    "                text = raw_text\n",
    "            else:\n",
    "                break\n",
    "            to_write[j%field] += text\n",
    "    for key, values in to_write.items():\n",
    "        save(filename.replace('.txt','_%d_%d.txt' %(nrecipes, key)), values, overwrite)"
   ]
  },
  {
   "cell_type": "code",
   "execution_count": 30,
   "metadata": {},
   "outputs": [
    {
     "name": "stdout",
     "output_type": "stream",
     "text": [
      "saved /workspace/gpt2_0801/to_gpt2/6600epoch/recipe54k_0724.y_test2_4000_0.txt\n",
      "saved /workspace/gpt2_0801/to_gpt2/6600epoch/recipe54k_0724.y_test2_4000_1.txt\n",
      "saved /workspace/gpt2_0801/to_gpt2/6600epoch/recipe54k_0724.y_test2_4000_2.txt\n",
      "saved /workspace/gpt2_0801/to_gpt2/6600epoch/recipe54k_0724.y_test2_4000_3.txt\n"
     ]
    }
   ],
   "source": [
    "customized_y_field(nrecipes=4000,\n",
    "                  filename='/workspace/gpt2_0801/to_gpt2/6600epoch/recipe54k_0724.y_test2.txt',\n",
    "                  overwrite = True,\n",
    "                  field=4)"
   ]
  },
  {
   "cell_type": "code",
   "execution_count": 31,
   "metadata": {},
   "outputs": [
    {
     "name": "stdout",
     "output_type": "stream",
     "text": [
      "saved /workspace/gpt2_0801/to_gpt2/6600epoch/recipe54k_0724.y_pred_4000_0.txt\n",
      "saved /workspace/gpt2_0801/to_gpt2/6600epoch/recipe54k_0724.y_pred_4000_1.txt\n",
      "saved /workspace/gpt2_0801/to_gpt2/6600epoch/recipe54k_0724.y_pred_4000_2.txt\n",
      "saved /workspace/gpt2_0801/to_gpt2/6600epoch/recipe54k_0724.y_pred_4000_3.txt\n"
     ]
    }
   ],
   "source": [
    "customized_y_field(nrecipes=4000,\n",
    "                  filename='/workspace/gpt2_0801/to_gpt2/6600epoch/recipe54k_0724.y_pred.txt',\n",
    "                  overwrite = True,\n",
    "                  field=4)"
   ]
  },
  {
   "cell_type": "code",
   "execution_count": 33,
   "metadata": {},
   "outputs": [
    {
     "name": "stdout",
     "output_type": "stream",
     "text": [
      "BLEU = 3.27, 18.7/5.5/1.6/0.7 (BP=1.000, ratio=3.007, hyp_len=195326, ref_len=64950)\n",
      "It is not advisable to publish scores from multi-bleu.perl.  The scores depend on your tokenizer, which is unlikely to be reproducible from your paper or consistent across research groups.  Instead you should detokenize then use mteval-v14.pl, which has a standard tokenization.  Scores from multi-bleu.perl can still be used for internal purposes when you have a consistent tokenizer.\n"
     ]
    }
   ],
   "source": [
    "!perl gpt-2/eval/multi-bleu.perl /workspace/gpt2_0801/to_gpt2/6600epoch/recipe54k_0724.y_test2_4000_0.txt < /workspace/gpt2_0801/to_gpt2/6600epoch/recipe54k_0724.y_pred_4000_0.txt"
   ]
  },
  {
   "cell_type": "code",
   "execution_count": 34,
   "metadata": {},
   "outputs": [
    {
     "name": "stdout",
     "output_type": "stream",
     "text": [
      "BLEU = 2.22, 9.5/4.0/1.4/0.5 (BP=1.000, ratio=6.658, hyp_len=202230, ref_len=30372)\n",
      "It is not advisable to publish scores from multi-bleu.perl.  The scores depend on your tokenizer, which is unlikely to be reproducible from your paper or consistent across research groups.  Instead you should detokenize then use mteval-v14.pl, which has a standard tokenization.  Scores from multi-bleu.perl can still be used for internal purposes when you have a consistent tokenizer.\n"
     ]
    }
   ],
   "source": [
    "!perl gpt-2/eval/multi-bleu.perl /workspace/gpt2_0801/to_gpt2/6600epoch/recipe54k_0724.y_test2_4000_1.txt < /workspace/gpt2_0801/to_gpt2/6600epoch/recipe54k_0724.y_pred_4000_1.txt"
   ]
  },
  {
   "cell_type": "code",
   "execution_count": 35,
   "metadata": {},
   "outputs": [
    {
     "name": "stdout",
     "output_type": "stream",
     "text": [
      "BLEU = 0.38, 4.4/0.8/0.1/0.0 (BP=1.000, ratio=11.563, hyp_len=196984, ref_len=17035)\n",
      "It is not advisable to publish scores from multi-bleu.perl.  The scores depend on your tokenizer, which is unlikely to be reproducible from your paper or consistent across research groups.  Instead you should detokenize then use mteval-v14.pl, which has a standard tokenization.  Scores from multi-bleu.perl can still be used for internal purposes when you have a consistent tokenizer.\n"
     ]
    }
   ],
   "source": [
    "!perl gpt-2/eval/multi-bleu.perl /workspace/gpt2_0801/to_gpt2/6600epoch/recipe54k_0724.y_test2_4000_2.txt < /workspace/gpt2_0801/to_gpt2/6600epoch/recipe54k_0724.y_pred_4000_2.txt"
   ]
  },
  {
   "cell_type": "code",
   "execution_count": 36,
   "metadata": {},
   "outputs": [
    {
     "name": "stdout",
     "output_type": "stream",
     "text": [
      "Use of uninitialized value in division (/) at gpt-2/eval/multi-bleu.perl line 139, <STDIN> line 500.\n",
      "BLEU = 0.00, 0.4/0.0/0.0/0.0 (BP=1.000, ratio=79.586, hyp_len=203660, ref_len=2559)\n",
      "It is not advisable to publish scores from multi-bleu.perl.  The scores depend on your tokenizer, which is unlikely to be reproducible from your paper or consistent across research groups.  Instead you should detokenize then use mteval-v14.pl, which has a standard tokenization.  Scores from multi-bleu.perl can still be used for internal purposes when you have a consistent tokenizer.\n"
     ]
    }
   ],
   "source": [
    "!perl gpt-2/eval/multi-bleu.perl /workspace/gpt2_0801/to_gpt2/6600epoch/recipe54k_0724.y_test2_4000_3.txt < /workspace/gpt2_0801/to_gpt2/6600epoch/recipe54k_0724.y_pred_4000_3.txt"
   ]
  },
  {
   "cell_type": "code",
   "execution_count": 45,
   "metadata": {},
   "outputs": [
    {
     "data": {
      "text/plain": [
       "<function tensorflow.contrib.framework.python.ops.sort_ops.sort(values, axis=-1, direction='ASCENDING', name=None)>"
      ]
     },
     "execution_count": 45,
     "metadata": {},
     "output_type": "execute_result"
    }
   ],
   "source": [
    "tf.contrib.framework.sort"
   ]
  },
  {
   "cell_type": "markdown",
   "metadata": {},
   "source": [
    "### epoch 15350-2"
   ]
  },
  {
   "cell_type": "code",
   "execution_count": null,
   "metadata": {},
   "outputs": [],
   "source": [
    "customized_y_field(nrecipes=4000,\n",
    "                  filename='/workspace/gpt2_0801/to_gpt2/15350epoch2/recipe54k_0724.y_test2.txt',\n",
    "                  overwrite = True,\n",
    "                  field=4)"
   ]
  },
  {
   "cell_type": "code",
   "execution_count": 4,
   "metadata": {},
   "outputs": [
    {
     "name": "stdout",
     "output_type": "stream",
     "text": [
      "saved /workspace/gpt2_0801/to_gpt2/15350epoch2/recipe54k_0724.y_pred_4000_0.txt\n",
      "saved /workspace/gpt2_0801/to_gpt2/15350epoch2/recipe54k_0724.y_pred_4000_1.txt\n",
      "saved /workspace/gpt2_0801/to_gpt2/15350epoch2/recipe54k_0724.y_pred_4000_2.txt\n",
      "saved /workspace/gpt2_0801/to_gpt2/15350epoch2/recipe54k_0724.y_pred_4000_3.txt\n"
     ]
    }
   ],
   "source": [
    "customized_y_field(nrecipes=4000,\n",
    "                  filename='/workspace/gpt2_0801/to_gpt2/15350epoch2/recipe54k_0724.y_pred.txt',\n",
    "                  overwrite = True,\n",
    "                  field=4)"
   ]
  },
  {
   "cell_type": "code",
   "execution_count": 5,
   "metadata": {},
   "outputs": [
    {
     "name": "stdout",
     "output_type": "stream",
     "text": [
      "BLEU = 8.27, 42.0/13.9/5.3/2.7 (BP=0.864, ratio=0.873, hyp_len=56688, ref_len=64950)\n",
      "It is not advisable to publish scores from multi-bleu.perl.  The scores depend on your tokenizer, which is unlikely to be reproducible from your paper or consistent across research groups.  Instead you should detokenize then use mteval-v14.pl, which has a standard tokenization.  Scores from multi-bleu.perl can still be used for internal purposes when you have a consistent tokenizer.\n"
     ]
    }
   ],
   "source": [
    "!perl gpt-2/eval/multi-bleu.perl /workspace/gpt2_0801/to_gpt2/15350epoch2/recipe54k_0724.y_test2_4000_0.txt < /workspace/gpt2_0801/to_gpt2/15350epoch2/recipe54k_0724.y_pred_4000_0.txt"
   ]
  },
  {
   "cell_type": "code",
   "execution_count": 6,
   "metadata": {},
   "outputs": [
    {
     "name": "stdout",
     "output_type": "stream",
     "text": [
      "BLEU = 14.83, 37.0/21.2/11.3/5.5 (BP=1.000, ratio=1.429, hyp_len=43400, ref_len=30372)\n",
      "It is not advisable to publish scores from multi-bleu.perl.  The scores depend on your tokenizer, which is unlikely to be reproducible from your paper or consistent across research groups.  Instead you should detokenize then use mteval-v14.pl, which has a standard tokenization.  Scores from multi-bleu.perl can still be used for internal purposes when you have a consistent tokenizer.\n"
     ]
    }
   ],
   "source": [
    "!perl gpt-2/eval/multi-bleu.perl /workspace/gpt2_0801/to_gpt2/15350epoch2/recipe54k_0724.y_test2_4000_1.txt < /workspace/gpt2_0801/to_gpt2/15350epoch2/recipe54k_0724.y_pred_4000_1.txt"
   ]
  },
  {
   "cell_type": "code",
   "execution_count": 8,
   "metadata": {},
   "outputs": [
    {
     "name": "stdout",
     "output_type": "stream",
     "text": [
      "BLEU = 0.83, 18.8/1.9/0.3/0.1 (BP=1.000, ratio=1.213, hyp_len=20665, ref_len=17035)\n",
      "It is not advisable to publish scores from multi-bleu.perl.  The scores depend on your tokenizer, which is unlikely to be reproducible from your paper or consistent across research groups.  Instead you should detokenize then use mteval-v14.pl, which has a standard tokenization.  Scores from multi-bleu.perl can still be used for internal purposes when you have a consistent tokenizer.\n"
     ]
    }
   ],
   "source": [
    "!perl gpt-2/eval/multi-bleu.perl /workspace/gpt2_0801/to_gpt2/15350epoch2/recipe54k_0724.y_test2_4000_2.txt < /workspace/gpt2_0801/to_gpt2/15350epoch2/recipe54k_0724.y_pred_4000_2.txt"
   ]
  },
  {
   "cell_type": "code",
   "execution_count": 9,
   "metadata": {},
   "outputs": [
    {
     "name": "stdout",
     "output_type": "stream",
     "text": [
      "Use of uninitialized value in division (/) at gpt-2/eval/multi-bleu.perl line 139, <STDIN> line 500.\n",
      "BLEU = 0.00, 19.9/4.6/0.7/0.0 (BP=0.805, ratio=0.822, hyp_len=2103, ref_len=2559)\n",
      "It is not advisable to publish scores from multi-bleu.perl.  The scores depend on your tokenizer, which is unlikely to be reproducible from your paper or consistent across research groups.  Instead you should detokenize then use mteval-v14.pl, which has a standard tokenization.  Scores from multi-bleu.perl can still be used for internal purposes when you have a consistent tokenizer.\n"
     ]
    }
   ],
   "source": [
    "!perl gpt-2/eval/multi-bleu.perl /workspace/gpt2_0801/to_gpt2/15350epoch2/recipe54k_0724.y_test2_4000_3.txt < /workspace/gpt2_0801/to_gpt2/15350epoch2/recipe54k_0724.y_pred_4000_3.txt"
   ]
  },
  {
   "cell_type": "code",
   "execution_count": 28,
   "metadata": {},
   "outputs": [],
   "source": [
    "filename = '/workspace/gpt2_0801/to_gpt2/recipe54k_0802.train.txt'\n",
    "\n",
    "length = []\n",
    "with open(filename, 'r') as f:\n",
    "    for j, raw_text in enumerate(f):\n",
    "        length.append(len(raw_text.split(' ')))"
   ]
  },
  {
   "cell_type": "code",
   "execution_count": 29,
   "metadata": {},
   "outputs": [
    {
     "data": {
      "text/plain": [
       "<matplotlib.axes._subplots.AxesSubplot at 0x7fc27c6eada0>"
      ]
     },
     "execution_count": 29,
     "metadata": {},
     "output_type": "execute_result"
    },
    {
     "data": {
      "image/png": "[encoded data removed]",
      "text/plain": [
       "<Figure size 432x288 with 1 Axes>"
      ]
     },
     "metadata": {
      "needs_background": "light"
     },
     "output_type": "display_data"
    }
   ],
   "source": [
    "import pandas as pd\n",
    "pd.Series(length).hist()"
   ]
  },
  {
   "cell_type": "code",
   "execution_count": 27,
   "metadata": {},
   "outputs": [
    {
     "data": {
      "text/plain": [
       "1076"
      ]
     },
     "execution_count": 27,
     "metadata": {},
     "output_type": "execute_result"
    }
   ],
   "source": [
    "pd.Series(length).max()"
   ]
  },
  {
   "cell_type": "code",
   "execution_count": null,
   "metadata": {},
   "outputs": [],
   "source": []
  }
 ],
 "metadata": {
  "kernelspec": {
   "display_name": "Python 3",
   "language": "python",
   "name": "python3"
  },
  "language_info": {
   "codemirror_mode": {
    "name": "ipython",
    "version": 3
   },
   "file_extension": ".py",
   "mimetype": "text/x-python",
   "name": "python",
   "nbconvert_exporter": "python",
   "pygments_lexer": "ipython3",
   "version": "3.5.2"
  }
 },
 "nbformat": 4,
 "nbformat_minor": 4
}
