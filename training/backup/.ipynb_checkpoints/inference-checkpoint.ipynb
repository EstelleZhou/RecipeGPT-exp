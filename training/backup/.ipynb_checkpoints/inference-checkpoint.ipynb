{
 "cells": [
  {
   "cell_type": "markdown",
   "metadata": {},
   "source": [
    "### Evaluation"
   ]
  },
  {
   "cell_type": "markdown",
   "metadata": {},
   "source": [
    "first, move the checkpoints to 117M_inference folder"
   ]
  },
  {
   "cell_type": "code",
   "execution_count": 25,
   "metadata": {},
   "outputs": [],
   "source": [
    "# for the bpe encoding files\n",
    "!cp -r /workspace/gpt2_0801/gpt-2/models/117M_default/ /workspace/gpt2_0801/gpt-2/models/delex_1e-6/"
   ]
  },
  {
   "cell_type": "code",
   "execution_count": 2,
   "metadata": {},
   "outputs": [],
   "source": [
    "# for the checkpoint\n",
    "!cp -r /workspace/gpt2_0801/gpt-2/checkpoint/2e-5/model-28500* /workspace/gpt2_0801/gpt-2/models/2e-5_0923/\n",
    "!cp -r /workspace/gpt2_0801/gpt-2/checkpoint/2e-5/chec* /workspace/gpt2_0801/gpt-2/models/2e-5_0923/"
   ]
  },
  {
   "cell_type": "code",
   "execution_count": 26,
   "metadata": {},
   "outputs": [],
   "source": [
    "# for the checkpoint\n",
    "!cp -r /workspace/gpt2_0801/gpt-2/checkpoint/delex_1e-6/model-3000* /workspace/gpt2_0801/gpt-2/models/delex_1e-6/\n",
    "!cp -r /workspace/gpt2_0801/gpt-2/checkpoint/delex_1e-6/chec* /workspace/gpt2_0801/gpt-2/models/delex_1e-6/"
   ]
  },
  {
   "cell_type": "code",
   "execution_count": null,
   "metadata": {},
   "outputs": [],
   "source": []
  },
  {
   "cell_type": "code",
   "execution_count": 5,
   "metadata": {},
   "outputs": [],
   "source": [
    "# for the checkpoint\n",
    "!cp -r /workspace/gpt2_0801/gpt-2/checkpoint/verb5/model-358500* /workspace/gpt2_0801/gpt-2/models/verb5_0919/\n",
    "!cp -r /workspace/gpt2_0801/gpt-2/checkpoint/verb5/chec* /workspace/gpt2_0801/gpt-2/models/verb5_0919/"
   ]
  },
  {
   "cell_type": "code",
   "execution_count": 1,
   "metadata": {},
   "outputs": [],
   "source": [
    "!cp -r /workspace/gpt2_0801/gpt-2/checkpoint/run1/model-1221000* /workspace/gpt2_0801/gpt-2/models/1e-6/\n",
    "!cp -r /workspace/gpt2_0801/gpt-2/checkpoint/run1/chec* /workspace/gpt2_0801/gpt-2/models/1e-6/"
   ]
  },
  {
   "cell_type": "markdown",
   "metadata": {},
   "source": [
    "then generation the prediction"
   ]
  },
  {
   "cell_type": "code",
   "execution_count": 1,
   "metadata": {},
   "outputs": [],
   "source": [
    "import importlib\n",
    "import os\n",
    "os.environ['CUDA_VISIBLE_DEVICES'] ='7'\n",
    "conditional_gen_dir = importlib.import_module(\"gpt-2.src.conditional_gen_dir\")\n",
    "save = importlib.import_module(\"gpt-2.src.save\")"
   ]
  },
  {
   "cell_type": "code",
   "execution_count": 3,
   "metadata": {},
   "outputs": [
    {
     "name": "stdout",
     "output_type": "stream",
     "text": [
      "saved gpt-2/models/20191008-scratch/checkpoint\n"
     ]
    },
    {
     "name": "stderr",
     "output_type": "stream",
     "text": [
      "100%|██████████| 32448/32448 [07:22<00:00, 73.32it/s]  \n"
     ]
    },
    {
     "name": "stdout",
     "output_type": "stream",
     "text": [
      "time spent in encoding 0:07:51.780895\n",
      "conserve 1500 test cases\n",
      "INFO:tensorflow:Restoring parameters from /workspace/gpt2_0801/gpt-2/models/20191008-scratch/model-36000\n"
     ]
    },
    {
     "name": "stderr",
     "output_type": "stream",
     "text": [
      "  0%|          | 0/1500 [00:00<?, ?it/s]"
     ]
    },
    {
     "name": "stdout",
     "output_type": "stream",
     "text": [
      "start decoding 2019-10-09 02:59:16.067368\n"
     ]
    },
    {
     "name": "stderr",
     "output_type": "stream",
     "text": [
      "  0%|          | 1/1500 [00:09<3:57:00,  9.49s/it]"
     ]
    },
    {
     "name": "stdout",
     "output_type": "stream",
     "text": [
      "make dir\n"
     ]
    },
    {
     "name": "stderr",
     "output_type": "stream",
     "text": [
      "100%|██████████| 1500/1500 [3:00:37<00:00,  5.34s/it] "
     ]
    },
    {
     "name": "stdout",
     "output_type": "stream",
     "text": [
      "time spent in decoding 3:00:37.699610\n"
     ]
    },
    {
     "name": "stderr",
     "output_type": "stream",
     "text": [
      "\n"
     ]
    }
   ],
   "source": [
    "to_write = 'model_checkpoint_path: \"model-36000\"\\n'\n",
    "foldername = '20191008-scratch'\n",
    "save.save('gpt-2/models/20191008-scratch/checkpoint', to_write, overwrite = True)\n",
    "conditional_gen_dir.interact_model(top_k = 3, \n",
    "                                   model_name = foldername, \n",
    "                                   filename = '/workspace/gpt2_0801/to_gpt2/recipe54k_0916/test/X/',\n",
    "                                   overwrite = True,\n",
    "                                   tag = '_%s'%(foldername),\n",
    "                                   max_document = 1500\n",
    "                                  )"
   ]
  },
  {
   "cell_type": "code",
   "execution_count": null,
   "metadata": {},
   "outputs": [],
   "source": [
    "os._exit(00)"
   ]
  },
  {
   "cell_type": "code",
   "execution_count": null,
   "metadata": {},
   "outputs": [],
   "source": [
    "to_write = 'model_checkpoint_path: \"model-4500\"\\n'\n",
    "save.save('gpt-2/models/style_1e-6/checkpoint', to_write, overwrite = True)\n",
    "conditional_gen_dir.interact_model(top_k = 3, \n",
    "                                   model_name = 'style_1e-6', \n",
    "                                   filename = '/workspace/gpt2_0801/to_gpt2/recipe54k_0925/test/X/',\n",
    "                                   overwrite = True,\n",
    "                                   tag = '_4k',\n",
    "                                   max_document = None,\n",
    "                                  )"
   ]
  },
  {
   "cell_type": "code",
   "execution_count": 9,
   "metadata": {},
   "outputs": [],
   "source": [
    "conditional_gen_web= importlib.import_module(\"gpt-2.src.conditional_gen_web\")"
   ]
  },
  {
   "cell_type": "code",
   "execution_count": 21,
   "metadata": {
    "collapsed": true,
    "jupyter": {
     "outputs_hidden": true
    }
   },
   "outputs": [
    {
     "name": "stdout",
     "output_type": "stream",
     "text": [
      "INFO:tensorflow:Restoring parameters from /workspace/gpt2_0801/gpt-2/models/117M_inference/model-309000\n",
      "processing file 0 \n",
      "<start-title> easy , crunchy hot dogs <end-title> <start-description> no need for a bun with these crispy flakes . the dogs are rolled in ketchup and mustard , then rolled in cornflake crumbs and baked . this is easy and delicious kids love them ! i grew up with these as my mother was diabetic and needed to cut down on bread ( buns ) so she made us kids these instead . for something different , try adding some parmesan cheese to corn flake crumb mixture . <end-description> <start-ingredients> 1/2 cup ketchup $ 1/4 cup prepared yellow mustard $ 1 cup cornflake crumbs $ 1 ( 16 ounce ) package all beef hot dogs $ <end-ingredients> <start-directions> \n",
      "\n",
      "**********\n",
      "iced tea $ 1 cup brown sugar $ 1/4 cup red wine vinegar $ 1 tablespoon worcestershire sauce $ 2 teaspoons ground cinnamon $ 1 teaspoon dry mustard $ 1 teaspoon paprika $ 1/2 teaspoon salt $ 1/4 teaspoon ground black pepper $ 1 ( 2 ounce ) package sliced almonds $ hot dogs $ 1/2 pound hot dog $ 2 pounds ground beef $ 1 egg , beaten $ 1/4 cup plain bread crumbs $ 1 tablespoon vegetable oil $ 4 lettuce leaves $ 1/4 cup cornflake crumbs , or to taste $ 1 ( 6 ounce ) can sliced pineapple , drained $ 1/2 red onion , finely chopped $ 8 slices bacon $ \n",
      "==========\n",
      "processing file 1 \n",
      "\n",
      "\n",
      "**********\n",
      "\n",
      "\n",
      "==========\n",
      "processing file 2 \n",
      "<start-title> easy , crunchy hot dogs <end-title> <start-description> no need for a bun with these crispy flakes . the dogs are rolled in ketchup and mustard , then rolled in cornflake crumbs and baked . this is easy and delicious kids love them ! i grew up with these as my mother was diabetic and needed to cut down on bread ( buns ) so she made us kids these instead . for something different , try adding some parmesan cheese to corn flake crumb mixture . <end-description> <start-directions> preheat oven to 350 degrees f ( 175 degrees c ) . line a baking sheet with a sheet of aluminum foil . stir together ketchup and mustard on a plate until mixed . place the cornflake crumbs in a shallow bowl . roll each hot dog in the ketchup mixture , then roll in the cornflake crumbs to coat . place onto prepared baking sheet . bake in preheated oven until the hot dogs are hot on the inside , and crispy on the outside , 15 to 20 minutes . <end-directions> <start-ingredients> \n",
      "\n",
      "**********\n",
      "iced tea $ 1 cup brewed black tea (ithau ) $ 1 cup unsweetened almond milk $ hot chocolate mix $ 1/2 cup semisweet chocolate chips $ 1 cup vanilla yogurt $ ground cinnamon to taste $ honey $ 3 tablespoons unsalted butter $ 1/2 cup honey $ 3 tablespoons light brown sugar $ 1 tablespoon vanilla extract $ 1 tablespoon vodka $ 2 teaspoons unsweetened cocoa powder $ 1 teaspoon ground cinnamon $ toothpicks $ 1/2 cup confectioners sugar for dusting $ \n",
      "==========\n",
      "processing file 3 \n",
      "\n",
      "\n",
      "**********\n",
      "\n",
      "\n",
      "==========\n",
      "processing file 4 \n",
      "<start-title> easy , crunchy hot dogs <end-title> <start-ingredients> 1/2 cup ketchup $ 1/4 cup prepared yellow mustard $ 1 cup cornflake crumbs $ 1 ( 16 ounce ) package all beef hot dogs $ <end-ingredients> <start-directions> preheat oven to 350 degrees f ( 175 degrees c ) . line a baking sheet with a sheet of aluminum foil . stir together ketchup and mustard on a plate until mixed . place the cornflake crumbs in a shallow bowl . roll each hot dog in the ketchup mixture , then roll in the cornflake crumbs to coat . place onto prepared baking sheet . bake in preheated oven until the hot dogs are hot on the inside , and crispy on the outside , 15 to 20 minutes . <end-directions> <start-description> \n",
      "\n",
      "**********\n",
      "iced , quick breakfast soda \n",
      "==========\n",
      "processing file 5 \n",
      "\n",
      "\n",
      "**********\n",
      "\n",
      "\n",
      "==========\n",
      "processing file 6 \n",
      "<start-description> no need for a bun with these crispy flakes . the dogs are rolled in ketchup and mustard , then rolled in cornflake crumbs and baked . this is easy and delicious kids love them ! i grew up with these as my mother was diabetic and needed to cut down on bread ( buns ) so she made us kids these instead . for something different , try adding some parmesan cheese to corn flake crumb mixture . <end-description> <start-ingredients> 1/2 cup ketchup $ 1/4 cup prepared yellow mustard $ 1 cup cornflake crumbs $ 1 ( 16 ounce ) package all beef hot dogs $ <end-ingredients> <start-directions> preheat oven to 350 degrees f ( 175 degrees c ) . line a baking sheet with a sheet of aluminum foil . stir together ketchup and mustard on a plate until mixed . place the cornflake crumbs in a shallow bowl . roll each hot dog in the ketchup mixture , then roll in the cornflake crumbs to coat . place onto prepared baking sheet . bake in preheated oven until the hot dogs are hot on the inside , and crispy on the outside , 15 to 20 minutes . <end-directions> <start-title> \n",
      "\n",
      "**********\n",
      "ian s favorite hot dog \n",
      "==========\n",
      "processing file 7 \n",
      "\n",
      "\n",
      "**********\n",
      "\n",
      "\n",
      "==========\n",
      "processing file 8 \n",
      "<start-title> vegan broccoli hazelnut spread <end-title> <start-description> this healthy vegan spread tastes great . if you add more olive oil , you can also eat it as a side to potatoes or over pasta . <end-description> <start-ingredients> 3 tablespoons olive oil , divided , or more as needed $ 1 shallot , minced $ 3/4 cup chopped hazelnuts $ 2 3/4 cups broccoli florets $ 1 tablespoon finely chopped fresh parsley $ 1 teaspoon chopped fresh dill $ 1 pinch salt and freshly ground black pepper to taste $ 1 pinch ground nutmeg $ <end-ingredients> <start-directions> \n",
      "\n",
      "**********\n",
      "iced tea $ 1 cup brewed black tea ( tea of carbonidian ) , cold $ 1 cup cold almond milk $ 1/2 cup ice cubes , or as needed $ 1 fluid ounce coconut flavored rum ( such as bacardi ) $ 1/2 fluid ounce blue curacao liqueur ( chilled boba lique ) $ \n",
      "==========\n",
      "processing file 9 \n",
      "\n",
      "\n",
      "**********\n",
      "\n",
      "\n",
      "==========\n",
      "processing file 10 \n",
      "<start-title> vegan broccoli hazelnut spread <end-title> <start-description> this healthy vegan spread tastes great . if you add more olive oil , you can also eat it as a side to potatoes or over pasta . <end-description> <start-directions> heat 1 tablespoon olive oil in a skillet and cook shallot until soft and translucent , about 5 minutes . add hazelnuts and cook until toasted , about 2 minutes . remove from heat and cool for 10 minutes . meanwhile , bring a pot of lightly salted water to a boil and cook broccoli until softened , about 3 minutes . drain and rinse under cold water . drain well . combine shallot hazelnut mixture , broccoli , parsley , and dill in the bowl of a food processor pulse until blended . pour 2 tablespoons olive oil in slowly , with the processor running , until spread is smooth . add more olive oil if needed . season with salt , pepper , and nutmeg . <end-directions> <start-ingredients> \n",
      "\n",
      "**********\n",
      "iced tea $ 1 tablespoon hot water , or as needed $ non stick cooking spray $ 1 tablespoon ground flaxseed meal $ 2 3/4 cups high protein crisp rice and wheat cereal $ 1/2 cup grapeseed oil $ 1/2 cup honey $ 4 scoops chocolate chips $ non stick cooking spray $ \n",
      "==========\n",
      "processing file 11 \n",
      "\n",
      "\n",
      "**********\n",
      "\n",
      "\n",
      "==========\n",
      "processing file 12 \n",
      "<start-title> vegan broccoli hazelnut spread <end-title> <start-ingredients> 3 tablespoons olive oil , divided , or more as needed $ 1 shallot , minced $ 3/4 cup chopped hazelnuts $ 2 3/4 cups broccoli florets $ 1 tablespoon finely chopped fresh parsley $ 1 teaspoon chopped fresh dill $ 1 pinch salt and freshly ground black pepper to taste $ 1 pinch ground nutmeg $ <end-ingredients> <start-directions> heat 1 tablespoon olive oil in a skillet and cook shallot until soft and translucent , about 5 minutes . add hazelnuts and cook until toasted , about 2 minutes . remove from heat and cool for 10 minutes . meanwhile , bring a pot of lightly salted water to a boil and cook broccoli until softened , about 3 minutes . drain and rinse under cold water . drain well . combine shallot hazelnut mixture , broccoli , parsley , and dill in the bowl of a food processor pulse until blended . pour 2 tablespoons olive oil in slowly , with the processor running , until spread is smooth . add more olive oil if needed . season with salt , pepper , and nutmeg . <end-directions> <start-description> \n",
      "\n",
      "**********\n",
      "iced hazelnut spread in a small microwave safe bowl , combine hazelnut spread , honey mustard , and cayenne pepper together in a bowl . set aside . combine mayonnaise , cream cheese , 1/3 cup of cilantro , 1/2 cup of the chopped cilantro , lemon juice , garlic , chili powder , and cumin in a bowl . fold in broccoli , hazelnut spread , mayonnaise mixture , and grapes . cover and refrigerate for 2 hours . \n",
      "==========\n",
      "processing file 13 \n",
      "\n",
      "\n",
      "**********\n",
      "\n",
      "\n",
      "==========\n",
      "processing file 14 \n",
      "<start-description> this healthy vegan spread tastes great . if you add more olive oil , you can also eat it as a side to potatoes or over pasta . <end-description> <start-ingredients> 3 tablespoons olive oil , divided , or more as needed $ 1 shallot , minced $ 3/4 cup chopped hazelnuts $ 2 3/4 cups broccoli florets $ 1 tablespoon finely chopped fresh parsley $ 1 teaspoon chopped fresh dill $ 1 pinch salt and freshly ground black pepper to taste $ 1 pinch ground nutmeg $ <end-ingredients> <start-directions> heat 1 tablespoon olive oil in a skillet and cook shallot until soft and translucent , about 5 minutes . add hazelnuts and cook until toasted , about 2 minutes . remove from heat and cool for 10 minutes . meanwhile , bring a pot of lightly salted water to a boil and cook broccoli until softened , about 3 minutes . drain and rinse under cold water . drain well . combine shallot hazelnut mixture , broccoli , parsley , and dill in the bowl of a food processor pulse until blended . pour 2 tablespoons olive oil in slowly , with the processor running , until spread is smooth . add more olive oil if needed . season with salt , pepper , and nutmeg . <end-directions> <start-title> \n",
      "\n",
      "**********\n",
      "iced hazelnut , nut , and gluten free homemade patsies \n",
      "==========\n",
      "processing file 15 \n",
      "\n",
      "\n",
      "**********\n",
      "\n",
      "\n",
      "==========\n",
      "processing file 16 \n",
      "<start-title> mom s creamy tortellini tomato soup <end-title> <start-description> this is a creamy , rich , delicious soup . most of the people i cook for are very picky and this one turned out to be a crowd pleaser . serve with fresh italian bread on a cold winter s night ! this soup would be great with either chicken or even meatballs instead of sausage that just happened to be what i had on hand that particular day . <end-description> <start-ingredients> 1 tablespoon olive oil $ 6 sweet italian pork sausage links , casings removed $ 3 cloves garlic , chopped $ 1/2 cup butter $ 3/4 cup all purpose flour $ 1/2 teaspoon salt $ 1/2 teaspoon ground black pepper $ 3 cups chicken broth $ 1/2 cup red wine $ 1 ( 28 ounce ) can crushed tomatoes $ 1 ( 1 ounce ) package dry onion soup mix $ 1 ( . 75 ounce ) packet fresh basil leaves , torn $ 2 ( 9 ounce ) packages frozen tri color cheese tortellini $ 2 cups half and half $ 1 tablespoon grated parmesan cheese , or to taste $ <end-ingredients> <start-directions> \n",
      "\n",
      "**********\n",
      "iced steaks grill as they re cut in thickness at the center on each side , turning degrees degrees as they re grilling . grill for about 20 minutes or until desired doneness . let rest for 10 minutes before slicing into thin rounds . \n",
      "==========\n",
      "processing file 17 \n",
      "\n",
      "\n",
      "**********\n",
      "\n",
      "\n",
      "==========\n",
      "processing file 18 \n",
      "<start-title> mom s creamy tortellini tomato soup <end-title> <start-description> this is a creamy , rich , delicious soup . most of the people i cook for are very picky and this one turned out to be a crowd pleaser . serve with fresh italian bread on a cold winter s night ! this soup would be great with either chicken or even meatballs instead of sausage that just happened to be what i had on hand that particular day . <end-description> <start-directions> heat olive oil in a skillet over medium high heat cook and stir sausage and garlic until sausage is crumbly , evenly browned , and no longer pink . drain and discard any excess grease . melt butter in a large stock pot over medium heat whisk in flour , salt , and black pepper until smooth . gradually whisk in chicken broth and red wine . stir in tomatoes and onion soup mix . simmer until thickened and flavors have blended , 10 to 15 minutes . stir in cooked sausage and basil . continue to simmer for 45 minutes , stirring occasionally . stir tortellini into soup simmer until tortellini are tender , about 15 minutes . add half and half , stirring until soup is hot , about 5 minutes more . serve in large bowls and sprinkle with parmesan cheese . <end-directions> <start-ingredients> \n",
      "\n",
      "**********\n",
      "iced tea $ 1 tablespoon freshly ground black tea leaves $ 1/2 teaspoon sweet juice ( optional ) $ 3/4 cup unsweetened pineapple juice $ 2 fluid ounces tequila ( such as change of lime ) $ 1 fluid ounce or rum $ 1/2 fluid ounce or rum $ 1 cup oil for frying , or as needed $ wonton wrappers $ 1 quart vegetable oil for frying $ 2 1/2 cups confectioners sugar , or as needed $ 1 cup finely chopped toasted pecans $ 1 cup coarsely chopped raisins $ 1/4 cup dulce de leche $ \n",
      "==========\n",
      "processing file 19 \n",
      "\n",
      "\n",
      "**********\n",
      "\n",
      "\n",
      "==========\n",
      "processing file 20 \n",
      "<start-title> mom s creamy tortellini tomato soup <end-title> <start-ingredients> 1 tablespoon olive oil $ 6 sweet italian pork sausage links , casings removed $ 3 cloves garlic , chopped $ 1/2 cup butter $ 3/4 cup all purpose flour $ 1/2 teaspoon salt $ 1/2 teaspoon ground black pepper $ 3 cups chicken broth $ 1/2 cup red wine $ 1 ( 28 ounce ) can crushed tomatoes $ 1 ( 1 ounce ) package dry onion soup mix $ 1 ( . 75 ounce ) packet fresh basil leaves , torn $ 2 ( 9 ounce ) packages frozen tri color cheese tortellini $ 2 cups half and half $ 1 tablespoon grated parmesan cheese , or to taste $ <end-ingredients> <start-directions> heat olive oil in a skillet over medium high heat cook and stir sausage and garlic until sausage is crumbly , evenly browned , and no longer pink . drain and discard any excess grease . melt butter in a large stock pot over medium heat whisk in flour , salt , and black pepper until smooth . gradually whisk in chicken broth and red wine . stir in tomatoes and onion soup mix . simmer until thickened and flavors have blended , 10 to 15 minutes . stir in cooked sausage and basil . continue to simmer for 45 minutes , stirring occasionally . stir tortellini into soup simmer until tortellini are tender , about 15 minutes . add half and half , stirring until soup is hot , about 5 minutes more . serve in large bowls and sprinkle with parmesan cheese . <end-directions> <start-description> \n",
      "\n",
      "**********\n",
      "icedraleno italiano \n",
      "==========\n",
      "processing file 21 \n",
      "\n",
      "\n",
      "**********\n",
      "\n",
      "\n",
      "==========\n"
     ]
    },
    {
     "ename": "KeyboardInterrupt",
     "evalue": "",
     "output_type": "error",
     "traceback": [
      "\u001b[0;31m---------------------------------------------------------------------------\u001b[0m",
      "\u001b[0;31mKeyboardInterrupt\u001b[0m                         Traceback (most recent call last)",
      "\u001b[0;32m<ipython-input-21-7bb7a89c0194>\u001b[0m in \u001b[0;36m<module>\u001b[0;34m\u001b[0m\n\u001b[1;32m      4\u001b[0m                                       \u001b[0mnrecipes\u001b[0m \u001b[0;34m=\u001b[0m \u001b[0;36m4000\u001b[0m\u001b[0;34m,\u001b[0m\u001b[0;34m\u001b[0m\u001b[0m\n\u001b[1;32m      5\u001b[0m                                       \u001b[0moverwrite\u001b[0m \u001b[0;34m=\u001b[0m \u001b[0;32mTrue\u001b[0m\u001b[0;34m,\u001b[0m\u001b[0;34m\u001b[0m\u001b[0m\n\u001b[0;32m----> 6\u001b[0;31m                                       divisor = 1)\n\u001b[0m\u001b[1;32m      7\u001b[0m \u001b[0;31m# restart the kernel to release the memory usuage\u001b[0m\u001b[0;34m\u001b[0m\u001b[0;34m\u001b[0m\u001b[0m\n\u001b[1;32m      8\u001b[0m \u001b[0mos\u001b[0m\u001b[0;34m.\u001b[0m\u001b[0m_exit\u001b[0m\u001b[0;34m(\u001b[0m\u001b[0;36m00\u001b[0m\u001b[0;34m)\u001b[0m\u001b[0;34m\u001b[0m\u001b[0m\n",
      "\u001b[0;32m/workspace/gpt2_0801/gpt-2/src/conditional_gen_helena.py\u001b[0m in \u001b[0;36minteract_model\u001b[0;34m(model_name, seed, nsamples, batch_size, length, temperature, top_k, top_p, filename, nrecipes, overwrite, divisor)\u001b[0m\n\u001b[1;32m     89\u001b[0m                         \u001b[0;32mfor\u001b[0m \u001b[0m_\u001b[0m \u001b[0;32min\u001b[0m \u001b[0mrange\u001b[0m\u001b[0;34m(\u001b[0m\u001b[0mnsamples\u001b[0m \u001b[0;34m//\u001b[0m \u001b[0mbatch_size\u001b[0m\u001b[0;34m)\u001b[0m\u001b[0;34m:\u001b[0m\u001b[0;34m\u001b[0m\u001b[0m\n\u001b[1;32m     90\u001b[0m                             out = sess.run(output, feed_dict={\n\u001b[0;32m---> 91\u001b[0;31m                                 \u001b[0mcontext\u001b[0m\u001b[0;34m:\u001b[0m \u001b[0;34m[\u001b[0m\u001b[0mcontext_tokens\u001b[0m \u001b[0;32mfor\u001b[0m \u001b[0m_\u001b[0m \u001b[0;32min\u001b[0m \u001b[0mrange\u001b[0m\u001b[0;34m(\u001b[0m\u001b[0mbatch_size\u001b[0m\u001b[0;34m)\u001b[0m\u001b[0;34m]\u001b[0m\u001b[0;34m\u001b[0m\u001b[0m\n\u001b[0m\u001b[1;32m     92\u001b[0m                             })[:, len(context_tokens):]\n\u001b[1;32m     93\u001b[0m \u001b[0;34m\u001b[0m\u001b[0m\n",
      "\u001b[0;32m/usr/local/lib/python3.5/dist-packages/tensorflow/python/client/session.py\u001b[0m in \u001b[0;36mrun\u001b[0;34m(self, fetches, feed_dict, options, run_metadata)\u001b[0m\n\u001b[1;32m    927\u001b[0m     \u001b[0;32mtry\u001b[0m\u001b[0;34m:\u001b[0m\u001b[0;34m\u001b[0m\u001b[0m\n\u001b[1;32m    928\u001b[0m       result = self._run(None, fetches, feed_dict, options_ptr,\n\u001b[0;32m--> 929\u001b[0;31m                          run_metadata_ptr)\n\u001b[0m\u001b[1;32m    930\u001b[0m       \u001b[0;32mif\u001b[0m \u001b[0mrun_metadata\u001b[0m\u001b[0;34m:\u001b[0m\u001b[0;34m\u001b[0m\u001b[0m\n\u001b[1;32m    931\u001b[0m         \u001b[0mproto_data\u001b[0m \u001b[0;34m=\u001b[0m \u001b[0mtf_session\u001b[0m\u001b[0;34m.\u001b[0m\u001b[0mTF_GetBuffer\u001b[0m\u001b[0;34m(\u001b[0m\u001b[0mrun_metadata_ptr\u001b[0m\u001b[0;34m)\u001b[0m\u001b[0;34m\u001b[0m\u001b[0m\n",
      "\u001b[0;32m/usr/local/lib/python3.5/dist-packages/tensorflow/python/client/session.py\u001b[0m in \u001b[0;36m_run\u001b[0;34m(self, handle, fetches, feed_dict, options, run_metadata)\u001b[0m\n\u001b[1;32m   1150\u001b[0m     \u001b[0;32mif\u001b[0m \u001b[0mfinal_fetches\u001b[0m \u001b[0;32mor\u001b[0m \u001b[0mfinal_targets\u001b[0m \u001b[0;32mor\u001b[0m \u001b[0;34m(\u001b[0m\u001b[0mhandle\u001b[0m \u001b[0;32mand\u001b[0m \u001b[0mfeed_dict_tensor\u001b[0m\u001b[0;34m)\u001b[0m\u001b[0;34m:\u001b[0m\u001b[0;34m\u001b[0m\u001b[0m\n\u001b[1;32m   1151\u001b[0m       results = self._do_run(handle, final_targets, final_fetches,\n\u001b[0;32m-> 1152\u001b[0;31m                              feed_dict_tensor, options, run_metadata)\n\u001b[0m\u001b[1;32m   1153\u001b[0m     \u001b[0;32melse\u001b[0m\u001b[0;34m:\u001b[0m\u001b[0;34m\u001b[0m\u001b[0m\n\u001b[1;32m   1154\u001b[0m       \u001b[0mresults\u001b[0m \u001b[0;34m=\u001b[0m \u001b[0;34m[\u001b[0m\u001b[0;34m]\u001b[0m\u001b[0;34m\u001b[0m\u001b[0m\n",
      "\u001b[0;32m/usr/local/lib/python3.5/dist-packages/tensorflow/python/client/session.py\u001b[0m in \u001b[0;36m_do_run\u001b[0;34m(self, handle, target_list, fetch_list, feed_dict, options, run_metadata)\u001b[0m\n\u001b[1;32m   1326\u001b[0m     \u001b[0;32mif\u001b[0m \u001b[0mhandle\u001b[0m \u001b[0;32mis\u001b[0m \u001b[0;32mNone\u001b[0m\u001b[0;34m:\u001b[0m\u001b[0;34m\u001b[0m\u001b[0m\n\u001b[1;32m   1327\u001b[0m       return self._do_call(_run_fn, feeds, fetches, targets, options,\n\u001b[0;32m-> 1328\u001b[0;31m                            run_metadata)\n\u001b[0m\u001b[1;32m   1329\u001b[0m     \u001b[0;32melse\u001b[0m\u001b[0;34m:\u001b[0m\u001b[0;34m\u001b[0m\u001b[0m\n\u001b[1;32m   1330\u001b[0m       \u001b[0;32mreturn\u001b[0m \u001b[0mself\u001b[0m\u001b[0;34m.\u001b[0m\u001b[0m_do_call\u001b[0m\u001b[0;34m(\u001b[0m\u001b[0m_prun_fn\u001b[0m\u001b[0;34m,\u001b[0m \u001b[0mhandle\u001b[0m\u001b[0;34m,\u001b[0m \u001b[0mfeeds\u001b[0m\u001b[0;34m,\u001b[0m \u001b[0mfetches\u001b[0m\u001b[0;34m)\u001b[0m\u001b[0;34m\u001b[0m\u001b[0m\n",
      "\u001b[0;32m/usr/local/lib/python3.5/dist-packages/tensorflow/python/client/session.py\u001b[0m in \u001b[0;36m_do_call\u001b[0;34m(self, fn, *args)\u001b[0m\n\u001b[1;32m   1332\u001b[0m   \u001b[0;32mdef\u001b[0m \u001b[0m_do_call\u001b[0m\u001b[0;34m(\u001b[0m\u001b[0mself\u001b[0m\u001b[0;34m,\u001b[0m \u001b[0mfn\u001b[0m\u001b[0;34m,\u001b[0m \u001b[0;34m*\u001b[0m\u001b[0margs\u001b[0m\u001b[0;34m)\u001b[0m\u001b[0;34m:\u001b[0m\u001b[0;34m\u001b[0m\u001b[0m\n\u001b[1;32m   1333\u001b[0m     \u001b[0;32mtry\u001b[0m\u001b[0;34m:\u001b[0m\u001b[0;34m\u001b[0m\u001b[0m\n\u001b[0;32m-> 1334\u001b[0;31m       \u001b[0;32mreturn\u001b[0m \u001b[0mfn\u001b[0m\u001b[0;34m(\u001b[0m\u001b[0;34m*\u001b[0m\u001b[0margs\u001b[0m\u001b[0;34m)\u001b[0m\u001b[0;34m\u001b[0m\u001b[0m\n\u001b[0m\u001b[1;32m   1335\u001b[0m     \u001b[0;32mexcept\u001b[0m \u001b[0merrors\u001b[0m\u001b[0;34m.\u001b[0m\u001b[0mOpError\u001b[0m \u001b[0;32mas\u001b[0m \u001b[0me\u001b[0m\u001b[0;34m:\u001b[0m\u001b[0;34m\u001b[0m\u001b[0m\n\u001b[1;32m   1336\u001b[0m       \u001b[0mmessage\u001b[0m \u001b[0;34m=\u001b[0m \u001b[0mcompat\u001b[0m\u001b[0;34m.\u001b[0m\u001b[0mas_text\u001b[0m\u001b[0;34m(\u001b[0m\u001b[0me\u001b[0m\u001b[0;34m.\u001b[0m\u001b[0mmessage\u001b[0m\u001b[0;34m)\u001b[0m\u001b[0;34m\u001b[0m\u001b[0m\n",
      "\u001b[0;32m/usr/local/lib/python3.5/dist-packages/tensorflow/python/client/session.py\u001b[0m in \u001b[0;36m_run_fn\u001b[0;34m(feed_dict, fetch_list, target_list, options, run_metadata)\u001b[0m\n\u001b[1;32m   1317\u001b[0m       \u001b[0mself\u001b[0m\u001b[0;34m.\u001b[0m\u001b[0m_extend_graph\u001b[0m\u001b[0;34m(\u001b[0m\u001b[0;34m)\u001b[0m\u001b[0;34m\u001b[0m\u001b[0m\n\u001b[1;32m   1318\u001b[0m       return self._call_tf_sessionrun(\n\u001b[0;32m-> 1319\u001b[0;31m           options, feed_dict, fetch_list, target_list, run_metadata)\n\u001b[0m\u001b[1;32m   1320\u001b[0m \u001b[0;34m\u001b[0m\u001b[0m\n\u001b[1;32m   1321\u001b[0m     \u001b[0;32mdef\u001b[0m \u001b[0m_prun_fn\u001b[0m\u001b[0;34m(\u001b[0m\u001b[0mhandle\u001b[0m\u001b[0;34m,\u001b[0m \u001b[0mfeed_dict\u001b[0m\u001b[0;34m,\u001b[0m \u001b[0mfetch_list\u001b[0m\u001b[0;34m)\u001b[0m\u001b[0;34m:\u001b[0m\u001b[0;34m\u001b[0m\u001b[0m\n",
      "\u001b[0;32m/usr/local/lib/python3.5/dist-packages/tensorflow/python/client/session.py\u001b[0m in \u001b[0;36m_call_tf_sessionrun\u001b[0;34m(self, options, feed_dict, fetch_list, target_list, run_metadata)\u001b[0m\n\u001b[1;32m   1405\u001b[0m     return tf_session.TF_SessionRun_wrapper(\n\u001b[1;32m   1406\u001b[0m         \u001b[0mself\u001b[0m\u001b[0;34m.\u001b[0m\u001b[0m_session\u001b[0m\u001b[0;34m,\u001b[0m \u001b[0moptions\u001b[0m\u001b[0;34m,\u001b[0m \u001b[0mfeed_dict\u001b[0m\u001b[0;34m,\u001b[0m \u001b[0mfetch_list\u001b[0m\u001b[0;34m,\u001b[0m \u001b[0mtarget_list\u001b[0m\u001b[0;34m,\u001b[0m\u001b[0;34m\u001b[0m\u001b[0m\n\u001b[0;32m-> 1407\u001b[0;31m         run_metadata)\n\u001b[0m\u001b[1;32m   1408\u001b[0m \u001b[0;34m\u001b[0m\u001b[0m\n\u001b[1;32m   1409\u001b[0m   \u001b[0;32mdef\u001b[0m \u001b[0m_call_tf_sessionprun\u001b[0m\u001b[0;34m(\u001b[0m\u001b[0mself\u001b[0m\u001b[0;34m,\u001b[0m \u001b[0mhandle\u001b[0m\u001b[0;34m,\u001b[0m \u001b[0mfeed_dict\u001b[0m\u001b[0;34m,\u001b[0m \u001b[0mfetch_list\u001b[0m\u001b[0;34m)\u001b[0m\u001b[0;34m:\u001b[0m\u001b[0;34m\u001b[0m\u001b[0m\n",
      "\u001b[0;31mKeyboardInterrupt\u001b[0m: "
     ]
    }
   ],
   "source": [
    "conditional_gen_helena.interact_model(top_p = 0.9, \n",
    "                                      model_name = '117M_inference', \n",
    "                                      filename = '/workspace/gpt2_0801/to_gpt2/recipe54k_0724.X_test.txt',\n",
    "                                      nrecipes = 4000,\n",
    "                                      overwrite = True,\n",
    "                                      divisor = 1)\n",
    "# restart the kernel to release the memory usuage\n",
    "os._exit(00)"
   ]
  },
  {
   "cell_type": "code",
   "execution_count": 1,
   "metadata": {},
   "outputs": [],
   "source": [
    "import importlib\n",
    "import os\n",
    "os.environ['CUDA_VISIBLE_DEVICES'] ='7'\n",
    "conditional_gen_web= importlib.import_module(\"gpt-2.src.conditional_gen_web\")"
   ]
  },
  {
   "cell_type": "code",
   "execution_count": 2,
   "metadata": {},
   "outputs": [],
   "source": [
    "raw_text = '<start-title> polenta and vegetable casserole <end-title> <start-directions> preheat oven to 350 degrees f ( 175 degrees c ) . lightly oil a 9x13 inch baking dish . heat oil in a skillet over medium heat . cook and stir onion , green pepper , eggplant , and mushrooms in oil until soft . mix in fajita seasoning . line prepared baking dish with slices of polenta . spread beans and corn evenly over the polenta , and then spread onion mixture over the beans . top with salsa , mozzarella cheese and black olives . bake until heated through , about 20 minutes . <end-directions> <start-ingredients> <start-title> polenta and vegetable casserole <end-title> <start-description> this is an excellent polenta recipe with a mexican kick ! ! <end-description> <start-directions> preheat oven to 350 degrees f ( 175 degrees c ) . lightly oil a 9x13 inch baking dish . heat oil in a skillet over medium heat . cook and stir onion , green pepper , eggplant , and mushrooms in oil until soft . mix in fajita seasoning . line prepared baking dish with slices of polenta . spread beans and corn evenly over the polenta , and then spread onion mixture over the beans . top with salsa , mozzarella cheese and black olives . bake until heated through , about 20 minutes . <end-directions> <start-ingredients> '"
   ]
  },
  {
   "cell_type": "code",
   "execution_count": 3,
   "metadata": {},
   "outputs": [
    {
     "name": "stdout",
     "output_type": "stream",
     "text": [
      "INFO:tensorflow:Restoring parameters from /workspace/gpt2_0801/gpt-2/models/20191010-1M/model-1513500\n"
     ]
    },
    {
     "data": {
      "text/plain": [
       "'iagata polenta, 2 1/4 cups total$1 cup frozen corn kernels$1 cup prepared salsa$1 large onion, diced$1 large green bell pepper, diced$1 large eggplant, diced$12 ounces sliced fresh mushrooms$2 tablespoons fajita seasoning, from a packet$1 can black beans, drained and rinsed$12 cup pitted black olives$2 cups prepared polenta$2 cups mozzarella cheese, shredded$1 jar prepared salsa$1 can sliced black olives$ '"
      ]
     },
     "execution_count": 3,
     "metadata": {},
     "output_type": "execute_result"
    }
   ],
   "source": [
    "conditional_gen_web.interact_model(top_k = 3, raw_text = raw_text, model_name = '20191010-1M')"
   ]
  },
  {
   "cell_type": "code",
   "execution_count": 2,
   "metadata": {},
   "outputs": [],
   "source": [
    "raw_text = '<start-title> ribollita <end-title> <start-ingredients> 2 3/4 cups cannellini beans , soaked in water for 12 hours $ water to cover $ salt to taste $ 2 tablespoons extra virgin olive oil $ 1 small onion , finely chopped $ 1 rib celery , finely chopped $ 1 carrot , finely chopped $ 2 potatoes , peeled and coarsely chopped $ 10 ounces coarsely chopped kale $ 10 ounces coarsely chopped swiss chard $ 10 ounces coarsely chopped savoy cabbage $ 1 ( 7 ounce ) can tomato puree ( passata ) $ salt and ground black pepper to taste $ 1 loaf stale tuscan bread $ <end-ingredients> <start-directions>'"
   ]
  },
  {
   "cell_type": "code",
   "execution_count": 17,
   "metadata": {},
   "outputs": [],
   "source": [
    "raw_text = '<start-title> easy , crunchy hot dogs <end-title> <start-ingredients> 1/2 cup ketchup $ 1/4 cup prepared yellow mustard $ 1 cup cornflake crumbs $ 1 ( 16 ounce ) package all beef hot dogs $ <end-ingredients> <start-directions>'"
   ]
  },
  {
   "cell_type": "code",
   "execution_count": 20,
   "metadata": {},
   "outputs": [],
   "source": [
    "raw_text = '<start-title> easy , crunchy hot dogs <end-title> <start-ingredients> 1/2 cup ketchup $ 1/4 cup prepared yellow mustard $ 1 cup cornflake crumbs $ 1 ( 16 ounce ) package all beef hot dogs $ <end-ingredients> <start-directions> '"
   ]
  },
  {
   "cell_type": "code",
   "execution_count": 21,
   "metadata": {},
   "outputs": [
    {
     "name": "stdout",
     "output_type": "stream",
     "text": [
      "INFO:tensorflow:Restoring parameters from /workspace/gpt2_0801/gpt-2/models/1e-6/model-1221000\n"
     ]
    },
    {
     "data": {
      "text/plain": [
       "'ive the recipe of a foodie . mix together all beef hot dogs , ketchup , mustard and crumbs . place in a resealable bag , seal , and shake to mix . serve with your favorite toppings . '"
      ]
     },
     "execution_count": 21,
     "metadata": {},
     "output_type": "execute_result"
    }
   ],
   "source": [
    "conditional_gen_web.interact_model(top_k = 3, raw_text = raw_text, model_name = '1e-6')"
   ]
  },
  {
   "cell_type": "code",
   "execution_count": 2,
   "metadata": {},
   "outputs": [],
   "source": [
    "raw_text = '<start-ingredients> 1 ( 16 ounce ) tube polenta , cut into 1/2 inch slices $ 1 ( 16 ounce ) can black beans $ 1 ( 15 ounce ) can kidney beans $ 1 ( 10 ounce ) can whole kernel corn $ 1 onion , chopped $ 1 green bell pepper , chopped $ 1 small eggplant , peeled and cubed $ 6 fresh mushrooms , chopped $ 1 ( 1 . 27 ounce ) packet dry fajita seasoning $ 1 ( 8 ounce ) jar salsa $ 1 cup shredded mozzarella cheese $ 1/3 cup black olives $ <end-ingredients> <start-directions> preheat oven to 350 degrees f ( 175 degrees c ) . lightly oil a 9x13 inch baking dish . heat oil in a skillet over medium heat . cook and stir onion , green pepper , eggplant , and mushrooms in oil until soft . mix in fajita seasoning . line prepared baking dish with slices of polenta . spread beans and corn evenly over the polenta , and then spread onion mixture over the beans . top with salsa , mozzarella cheese and black olives . bake until heated through , about 20 minutes . <end-directions> <start-title> '"
   ]
  },
  {
   "cell_type": "code",
   "execution_count": 4,
   "metadata": {},
   "outputs": [
    {
     "name": "stdout",
     "output_type": "stream",
     "text": [
      "INFO:tensorflow:Restoring parameters from /workspace/gpt2_0801/gpt-2/models/117M_inference/model-309000\n"
     ]
    },
    {
     "data": {
      "text/plain": [
       "'iced bean and corn salsa '"
      ]
     },
     "execution_count": 4,
     "metadata": {},
     "output_type": "execute_result"
    }
   ],
   "source": [
    "conditional_gen_web.interact_model(top_p = 0.9, raw_text = raw_text, model_name = '117M_inference')"
   ]
  },
  {
   "cell_type": "markdown",
   "metadata": {},
   "source": [
    "### training set"
   ]
  },
  {
   "cell_type": "code",
   "execution_count": 14,
   "metadata": {},
   "outputs": [
    {
     "name": "stdout",
     "output_type": "stream",
     "text": [
      "INFO:tensorflow:Restoring parameters from /workspace/gpt2_0801/gpt-2/models/117M_inference/model-309000\n"
     ]
    },
    {
     "data": {
      "text/plain": [
       "' 1 ( 15 ounce ) can mackerel , drained and rinsed $ 1 ( 10 . 75 ounce ) can tomato soup $ 1 ( 10 . 75 ounce ) can tomato juice $ 1 ( 10 ounce ) container small curd cottage cheese $ 3/4 cup cooked white or brown rice $ 2 hard cooked eggs , sliced 1/8 inch thick $ 1 1/2 cups low fat mayonnaise $ 2 tablespoons extra virgin olive oil $ 3 tablespoons white vinegar $ 2 tablespoons chopped fresh chives or green onion $ 1/2 teaspoon salt $ 1/2 teaspoon ground black pepper $ 1 cup seasoned bread crumbs $ '"
      ]
     },
     "execution_count": 14,
     "metadata": {},
     "output_type": "execute_result"
    }
   ],
   "source": [
    "raw_text = '<start-title> fish burger surprise <end-title> <start-directions> preheat oven to 400 degrees f ( 200 degrees c ) . line a baking sheet with aluminum foil and lightly grease . mash together the mackerel , tuna , and hominy in a large bowl until blended . add the eggs , olive oil , orange bell pepper , jalapeno pepper , onion , garlic , and prunes . season with salt , black pepper , and red pepper flakes . stir until evenly combined , then fold in the bread crumbs . form into 12 patties , and slightly flatten between your palms , place onto the prepared baking sheet . bake in preheated oven until hot and lightly browned , about 10 minutes . while the surprise burgers are baking , toast the whole wheat bread , and spread with honey mustard . place a lettuce leaf onto the mustard side of the bread . place each burger between two slices of bread to serve . serve either warm or cold . <end-directions> <start-ingredients>'\n",
    "conditional_gen_web.interact_model(top_p = 0.9, raw_text = raw_text, model_name = '117M_inference')"
   ]
  },
  {
   "cell_type": "code",
   "execution_count": 16,
   "metadata": {},
   "outputs": [
    {
     "name": "stdout",
     "output_type": "stream",
     "text": [
      "INFO:tensorflow:Restoring parameters from /workspace/gpt2_0801/gpt-2/models/117M_inference/model-309000\n"
     ]
    },
    {
     "data": {
      "text/plain": [
       "' drain the canned artichoke hearts and reserve about 1/4 cup juice . in a large skillet , brown the relish , tuna and peppers until onions are translucent . add garlic . add prunes , black pepper , onion and garlic mixture . heat until onion is soft . add bread crumbs . stuff the mixture into the pocket of the bread pan and spread evenly . sprinkle cheese over the top . serve immediately . '"
      ]
     },
     "execution_count": 16,
     "metadata": {},
     "output_type": "execute_result"
    }
   ],
   "source": [
    "raw_text = '<start-title> fish burger surprise <end-title> <start-ingredients> 1 ( 15 ounce ) can mackerel , drained $ 1 ( 12 ounce ) can tuna , drained $ 1 ( 15 . 5 ounce ) can white hominy , drained $ 2 eggs $ 1 tablespoon olive oil $ 1 orange bell pepper , seeded and chopped $ 10 jalapeno peppers , seeded and chopped $ 1/2 large onion , minced $ 1 tablespoon jarred minced garlic $ 12 pitted prunes , finely chopped $ 1 teaspoon sea salt $ 1/2 teaspoon ground black pepper $ 2 tablespoons crushed red pepper flakes $ 1 cup seasoned ( italian style ) breadcrumbs $ 24 slices whole wheat bread $ 1 cup honey mustard $ 24 leaf lettuce rinsed , dried and torn into bite size pieces $ <end-ingredients> <start-directions>'\n",
    "conditional_gen_web.interact_model(top_p = 0.9, raw_text = raw_text, model_name = '117M_inference')"
   ]
  },
  {
   "cell_type": "code",
   "execution_count": 17,
   "metadata": {},
   "outputs": [
    {
     "name": "stdout",
     "output_type": "stream",
     "text": [
      "INFO:tensorflow:Restoring parameters from /workspace/gpt2_0801/gpt-2/models/117M_inference/model-309000\n"
     ]
    },
    {
     "data": {
      "text/plain": [
       "' tuna surprise burgers '"
      ]
     },
     "execution_count": 17,
     "metadata": {},
     "output_type": "execute_result"
    }
   ],
   "source": [
    "raw_text = '<start-ingredients> 1 ( 15 ounce ) can mackerel , drained $ 1 ( 12 ounce ) can tuna , drained $ 1 ( 15 . 5 ounce ) can white hominy , drained $ 2 eggs $ 1 tablespoon olive oil $ 1 orange bell pepper , seeded and chopped $ 10 jalapeno peppers , seeded and chopped $ 1/2 large onion , minced $ 1 tablespoon jarred minced garlic $ 12 pitted prunes , finely chopped $ 1 teaspoon sea salt $ 1/2 teaspoon ground black pepper $ 2 tablespoons crushed red pepper flakes $ 1 cup seasoned ( italian style ) breadcrumbs $ 24 slices whole wheat bread $ 1 cup honey mustard $ 24 leaf lettuce rinsed , dried and torn into bite size pieces $ <end-ingredients> <start-directions> preheat oven to 400 degrees f ( 200 degrees c ) . line a baking sheet with aluminum foil and lightly grease . mash together the mackerel , tuna , and hominy in a large bowl until blended . add the eggs , olive oil , orange bell pepper , jalapeno pepper , onion , garlic , and prunes . season with salt , black pepper , and red pepper flakes . stir until evenly combined , then fold in the bread crumbs . form into 12 patties , and slightly flatten between your palms , place onto the prepared baking sheet . bake in preheated oven until hot and lightly browned , about 10 minutes . while the surprise burgers are baking , toast the whole wheat bread , and spread with honey mustard . place a lettuce leaf onto the mustard side of the bread . place each burger between two slices of bread to serve . serve either warm or cold . <end-directions> <start-title>'\n",
    "conditional_gen_web.interact_model(top_p = 0.9, raw_text = raw_text, model_name = '117M_inference')"
   ]
  },
  {
   "cell_type": "code",
   "execution_count": null,
   "metadata": {},
   "outputs": [],
   "source": []
  },
  {
   "cell_type": "markdown",
   "metadata": {},
   "source": [
    "### shrinkage the y_test to make its nrecipes(i.e. number of recipes) same as y_pred"
   ]
  },
  {
   "cell_type": "code",
   "execution_count": 9,
   "metadata": {},
   "outputs": [],
   "source": [
    "import os\n",
    "\n",
    "def save(filename, to_write, overwrite = False):\n",
    "    make_dir(filename)\n",
    "    if os.path.isfile(filename) == True and overwrite == False:\n",
    "        print('already exists'+filename)\n",
    "    else:    \n",
    "        with open(filename,'w') as f:\n",
    "            f.write('%s' % to_write)\n",
    "        print('saved '+filename)\n",
    "        \n",
    "def make_dir(filename):\n",
    "    dir_path = os.path.dirname(filename)\n",
    "    if not os.path.exists(dir_path):\n",
    "        os.makedirs(dir_path)\n",
    "        print('make dir')\n",
    "        \n",
    "def customized_y_test(nrecipes = 4000,\n",
    "                      filename = '',\n",
    "                      overwrite = False):\n",
    "    to_write =''\n",
    "    with open(filename, 'r') as f:\n",
    "        for j, raw_text in enumerate(f):\n",
    "            if j < nrecipes or nrecipes == -1:\n",
    "                if not j%2: \n",
    "                    text = raw_text.replace('\\n','')\n",
    "\n",
    "                # filter out \\n only sentences\n",
    "                else:\n",
    "                    text = '\\n'\n",
    "            else:\n",
    "                break\n",
    "            to_write+=text\n",
    "    save(filename.replace('y_test','y_test2'), to_write, overwrite)\n",
    "    "
   ]
  },
  {
   "cell_type": "code",
   "execution_count": 10,
   "metadata": {},
   "outputs": [
    {
     "name": "stdout",
     "output_type": "stream",
     "text": [
      "saved /workspace/gpt2_0801/to_gpt2/recipe54k_0724.y_test2.txt\n"
     ]
    }
   ],
   "source": [
    "customized_y_test(nrecipes=4000,\n",
    "                  filename='/workspace/gpt2_0801/to_gpt2/recipe54k_0724.y_test.txt',\n",
    "                  overwrite = False)"
   ]
  },
  {
   "cell_type": "code",
   "execution_count": 5,
   "metadata": {},
   "outputs": [],
   "source": [
    "filename='/workspace/gpt2_0801/to_gpt2/recipe54k_0724.X_test.txt'"
   ]
  },
  {
   "cell_type": "code",
   "execution_count": null,
   "metadata": {},
   "outputs": [],
   "source": [
    "with open(filename, 'r') as f:\n",
    "    to_write = ''\n",
    "    for j, raw_text in enumerate(f):\n",
    "        print(j, raw_text)\n",
    "        if j>5:\n",
    "            break"
   ]
  }
 ],
 "metadata": {
  "kernelspec": {
   "display_name": "Python 3",
   "language": "python",
   "name": "python3"
  },
  "language_info": {
   "codemirror_mode": {
    "name": "ipython",
    "version": 3
   },
   "file_extension": ".py",
   "mimetype": "text/x-python",
   "name": "python",
   "nbconvert_exporter": "python",
   "pygments_lexer": "ipython3",
   "version": "3.5.2"
  }
 },
 "nbformat": 4,
 "nbformat_minor": 4
}
